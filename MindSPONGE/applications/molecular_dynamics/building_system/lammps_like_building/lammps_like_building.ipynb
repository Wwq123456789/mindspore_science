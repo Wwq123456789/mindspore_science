{
 "cells": [
  {
   "cell_type": "markdown",
   "id": "846c5bf4",
   "metadata": {},
   "source": [
    "## 1. Import the forcefield\n",
    "\n",
    "Here, I will use the ions in tip3p. You need to use your own molecules which themselves can be built without errors."
   ]
  },
  {
   "cell_type": "code",
   "execution_count": 1,
   "id": "4ed8cff3",
   "metadata": {},
   "outputs": [
    {
     "name": "stdout",
     "output_type": "stream",
     "text": [
      "Reference for tip3p:\n",
      "1. Water:\n",
      "  William L. Jorgensen, Jayaraman Chandrasekhar, and Jeffry D. Madura\n",
      "    Comparison of simple potential functions for simulating liquid water\n",
      "    The Journal of Chemical Physics 1983 79, 926-935, \n",
      "    DOI: 10.1063/1.445869\n",
      "\n",
      "2. Li+, Na+, K+, Rb+, Cs+, F-, Cl-, Br-, I-:\n",
      "  In Suk Joung and Thomas E. Cheatham\n",
      "    Determination of Alkali and Halide Monovalent Ion Parameters for Use in Explicitly Solvated Biomolecular Simulations\n",
      "    The Journal of Physical Chemistry B 2008 112 (30), 9020-9041\n",
      "    DOI: 10.1021/jp8001614\n",
      "\n",
      "3. Ag+, Tl+, Cu+:\n",
      "  Pengfei Li, Lin Frank Song, and Kenneth M. Merz\n",
      "    Systematic Parameterization of Monovalent Ions Employing the Nonbonded Model\n",
      "    Journal of Chemical Theory and Computation 2015 11 (4), 1645-1657, \n",
      "    DOI: 10.1021/ct500918t\n",
      "    \n",
      "4. Divalent Ions(Ba2+, Mg2+...)\n",
      "  Pengfei Li and Kenneth M. Merz\n",
      "    Taking into Account the Ion-Induced Dipole Interaction in the Nonbonded Model of Ions\n",
      "    Journal of Chemical Theory and Computation 2014 10 (1), 289-297\n",
      "    DOI: 10.1021/ct400751u\n",
      "\n",
      "5. Trivalent and Tetravalent Cations(Al3+, Fe3+, Hf4+...)\n",
      "  Pengfei Li, Lin Frank Song, and Kenneth M. Merz\n",
      "    Parameterization of Highly Charged Metal Ions Using the 12-6-4 LJ-Type Nonbonded Model in Explicit Water\n",
      "    The Journal of Physical Chemistry B 2015 119 (3), 883-895\n",
      "    DOI: 10.1021/jp505875v  \n",
      "\n"
     ]
    },
    {
     "data": {
      "text/plain": [
       "<module 'mindsponge.toolkits.forcefield.amber.tip3p' from '/home/dhx/miniconda3/envs/temptest/lib/python3.7/site-packages/mindsponge/toolkits/forcefield/amber/tip3p.py'>"
      ]
     },
     "execution_count": 1,
     "metadata": {},
     "output_type": "execute_result"
    }
   ],
   "source": [
    "import mindsponge.toolkits as Xponge\n",
    "Xponge.source(\"mindsponge.toolkits.forcefield.amber.tip3p\")"
   ]
  },
  {
   "cell_type": "markdown",
   "id": "927fa15c",
   "metadata": {},
   "source": [
    "## 2. Define a block region as  the box\n",
    "\n",
    "Here, a cubic box with a 60-A length is used"
   ]
  },
  {
   "cell_type": "code",
   "execution_count": 2,
   "id": "7e72e7c1",
   "metadata": {},
   "outputs": [],
   "source": [
    "box = BlockRegion(0, 0, 0, 60, 60, 60)"
   ]
  },
  {
   "cell_type": "markdown",
   "id": "53b52f01",
   "metadata": {},
   "source": [
    "## 3. Define regions to create atoms\n",
    "\n",
    "The parameters of regions can be seen by help() or on the API documentation website"
   ]
  },
  {
   "cell_type": "code",
   "execution_count": 3,
   "id": "13a529b1",
   "metadata": {},
   "outputs": [],
   "source": [
    "#print(help(BlockRegion))\n",
    "#print(help(SphereRegion))\n",
    "#print(help(IntersectRegion))\n",
    "#print(help(UnionRegion))\n",
    "#print(help(FrustumRegion))\n",
    "#print(help(PrismRegion))\n",
    "region_1 = BlockRegion(0, 0, 20, 20, 20, 40)\n",
    "region_2 = BlockRegion(0, 0, 40, 20, 20, 60)\n",
    "region_3 = BlockRegion(0, 0, 0, 20, 20, 20)\n",
    "region_4 = SphereRegion(20, 10, 30, 10)\n",
    "region_5 = BlockRegion(0, 0, 0, 20, 20, 40, side=\"out\")\n",
    "region_2or3 = UnionRegion(region_2, region_3)\n",
    "region_4and5 = IntersectRegion(region_4, region_5)\n",
    "region_6 = FrustumRegion(10, 40, 0, 15, 10, 40, 60, 1)\n",
    "region_7 = PrismRegion(30, 30, 0, 20, 0, 0, 0, 20, 0, 10, 10, 20)"
   ]
  },
  {
   "cell_type": "markdown",
   "id": "8e4061f1",
   "metadata": {},
   "source": [
    "## 4. Define the lattice to create\n",
    "\n",
    "The parameters of lattice can be seen by help() or on the API documentation website."
   ]
  },
  {
   "cell_type": "code",
   "execution_count": 4,
   "id": "a9f48840",
   "metadata": {},
   "outputs": [],
   "source": [
    "#print(help(Lattice))\n",
    "t = Lattice(\"bcc\", basis_molecule=CL, scale=4)\n",
    "t2 = Lattice(\"fcc\", basis_molecule=K, scale=3)\n",
    "t3 = Lattice(\"sc\", basis_molecule=NA, scale=3)\n",
    "t4 = Lattice(\"hcp\", basis_molecule=MG2, scale=4)\n",
    "t5 = Lattice(\"diamond\", basis_molecule=AL3, scale=5)"
   ]
  },
  {
   "attachments": {},
   "cell_type": "markdown",
   "id": "bcb091cf",
   "metadata": {},
   "source": [
    "## 5. Create and save\n",
    "\n",
    "Here is the visulized \"temp.pdb\" result by `vmd`: ![lammps_like_building.png](../../../../docs/lammps_like_building.png)"
   ]
  },
  {
   "cell_type": "code",
   "execution_count": 5,
   "id": "2d2983bd",
   "metadata": {},
   "outputs": [],
   "source": [
    "mol = t.Create(box, region_1)\n",
    "mol = t2.create(box, region_2or3, mol)\n",
    "mol = t3.create(box, region_4and5, mol)\n",
    "mol = t4.create(box, region_6, mol)\n",
    "mol = t5.create(box, region_7, mol)\n",
    "Save_PDB(mol, \"temp.pdb\")"
   ]
  }
 ],
 "metadata": {
  "kernelspec": {
   "display_name": "Python 3 (ipykernel)",
   "language": "python",
   "name": "python3"
  },
  "language_info": {
   "codemirror_mode": {
    "name": "ipython",
    "version": 3
   },
   "file_extension": ".py",
   "mimetype": "text/x-python",
   "name": "python",
   "nbconvert_exporter": "python",
   "pygments_lexer": "ipython3",
   "version": "3.7.5"
  }
 },
 "nbformat": 4,
 "nbformat_minor": 5
}
