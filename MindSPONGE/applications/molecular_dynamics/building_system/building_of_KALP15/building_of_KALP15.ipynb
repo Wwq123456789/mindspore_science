{
 "cells": [
  {
   "cell_type": "markdown",
   "id": "846c5bf4",
   "metadata": {},
   "source": [
    "## 1. get the Xponge.Molecule instance\n",
    "\n",
    "Here, I will use the protein KALP<sub>15</sub> as an example. KALP<sub>15</sub> is a widely-used example in the MD tutorial. The sequence of KALP<sub>15</sub> is GKK(LA)<sub>4</sub>LKKA."
   ]
  },
  {
   "cell_type": "code",
   "execution_count": 1,
   "id": "4ed8cff3",
   "metadata": {},
   "outputs": [
    {
     "name": "stdout",
     "output_type": "stream",
     "text": [
      "Reference for ff14SB:\n",
      "  James A. Maier, Carmenza Martinez, Koushik Kasavajhala, Lauren Wickstrom, Kevin E. Hauser, and Carlos Simmerling\n",
      "    ff14SB: Improving the accuracy of protein side chain and backbone parameters from ff99SB\n",
      "    Journal of Chemical Theory and Computation 2015 11 (8), 3696-3713\n",
      "    DOI: 10.1021/acs.jctc.5b00255\n",
      "\n"
     ]
    }
   ],
   "source": [
    "import mindsponge.toolkits as Xponge\n",
    "Xponge.source(\"mindsponge.toolkits.forcefield.amber.ff14sb\")\n",
    "mol = ACE + Xponge.Get_Peptide_From_Sequence(\"GKKLALALALALKKA\", charged_terminal=False) + NME"
   ]
  },
  {
   "cell_type": "markdown",
   "id": "927fa15c",
   "metadata": {},
   "source": [
    "## 2. run the differentiate MD"
   ]
  },
  {
   "cell_type": "code",
   "execution_count": 2,
   "id": "7e72e7c1",
   "metadata": {},
   "outputs": [
    {
     "name": "stdout",
     "output_type": "stream",
     "text": [
      "Step: 0, E_pot: 1014.3462, E_kin: 0.0, E_tot: 1014.3462, Temperature: 0.0\n"
     ]
    },
    {
     "data": {
      "text/plain": [
       "<mindsponge.core.sponge.Sponge at 0x1513109b0cd0>"
      ]
     },
     "execution_count": 2,
     "metadata": {},
     "output_type": "execute_result"
    }
   ],
   "source": [
    "from mindsponge import Sponge\n",
    "from mindsponge import DynamicUpdater\n",
    "from mindsponge.callback import RunInfo\n",
    "from mindsponge.control import LeapFrog\n",
    "\n",
    "system, energy = Xponge.Get_MindSponge_System_Energy(mol)\n",
    "\n",
    "opt = DynamicUpdater(\n",
    "    system,\n",
    "    integrator=LeapFrog(system),\n",
    "    time_step=0,\n",
    ")\n",
    "\n",
    "md = Sponge(system, energy, opt)\n",
    "\n",
    "run_info = RunInfo(1)\n",
    "\n",
    "md.run(1, callbacks=[run_info])"
   ]
  },
  {
   "cell_type": "markdown",
   "id": "53b52f01",
   "metadata": {},
   "source": [
    "## 3. run the traditional MD"
   ]
  },
  {
   "cell_type": "code",
   "execution_count": 3,
   "id": "13a529b1",
   "metadata": {},
   "outputs": [
    {
     "name": "stdout",
     "output_type": "stream",
     "text": [
      "SPONGE Version:\n",
      "    v1.2.6.0 2022-08-01\n",
      "\n",
      "Citation:\n",
      "    Huang, Y. - P., Xia, Y., Yang, L., Wei, J., Yang, Y.I.and Gao, Y.Q. (2022), SPONGE: A GPU - Accelerated Molecular Dynamics Package with Enhanced Sampling and AI - Driven Algorithms.Chin.J.Chem., 40 : 160 - 168. https ://doi.org/10.1002/cjoc.202100456\n",
      "\n",
      "\n",
      "MD TASK NAME:\n",
      "    Default SPONGE MD Task Name\n",
      "\n",
      "START INITIALIZING CONTROLLER\n",
      "    Start initializing CUDA\n",
      "        1 device found:\n",
      "            Device 0:\n",
      "                Name: NVIDIA GeForce RTX 2080 SUPER\n",
      "                Memory: 7.8 GB\n",
      "        Set Device 0\n",
      "    End initializing CUDA\n",
      "    structure last modify date is 20210827\n",
      "END INITIALIZING CONTROLLER\n",
      "\n",
      "START INITIALIZING MD CORE:\n",
      "    Mode set to NVE\n",
      "    dt set to 0.000000 ps\n",
      "    Start reading coordinate_in_file:\n",
      "        atom_numbers is 252\n",
      "        system start_time is 0.000000\n",
      "        box_length is\n",
      "            x: 61.096645\n",
      "            y: 27.018049\n",
      "            z: 25.427378\n",
      "    End reading coordinate_in_file\n",
      "\n",
      "    Velocity is set to zero as default\n",
      "    Start reading mass:\n",
      "    End reading mass\n",
      "\n",
      "    Start reading charge:\n",
      "    End reading charge\n",
      "\n",
      "    skin set to 2.00 Angstram\n",
      "    cutoff set to 999.00 Angstram\n",
      "    Start reading excluded list:\n",
      "        excluded list total length is 1380\n",
      "    End reading excluded list\n",
      "\n",
      "    Start reading residue list:\n",
      "        residue_numbers is 17\n",
      "    End reading residue list\n",
      "\n",
      "    Start initializing molecule list:\n",
      "        molecule numbers is 1\n",
      "    End initializing molecule list\n",
      "\n",
      "    structure last modify date is 20211105\n",
      "END INITIALIZING MD CORE\n",
      "\n",
      "START INITIALIZING LENNADR JONES INFORMATION:\n",
      "    atom_numbers is 252\n",
      "    atom_LJ_type_number is 8\n",
      "    structure last modify date is 20220601\n",
      "END INITIALIZING LENNADR JONES INFORMATION\n",
      "\n",
      "START INITIALIZING COULOMB INFORMATION:\n",
      "    structure last modify date is 20220603\n",
      "END INITIALIZING COULOMB INFORMATION\n",
      "\n",
      "START INITIALIZING NB14 (nb14_in_file):\n",
      "    non-bond 14 numbers is 661\n",
      "    structure last modify date is 20211222\n",
      "END INITIALIZING NB14\n",
      "\n",
      "START INITIALIZING BOND (bond_in_file):\n",
      "    bond_numbers is 251\n",
      "    structure last modify date is 20210830\n",
      "END INITIALIZING BOND\n",
      "\n",
      "START INITIALIZING ANGLE (angle_in_file):\n",
      "    angle_numbers is 468\n",
      "    structure last modify date is 20210830\n",
      "END INITIALIZING ANGLE\n",
      "\n",
      "UREY BRADLEY IS NOT INITIALIZED\n",
      "\n",
      "START INITIALIZING DIHEDRAL (dihedral_in_file):\n",
      "    dihedral_numbers is 790\n",
      "    structure last modify date is 20210830\n",
      "END INITIALIZING DIHEDRAL\n",
      "\n",
      "IMPROPER DIHEDRAL IS NOT INITIALIZED\n",
      "\n",
      "START INITIALIZING CMAP:\n",
      "CMAP IS NOT INITIALIZED\n",
      "\n",
      "RESTRAIN IS NOT INITIALIZED\n",
      "\n",
      "VIRTUAL ATOM IS NOT INITIALIZED\n",
      "\n",
      "---------------------------------------------------------------------------------------\n",
      "        step =            1,         time =        0.000,  temperature =         0.00, \n",
      "   potential =      1014.34,           LJ =       698.18,      Coulomb =     -1032.59, \n",
      "     nb14_LJ =        97.30,      nb14_EE =      1100.43,         bond =         9.64, \n",
      "       angle =        14.63,     dihedral =       126.75, \n",
      "---------------------------------------------------------------------------------------\n",
      "Core Run Wall Time: 0.073925 second(s)\n",
      "Core Run Speed: 0.000000 ns/day\n"
     ]
    }
   ],
   "source": [
    "from mindsponge.toolkits.mdrun import run\n",
    "Save_SPONGE_Input(mol, \"KALP15\")\n",
    "run(\"SPONGE_NOPBC -mode NVE -dt 0 -step_limit 1 -write_information_interval 1 -default_in_file_prefix KALP15 -cutoff 999\")"
   ]
  }
 ],
 "metadata": {
  "kernelspec": {
   "display_name": "Python 3 (ipykernel)",
   "language": "python",
   "name": "python3"
  },
  "language_info": {
   "codemirror_mode": {
    "name": "ipython",
    "version": 3
   },
   "file_extension": ".py",
   "mimetype": "text/x-python",
   "name": "python",
   "nbconvert_exporter": "python",
   "pygments_lexer": "ipython3",
   "version": "3.7.5"
  }
 },
 "nbformat": 4,
 "nbformat_minor": 5
}
