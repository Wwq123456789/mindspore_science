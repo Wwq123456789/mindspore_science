{
 "cells": [
  {
   "cell_type": "markdown",
   "id": "80136c32",
   "metadata": {},
   "source": [
    "# Drug Design: Relative Binding Energy Prediction\n",
    "\n",
    "The FXR nuclear receptor forms a heterodimer with RXR when activated, and binds to hormone response elements on DNA, leading to up- or down-regulation of the expression of certain genes. FXR agonists are regarded as potential therapeutics for dyslipidemia and diabetes.\n",
    "\n",
    "Here, we will calculate the relative binding energy with the FXR nuclear recptor between the following two ligands."
   ]
  },
  {
   "cell_type": "markdown",
   "id": "8622ce03",
   "metadata": {},
   "source": [
    "## 0. Install additional dependent packages\n",
    "\n",
    "To build the system, we need more dependent packages, which is not installed by default. If you have installed these packages, just ignore this step"
   ]
  },
  {
   "cell_type": "code",
   "execution_count": 1,
   "id": "287d007a",
   "metadata": {},
   "outputs": [],
   "source": [
    "#!conda install -c rdkit rdkit\n",
    "#!conda install -c openbabel openbabel\n",
    "#!pip install XpongeLib\n",
    "#!pip install pyscf\n",
    "#!pip install geometric"
   ]
  },
  {
   "cell_type": "markdown",
   "id": "846c5bf4",
   "metadata": {},
   "source": [
    "## 1. Download the original pdb file and preprocess it manually\n",
    "\n",
    "Here, the file in the directory `1kjyp-AA_2017-1-9_tight.pdb` is downloaded from [Drug Design Data Resource challenge 2](https://drugdesigndata.org/about/grand-challenge-2/fxr). There are some water molecules in the pdb file, we only need the protein (lines which start with \"ATOM\") and the original ligand (lines whose residue name is \"LIG\")"
   ]
  },
  {
   "cell_type": "code",
   "execution_count": 2,
   "id": "4ed8cff3",
   "metadata": {},
   "outputs": [],
   "source": [
    "!cat 1kjyp-AA_2017-1-9_tight.pdb | grep -E \"ATOM  |TER  \" > protein.pdb"
   ]
  },
  {
   "cell_type": "code",
   "execution_count": 3,
   "id": "d7efd53b",
   "metadata": {},
   "outputs": [],
   "source": [
    "!cat 1kjyp-AA_2017-1-9_tight.pdb | grep -E \"CONECT|LIG L\" > ligand.pdb"
   ]
  },
  {
   "cell_type": "markdown",
   "id": "e74f0a87",
   "metadata": {},
   "source": [
    "## 2. Get the unprocessed mol2 files of two ligands\n",
    "\n",
    "Here, for each ligand, we\n",
    "\n",
    "1. use `openbabel` to convert the smiles to the mol2 files\n",
    "2. set pH to 7.0\n",
    "3. rename the residue\n"
   ]
  },
  {
   "cell_type": "code",
   "execution_count": 4,
   "id": "57fec743",
   "metadata": {},
   "outputs": [
    {
     "name": "stdout",
     "output_type": "stream",
     "text": [
      "1 molecule converted\n",
      "1 molecule converted\n",
      "1 molecule converted\n",
      "1 molecule converted\n"
     ]
    }
   ],
   "source": [
    "!obabel -:\"OC(=O)c1ccc(CN2C(=O)C3(CCN(CC3)S(=O)(=O)c4ccccc4Cl)c5cc(Br)ccc25)cc1\" --gen3d -omol2 -O FXR_12.mol2\n",
    "!obabel FXR_12.mol2 -O FXR_12.mol2 -p 7.0\n",
    "!sed -i 's/UNL1/LIG/g' FXR_12.mol2\n",
    "!obabel -:\"OC(=O)c1ccc(CN2C(=O)C3(CCN(CC3)S(=O)(=O)c4ccccc4F)c5cc(Br)ccc25)cc1\" --gen3d -omol2 -O FXR_84.mol2\n",
    "!obabel FXR_84.mol2 -O FXR_84.mol2 -p 7.0\n",
    "!sed -i 's/UNL1/F84/g' FXR_84.mol2"
   ]
  },
  {
   "cell_type": "markdown",
   "id": "927fa15c",
   "metadata": {},
   "source": [
    "## 3. Preprocess the mol2 files\n",
    "\n",
    "Here, for each ligand, we\n",
    "\n",
    "1. rename the atoms so that every atom has a unique name\n",
    "2. assign the GAFF atom type for each atom\n",
    "3. calculate the RESP partial charge\n",
    "\n",
    "The third step may take a long time because it asks to do a Hartree-Folk optimization, and here I ignore the step and directly use the charge from `obabel`"
   ]
  },
  {
   "cell_type": "code",
   "execution_count": 5,
   "id": "29d4d19b",
   "metadata": {},
   "outputs": [
    {
     "name": "stdout",
     "output_type": "stream",
     "text": [
      "Reference for gaff:\n",
      "  Wang, J., Wolf, R.M., Caldwell, J.W., Kollman, P.A. and Case, D.A.\n",
      "    Development and testing of a general amber force field.\n",
      "    Journal of Computational Chemistry 2004 25, 1157-1174\n",
      "    DOI: 10.1002/jcc.20035\n",
      "\n"
     ]
    }
   ],
   "source": [
    "import mindsponge.toolkits as Xponge\n",
    "Xponge.source(\"mindsponge.toolkits.forcefield.amber.gaff\")\n",
    "FXR_12 = Get_Assignment_From_Mol2(\"FXR_12.mol2\")\n",
    "FXR_12.Add_Index_To_Name()\n",
    "FXR_12.Determine_Atom_Type(\"gaff\")\n",
    "eq_atoms = FXR_12.Determine_Equal_Atoms()\n",
    "#FXR_12.Calculate_Charge(\"RESP\", opt = True, extra_equivalence = eq_atoms, charge = int(round(sum(FXR_12.charge))))\n",
    "FXR_12_res_type = FXR_12.To_ResidueType(\"LIG\")\n",
    "Save_Mol2(FXR_12_res_type)\n",
    "\n",
    "FXR_84 = Get_Assignment_From_Mol2(\"FXR_84.mol2\")\n",
    "FXR_84.Add_Index_To_Name()\n",
    "FXR_84.Determine_Atom_Type(\"gaff\")\n",
    "eq_atoms = FXR_84.Determine_Equal_Atoms()\n",
    "#FXR_84.Calculate_Charge(\"RESP\", opt = True, extra_equivalence = eq_atoms, charge = -1)\n",
    "FXR_84_res_type = FXR_84.To_ResidueType(\"F84\")\n",
    "Save_Mol2(FXR_84_res_type)"
   ]
  },
  {
   "cell_type": "markdown",
   "id": "1bc3acf0",
   "metadata": {},
   "source": [
    "## 4. Build the pdb files to run\n",
    "\n",
    "1. Rename the atom names in the file `ligand.pdb`, to match the names in LIG.mol2.\n",
    "2. Use `Xponge` to add water molecules and ions.\n"
   ]
  },
  {
   "cell_type": "code",
   "execution_count": 6,
   "id": "15267b6d",
   "metadata": {
    "scrolled": true
   },
   "outputs": [
    {
     "name": "stdout",
     "output_type": "stream",
     "text": [
      "usage: Xponge name2name [-h] -fformat {mol2,pdb,gaff_mol2} -ffile FROM_FILE\r\n",
      "                        [-fres FROM_RESIDUE] -tformat {mol2,pdb,gaff_mol2}\r\n",
      "                        -tfile TO_FILE [-tres TO_RESIDUE] -oformat\r\n",
      "                        {mol2,pdb,mcs_pdb} -ofile OUT_FILE [-ores OUT_RESIDUE]\r\n",
      "                        [-tmcs TMCS]\r\n",
      "\r\n",
      "optional arguments:\r\n",
      "  -h, --help            show this help message and exit\r\n",
      "  -fformat {mol2,pdb,gaff_mol2}, -from_format {mol2,pdb,gaff_mol2}\r\n",
      "                        the format of the file which is needed to change from\r\n",
      "  -ffile FROM_FILE, -from_file FROM_FILE\r\n",
      "                        the name of the file which is needed to change from\r\n",
      "  -fres FROM_RESIDUE, -from_residue FROM_RESIDUE\r\n",
      "                        the residue name in ffile if fformat == pdb\r\n",
      "  -tformat {mol2,pdb,gaff_mol2}, -to_format {mol2,pdb,gaff_mol2}\r\n",
      "                        the format of the file which is needed to change to\r\n",
      "  -tfile TO_FILE, -to_file TO_FILE\r\n",
      "                        the name of the file which is needed to change to\r\n",
      "  -tres TO_RESIDUE, -to_residue TO_RESIDUE\r\n",
      "                        the residue name in tfile if tformat == pdb\r\n",
      "  -oformat {mol2,pdb,mcs_pdb}, -out_format {mol2,pdb,mcs_pdb}\r\n",
      "                        the format of the output file\r\n",
      "  -ofile OUT_FILE, -out_file OUT_FILE\r\n",
      "                        the name of the output file\r\n",
      "  -ores OUT_RESIDUE, -out_residue OUT_RESIDUE\r\n",
      "                        the name of the output residue\r\n",
      "  -tmcs TMCS            the time to find max common structure\r\n"
     ]
    }
   ],
   "source": [
    "!python -m mindsponge.toolkits name2name -h"
   ]
  },
  {
   "cell_type": "code",
   "execution_count": 7,
   "id": "66c48fa4",
   "metadata": {},
   "outputs": [
    {
     "name": "stdout",
     "output_type": "stream",
     "text": [
      "Reference for gaff:\r\n",
      "  Wang, J., Wolf, R.M., Caldwell, J.W., Kollman, P.A. and Case, D.A.\r\n",
      "    Development and testing of a general amber force field.\r\n",
      "    Journal of Computational Chemistry 2004 25, 1157-1174\r\n",
      "    DOI: 10.1002/jcc.20035\r\n",
      "\r\n"
     ]
    }
   ],
   "source": [
    "!python -m mindsponge.toolkits name2name -fformat pdb -ffile ligand.pdb -tformat gaff_mol2 -tfile LIG.mol2 -oformat mcs_pdb -ofile ligand_renamed.pdb -ores LIG"
   ]
  },
  {
   "cell_type": "code",
   "execution_count": 8,
   "id": "8e1eb7f4",
   "metadata": {},
   "outputs": [
    {
     "name": "stdout",
     "output_type": "stream",
     "text": [
      "Reference for ff14SB:\n",
      "  James A. Maier, Carmenza Martinez, Koushik Kasavajhala, Lauren Wickstrom, Kevin E. Hauser, and Carlos Simmerling\n",
      "    ff14SB: Improving the accuracy of protein side chain and backbone parameters from ff99SB\n",
      "    Journal of Chemical Theory and Computation 2015 11 (8), 3696-3713\n",
      "    DOI: 10.1021/acs.jctc.5b00255\n",
      "\n",
      "Reference for tip3p:\n",
      "1. Water:\n",
      "  William L. Jorgensen, Jayaraman Chandrasekhar, and Jeffry D. Madura\n",
      "    Comparison of simple potential functions for simulating liquid water\n",
      "    The Journal of Chemical Physics 1983 79, 926-935, \n",
      "    DOI: 10.1063/1.445869\n",
      "\n",
      "2. Li+, Na+, K+, Rb+, Cs+, F-, Cl-, Br-, I-:\n",
      "  In Suk Joung and Thomas E. Cheatham\n",
      "    Determination of Alkali and Halide Monovalent Ion Parameters for Use in Explicitly Solvated Biomolecular Simulations\n",
      "    The Journal of Physical Chemistry B 2008 112 (30), 9020-9041\n",
      "    DOI: 10.1021/jp8001614\n",
      "\n",
      "3. Ag+, Tl+, Cu+:\n",
      "  Pengfei Li, Lin Frank Song, and Kenneth M. Merz\n",
      "    Systematic Parameterization of Monovalent Ions Employing the Nonbonded Model\n",
      "    Journal of Chemical Theory and Computation 2015 11 (4), 1645-1657, \n",
      "    DOI: 10.1021/ct500918t\n",
      "    \n",
      "4. Divalent Ions(Ba2+, Mg2+...)\n",
      "  Pengfei Li and Kenneth M. Merz\n",
      "    Taking into Account the Ion-Induced Dipole Interaction in the Nonbonded Model of Ions\n",
      "    Journal of Chemical Theory and Computation 2014 10 (1), 289-297\n",
      "    DOI: 10.1021/ct400751u\n",
      "\n",
      "5. Trivalent and Tetravalent Cations(Al3+, Fe3+, Hf4+...)\n",
      "  Pengfei Li, Lin Frank Song, and Kenneth M. Merz\n",
      "    Parameterization of Highly Charged Metal Ions Using the 12-6-4 LJ-Type Nonbonded Model in Explicit Water\n",
      "    The Journal of Physical Chemistry B 2015 119 (3), 883-895\n",
      "    DOI: 10.1021/jp505875v  \n",
      "\n"
     ]
    }
   ],
   "source": [
    "Xponge.source(\"mindsponge.toolkits.forcefield.amber.ff14sb\")\n",
    "Xponge.source(\"mindsponge.toolkits.forcefield.amber.tip3p\")\n",
    "protein = load_pdb(\"protein.pdb\")\n",
    "protein.Add_Missing_Atoms()\n",
    "ligand = load_pdb(\"ligand_renamed.pdb\")\n",
    "ligand.Add_Missing_Atoms()\n",
    "protein_ligand = ligand | protein\n",
    "\n",
    "add_solvent_box(protein_ligand, WAT, 10)\n",
    "c1 = int(round(protein_ligand.charge))\n",
    "Solvent_Replace(protein_ligand, WAT, {CL:20 + c1, K:20})\n",
    "Save_PDB(protein_ligand, \"protein_ligand_water.pdb\")\n",
    "\n",
    "add_solvent_box(ligand, WAT, 10)\n",
    "c2 = int(round(ligand.charge))\n",
    "Solvent_Replace(ligand, WAT, {CL:10 + c2, K:10})\n",
    "Save_PDB(ligand, \"ligand_water.pdb\")"
   ]
  },
  {
   "cell_type": "markdown",
   "id": "54ae3891",
   "metadata": {},
   "source": [
    "## 5. Do FEP\n",
    "\n",
    "Finally, we should call ``Xponge`` to do the FEP calculation both for the protein bound to the ligand and the ligand itself. The output in the notebook is interrupted by the keyboard to avoid the file is too large to view on the website. This step may take a very long time."
   ]
  },
  {
   "cell_type": "code",
   "execution_count": 9,
   "id": "162f9fae",
   "metadata": {},
   "outputs": [
    {
     "name": "stdout",
     "output_type": "stream",
     "text": [
      "usage: Xponge mol2rfe [-h] [-do [todo [todo ...]]] -pdb PDB -r2 R2 -r1 R1\r\n",
      "                      [-r0 [R0 [R0 ...]]] [-ri 0] [-nl 20] [-dohmr] [-ff FF]\r\n",
      "                      [-mi [MI [MI ...]]] [-pi PI] [-ei EI] [-ai AI]\r\n",
      "                      [-method {TI}] [-temp TMP] [-tmcs 10] [-dt dt]\r\n",
      "                      [-msteps MSTEPS MSTEPS MSTEPS MSTEPS MSTEPS MSTEPS]\r\n",
      "                      [-pstep pre_equilibrium_step] [-estep 500000]\r\n",
      "                      [-thermostat middle_langevin]\r\n",
      "                      [-barostat andersen_barostat]\r\n",
      "\r\n",
      "optional arguments:\r\n",
      "  -h, --help            show this help message and exit\r\n",
      "  -do [todo [todo ...]]\r\n",
      "                        the things need to do, should be one or more of\r\n",
      "                        'build', 'min', 'pre_equilibrium', 'equilibrium',\r\n",
      "                        'analysis'\r\n",
      "  -pdb PDB              the initial conformation given by the pdb file\r\n",
      "  -r2 R2, -residuetype2 R2\r\n",
      "                        molecule mutated to by an Xponge ResidueType mol2 file\r\n",
      "  -r1 R1, -residuetype1 R1\r\n",
      "                        molecule mutated from by an Xponge ResidueType mol2\r\n",
      "                        file\r\n",
      "  -r0 [R0 [R0 ...]], -residuetype0 [R0 [R0 ...]]\r\n",
      "                        small molecules that do not mutate\r\n",
      "  -ri 0, -residue_index 0\r\n",
      "                        the residue index of the molecule to mutate\r\n",
      "  -nl 20, -lambda_numbers 20\r\n",
      "                        the number of lambda groups - 1, default 20 for 0,\r\n",
      "                        0.05, 0.10, 0.15..., 1.0\r\n",
      "  -dohmr, -do_hydrogen_mass_repartition\r\n",
      "                        use the hydrogen mass repartition method\r\n",
      "  -ff FF, -forcefield FF\r\n",
      "                        Use this force field file instead of the default\r\n",
      "                        ff14SB and gaff\r\n",
      "  -mi [MI [MI ...]], -min_mdin [MI [MI ...]]\r\n",
      "                        Use the minimization mdin file(s) here instead of the\r\n",
      "                        default ones\r\n",
      "  -pi PI, -pre_equilibrium_mdin PI\r\n",
      "                        Use this pre-equilibrium mdin file instead of the\r\n",
      "                        default one\r\n",
      "  -ei EI, -equilibrium_mdin EI\r\n",
      "                        Use this equilibrium mdin file instead of the default\r\n",
      "                        one\r\n",
      "  -ai AI, -analysis_mdin AI\r\n",
      "                        Use this analysis mdin file instead of the default one\r\n",
      "  -method {TI}          the method to calculate the free energy\r\n",
      "  -temp TMP             the temporary file name prefix\r\n",
      "  -tmcs 10              the timeout parameter for max common structure in unit\r\n",
      "                        of second\r\n",
      "  -dt dt                the dt used for simulation when mdin is not provided\r\n",
      "  -msteps MSTEPS MSTEPS MSTEPS MSTEPS MSTEPS MSTEPS\r\n",
      "                        the minimization steps for all the lambda. Default\r\n",
      "                        5000 for each minimization simulation. There are 6\r\n",
      "                        minimization simulations.\r\n",
      "  -pstep pre_equilibrium_step, -pre_equilibrium_step pre_equilibrium_step\r\n",
      "                        the pre-equilibrium step used for simulation when mdin\r\n",
      "                        is not provided\r\n",
      "  -estep 500000, -equilibrium_step 500000\r\n",
      "                        the equilibrium step used for simulation when mdin is\r\n",
      "                        not provided\r\n",
      "  -thermostat middle_langevin\r\n",
      "                        the thermostat used for simulation when mdin is not\r\n",
      "                        provided\r\n",
      "  -barostat andersen_barostat\r\n",
      "                        the barostat used for simulation when mdin is not\r\n",
      "                        provided\r\n"
     ]
    }
   ],
   "source": [
    "!python -m mindsponge.toolkits mol2rfe -h"
   ]
  },
  {
   "cell_type": "code",
   "execution_count": 10,
   "id": "79c3207a",
   "metadata": {
    "scrolled": true
   },
   "outputs": [
    {
     "name": "stdout",
     "output_type": "stream",
     "text": [
      "Reference for gaff:\n",
      "  Wang, J., Wolf, R.M., Caldwell, J.W., Kollman, P.A. and Case, D.A.\n",
      "    Development and testing of a general amber force field.\n",
      "    Journal of Computational Chemistry 2004 25, 1157-1174\n",
      "    DOI: 10.1002/jcc.20035\n",
      "\n",
      "Reference for ff14SB:\n",
      "  James A. Maier, Carmenza Martinez, Koushik Kasavajhala, Lauren Wickstrom, Kevin E. Hauser, and Carlos Simmerling\n",
      "    ff14SB: Improving the accuracy of protein side chain and backbone parameters from ff99SB\n",
      "    Journal of Chemical Theory and Computation 2015 11 (8), 3696-3713\n",
      "    DOI: 10.1021/acs.jctc.5b00255\n",
      "\n",
      "Reference for tip3p:\n",
      "1. Water:\n",
      "  William L. Jorgensen, Jayaraman Chandrasekhar, and Jeffry D. Madura\n",
      "    Comparison of simple potential functions for simulating liquid water\n",
      "    The Journal of Chemical Physics 1983 79, 926-935, \n",
      "    DOI: 10.1063/1.445869\n",
      "\n",
      "2. Li+, Na+, K+, Rb+, Cs+, F-, Cl-, Br-, I-:\n",
      "  In Suk Joung and Thomas E. Cheatham\n",
      "    Determination of Alkali and Halide Monovalent Ion Parameters for Use in Explicitly Solvated Biomolecular Simulations\n",
      "    The Journal of Physical Chemistry B 2008 112 (30), 9020-9041\n",
      "    DOI: 10.1021/jp8001614\n",
      "\n",
      "3. Ag+, Tl+, Cu+:\n",
      "  Pengfei Li, Lin Frank Song, and Kenneth M. Merz\n",
      "    Systematic Parameterization of Monovalent Ions Employing the Nonbonded Model\n",
      "    Journal of Chemical Theory and Computation 2015 11 (4), 1645-1657, \n",
      "    DOI: 10.1021/ct500918t\n",
      "    \n",
      "4. Divalent Ions(Ba2+, Mg2+...)\n",
      "  Pengfei Li and Kenneth M. Merz\n",
      "    Taking into Account the Ion-Induced Dipole Interaction in the Nonbonded Model of Ions\n",
      "    Journal of Chemical Theory and Computation 2014 10 (1), 289-297\n",
      "    DOI: 10.1021/ct400751u\n",
      "\n",
      "5. Trivalent and Tetravalent Cations(Al3+, Fe3+, Hf4+...)\n",
      "  Pengfei Li, Lin Frank Song, and Kenneth M. Merz\n",
      "    Parameterization of Highly Charged Metal Ions Using the 12-6-4 LJ-Type Nonbonded Model in Explicit Water\n",
      "    The Journal of Physical Chemistry B 2015 119 (3), 883-895\n",
      "    DOI: 10.1021/jp505875v  \n",
      "\n",
      "^C\n"
     ]
    }
   ],
   "source": [
    "!mkdir -p protein\n",
    "!cd protein && python -m mindsponge.toolkits mol2rfe -pdb ../protein_ligand_water.pdb -r1 ../LIG.mol2 -r2 ../F84.mol2"
   ]
  },
  {
   "cell_type": "code",
   "execution_count": 11,
   "id": "136519d8",
   "metadata": {},
   "outputs": [
    {
     "name": "stdout",
     "output_type": "stream",
     "text": [
      "Reference for gaff:\n",
      "  Wang, J., Wolf, R.M., Caldwell, J.W., Kollman, P.A. and Case, D.A.\n",
      "    Development and testing of a general amber force field.\n",
      "    Journal of Computational Chemistry 2004 25, 1157-1174\n",
      "    DOI: 10.1002/jcc.20035\n",
      "\n",
      "Reference for ff14SB:\n",
      "  James A. Maier, Carmenza Martinez, Koushik Kasavajhala, Lauren Wickstrom, Kevin E. Hauser, and Carlos Simmerling\n",
      "    ff14SB: Improving the accuracy of protein side chain and backbone parameters from ff99SB\n",
      "    Journal of Chemical Theory and Computation 2015 11 (8), 3696-3713\n",
      "    DOI: 10.1021/acs.jctc.5b00255\n",
      "\n",
      "Reference for tip3p:\n",
      "1. Water:\n",
      "  William L. Jorgensen, Jayaraman Chandrasekhar, and Jeffry D. Madura\n",
      "    Comparison of simple potential functions for simulating liquid water\n",
      "    The Journal of Chemical Physics 1983 79, 926-935, \n",
      "    DOI: 10.1063/1.445869\n",
      "\n",
      "2. Li+, Na+, K+, Rb+, Cs+, F-, Cl-, Br-, I-:\n",
      "  In Suk Joung and Thomas E. Cheatham\n",
      "    Determination of Alkali and Halide Monovalent Ion Parameters for Use in Explicitly Solvated Biomolecular Simulations\n",
      "    The Journal of Physical Chemistry B 2008 112 (30), 9020-9041\n",
      "    DOI: 10.1021/jp8001614\n",
      "\n",
      "3. Ag+, Tl+, Cu+:\n",
      "  Pengfei Li, Lin Frank Song, and Kenneth M. Merz\n",
      "    Systematic Parameterization of Monovalent Ions Employing the Nonbonded Model\n",
      "    Journal of Chemical Theory and Computation 2015 11 (4), 1645-1657, \n",
      "    DOI: 10.1021/ct500918t\n",
      "    \n",
      "4. Divalent Ions(Ba2+, Mg2+...)\n",
      "  Pengfei Li and Kenneth M. Merz\n",
      "    Taking into Account the Ion-Induced Dipole Interaction in the Nonbonded Model of Ions\n",
      "    Journal of Chemical Theory and Computation 2014 10 (1), 289-297\n",
      "    DOI: 10.1021/ct400751u\n",
      "\n",
      "5. Trivalent and Tetravalent Cations(Al3+, Fe3+, Hf4+...)\n",
      "  Pengfei Li, Lin Frank Song, and Kenneth M. Merz\n",
      "    Parameterization of Highly Charged Metal Ions Using the 12-6-4 LJ-Type Nonbonded Model in Explicit Water\n",
      "    The Journal of Physical Chemistry B 2015 119 (3), 883-895\n",
      "    DOI: 10.1021/jp505875v  \n",
      "\n",
      "FINDING MAXIMUM COMMON SUBSTRUCTURE\n",
      "ALIGNING TOPOLOGY AND COORDINATE\n",
      "^C\n"
     ]
    }
   ],
   "source": [
    "!mkdir -p ligand\n",
    "!cd ligand && python -m mindsponge.toolkits mol2rfe -pdb ../ligand_water.pdb -r1 ../LIG.mol2 -r2 ../F84.mol2"
   ]
  },
  {
   "cell_type": "markdown",
   "id": "4d75437b",
   "metadata": {},
   "source": [
    "## 6. See the results\n",
    "\n",
    "The free energy difference of every simulation is stored in the file `free_energy.txt`.The relative binding energy equals to the free energy difference of Protein-Ligand(aq) - the free energy difference of Ligand(aq), which is 6.33 - 4.71 = 1.62 (kcal/mol) here (The data you get may be not absolute the same as mine, because this is just an example, and the simulation time may not be enough). The experimental value is 2.599 kcal/mol, which the difference is less than 1 kcal/mol so that the error is acceptable."
   ]
  },
  {
   "cell_type": "code",
   "execution_count": 12,
   "id": "535f5c55",
   "metadata": {},
   "outputs": [
    {
     "name": "stdout",
     "output_type": "stream",
     "text": [
      "lambda_state\tFE(i+1)-FE(i)[kcal/mol]\tFE(i+1)-FE(0)[kcal/mol]\r\n",
      "0\t\t0.08\t\t\t0.08\r\n",
      "1\t\t0.13\t\t\t0.20\r\n",
      "2\t\t0.21\t\t\t0.42\r\n",
      "3\t\t0.22\t\t\t0.64\r\n",
      "4\t\t0.21\t\t\t0.85\r\n",
      "5\t\t0.13\t\t\t0.99\r\n",
      "6\t\t0.13\t\t\t1.12\r\n",
      "7\t\t0.21\t\t\t1.33\r\n",
      "8\t\t0.16\t\t\t1.49\r\n",
      "9\t\t0.21\t\t\t1.69\r\n",
      "10\t\t0.29\t\t\t1.99\r\n",
      "11\t\t0.30\t\t\t2.29\r\n",
      "12\t\t0.31\t\t\t2.60\r\n",
      "13\t\t0.33\t\t\t2.93\r\n",
      "14\t\t0.33\t\t\t3.26\r\n",
      "15\t\t0.37\t\t\t3.63\r\n",
      "16\t\t0.32\t\t\t3.95\r\n",
      "17\t\t0.27\t\t\t4.22\r\n",
      "18\t\t0.25\t\t\t4.48\r\n",
      "19\t\t0.23\t\t\t4.71"
     ]
    }
   ],
   "source": [
    "!cat ligand/free_energy.txt"
   ]
  },
  {
   "cell_type": "code",
   "execution_count": 13,
   "id": "e18932d4",
   "metadata": {},
   "outputs": [
    {
     "name": "stdout",
     "output_type": "stream",
     "text": [
      "lambda_state\tFE(i+1)-FE(i)[kcal/mol]\tFE(i+1)-FE(0)[kcal/mol]\r\n",
      "0\t\t0.21\t\t\t0.21\r\n",
      "1\t\t0.14\t\t\t0.34\r\n",
      "2\t\t0.13\t\t\t0.47\r\n",
      "3\t\t0.27\t\t\t0.74\r\n",
      "4\t\t0.21\t\t\t0.94\r\n",
      "5\t\t0.29\t\t\t1.23\r\n",
      "6\t\t0.33\t\t\t1.57\r\n",
      "7\t\t0.29\t\t\t1.86\r\n",
      "8\t\t0.04\t\t\t1.90\r\n",
      "9\t\t0.06\t\t\t1.96\r\n",
      "10\t\t0.25\t\t\t2.21\r\n",
      "11\t\t0.28\t\t\t2.49\r\n",
      "12\t\t0.35\t\t\t2.85\r\n",
      "13\t\t0.40\t\t\t3.25\r\n",
      "14\t\t0.42\t\t\t3.67\r\n",
      "15\t\t0.44\t\t\t4.11\r\n",
      "16\t\t0.58\t\t\t4.68\r\n",
      "17\t\t0.56\t\t\t5.25\r\n",
      "18\t\t0.51\t\t\t5.76\r\n",
      "19\t\t0.57\t\t\t6.33"
     ]
    }
   ],
   "source": [
    "!cat protein/free_energy.txt"
   ]
  }
 ],
 "metadata": {
  "kernelspec": {
   "display_name": "Python 3 (ipykernel)",
   "language": "python",
   "name": "python3"
  },
  "language_info": {
   "codemirror_mode": {
    "name": "ipython",
    "version": 3
   },
   "file_extension": ".py",
   "mimetype": "text/x-python",
   "name": "python",
   "nbconvert_exporter": "python",
   "pygments_lexer": "ipython3",
   "version": "3.7.5"
  }
 },
 "nbformat": 4,
 "nbformat_minor": 5
}
