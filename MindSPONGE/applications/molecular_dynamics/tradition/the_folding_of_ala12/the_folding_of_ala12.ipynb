{
 "cells": [
  {
   "cell_type": "markdown",
   "id": "80136c32",
   "metadata": {},
   "source": [
    "# The MD simulation of the folding of the ALA12 peptide"
   ]
  },
  {
   "cell_type": "markdown",
   "id": "846c5bf4",
   "metadata": {},
   "source": [
    "## 1. import the module we need"
   ]
  },
  {
   "cell_type": "code",
   "execution_count": 16,
   "id": "4ed8cff3",
   "metadata": {},
   "outputs": [],
   "source": [
    "import mindsponge.toolkits as Xponge\n",
    "from mindsponge.toolkits.mdrun import run\n",
    "from mindsponge.toolkits.analysis import MdoutReader\n",
    "Xponge.source(\"mindsponge.toolkits.forcefield.amber.ff19sb\")\n",
    "gb = Xponge.source(\"mindsponge.toolkits.forcefield.special.gb\")"
   ]
  },
  {
   "cell_type": "markdown",
   "id": "e74f0a87",
   "metadata": {},
   "source": [
    "## 2. get a Molecule instance"
   ]
  },
  {
   "cell_type": "code",
   "execution_count": 17,
   "id": "57fec743",
   "metadata": {},
   "outputs": [],
   "source": [
    "mol = NALA + ALA * 10 + CALA"
   ]
  },
  {
   "cell_type": "markdown",
   "id": "927fa15c",
   "metadata": {},
   "source": [
    "## 3. set the gb parameters"
   ]
  },
  {
   "cell_type": "code",
   "execution_count": 18,
   "id": "29d4d19b",
   "metadata": {},
   "outputs": [
    {
     "name": "stdout",
     "output_type": "stream",
     "text": [
      "Reference for modified Bondi radii:\n",
      "    Vickie Tsui, David A. Case\n",
      "    Theory and Applications of the Generalized Born Solvation Model in Macromolecular Simulations\n",
      "    Biopolymers 2001 56 (4) 275-291\n",
      "    DOI: 10.1002/1097-0282(2000)56:4<275::AID-BIP10024>3.0.CO;2-E\n",
      "\n"
     ]
    }
   ],
   "source": [
    "gb.Set_GB_Radius(mol)"
   ]
  },
  {
   "cell_type": "markdown",
   "id": "1bc3acf0",
   "metadata": {},
   "source": [
    "## 4. save the input"
   ]
  },
  {
   "cell_type": "code",
   "execution_count": 19,
   "id": "15267b6d",
   "metadata": {},
   "outputs": [],
   "source": [
    "Save_PDB(mol, \"ALA.pdb\")\n",
    "Save_SPONGE_Input(mol, \"ALA\")"
   ]
  },
  {
   "cell_type": "markdown",
   "id": "54ae3891",
   "metadata": {},
   "source": [
    "## 5. do the molecular dynamics simulation"
   ]
  },
  {
   "cell_type": "code",
   "execution_count": 10,
   "id": "162f9fae",
   "metadata": {},
   "outputs": [
    {
     "name": "stdout",
     "output_type": "stream",
     "text": [
      "SPONGE Version:\n",
      "    v1.2.6.0 2022-08-01\n",
      "\n",
      "Citation:\n",
      "    Huang, Y. - P., Xia, Y., Yang, L., Wei, J., Yang, Y.I.and Gao, Y.Q. (2022), SPONGE: A GPU - Accelerated Molecular Dynamics Package with Enhanced Sampling and AI - Driven Algorithms.Chin.J.Chem., 40 : 160 - 168. https ://doi.org/10.1002/cjoc.202100456\n",
      "\n",
      "\n",
      "MD TASK NAME:\n",
      "    Default SPONGE MD Task Name\n",
      "\n",
      "START INITIALIZING CONTROLLER\n",
      "    Start initializing CUDA\n",
      "        1 device found:\n",
      "            Device 0:\n",
      "                Name: NVIDIA GeForce RTX 2080 SUPER\n",
      "                Memory: 7.8 GB\n",
      "        Set Device 0\n",
      "    End initializing CUDA\n",
      "    structure last modify date is 20210827\n",
      "END INITIALIZING CONTROLLER\n",
      "\n",
      "START INITIALIZING MD CORE:\n",
      "    Mode set to NVT\n",
      "    dt set to 0.002000 ps\n",
      "    Start reading coordinate_in_file:\n",
      "        atom_numbers is 123\n",
      "        system start_time is 0.000000\n",
      "        box_length is\n",
      "            x: 999.000000\n",
      "            y: 999.000000\n",
      "            z: 999.000000\n",
      "    End reading coordinate_in_file\n",
      "\n",
      "    Velocity is set to zero as default\n",
      "    Start reading mass:\n",
      "    End reading mass\n",
      "\n",
      "    Start reading charge:\n",
      "    End reading charge\n",
      "\n",
      "    skin set to 2.00 Angstram\n",
      "    cutoff set to 10.00 Angstram\n",
      "    Start reading excluded list:\n",
      "        excluded list total length is 640\n",
      "    End reading excluded list\n",
      "\n",
      "    Start reading residue list:\n",
      "        residue_numbers is 12\n",
      "    End reading residue list\n",
      "\n",
      "    Start initializing molecule list:\n",
      "        molecule numbers is 1\n",
      "    End initializing molecule list\n",
      "\n",
      "    structure last modify date is 20211105\n",
      "END INITIALIZING MD CORE\n",
      "\n",
      "START INITIALIZING MIDDLE LANGEVIN DYNAMICS:\n",
      "    atom_numbers is 123\n",
      "    target temperature is 300.00 K\n",
      "    friction coefficient is 1.00 ps^-1\n",
      "    random seed is 1877724377\n",
      "    structure last modify date is 20210826\n",
      "END INITIALIZING MIDDLE LANGEVIN DYNAMICS\n",
      "\n",
      "START INITIALIZING LENNADR JONES INFORMATION:\n",
      "    atom_numbers is 123\n",
      "    atom_LJ_type_number is 8\n",
      "    structure last modify date is 20220601\n",
      "END INITIALIZING LENNADR JONES INFORMATION\n",
      "\n",
      "START INITIALIZING COULOMB INFORMATION:\n",
      "    structure last modify date is 20220603\n",
      "END INITIALIZING COULOMB INFORMATION\n",
      "\n",
      "START INITIALIZING STANDARD GENERALIZED BORN INFORMATION:\n",
      "    structure last modify date is 20220607\n",
      "END INITIALIZING STANDARD GENERALIZED BORN INFORMATION\n",
      "\n",
      "START INITIALIZING NB14 (nb14_in_file):\n",
      "    non-bond 14 numbers is 299\n",
      "    structure last modify date is 20211222\n",
      "END INITIALIZING NB14\n",
      "\n",
      "START INITIALIZING BOND (bond_in_file):\n",
      "    bond_numbers is 122\n",
      "    structure last modify date is 20210830\n",
      "END INITIALIZING BOND\n",
      "\n",
      "START INITIALIZING ANGLE (angle_in_file):\n",
      "    angle_numbers is 219\n",
      "    structure last modify date is 20210830\n",
      "END INITIALIZING ANGLE\n",
      "\n",
      "UREY BRADLEY IS NOT INITIALIZED\n",
      "\n",
      "START INITIALIZING DIHEDRAL (dihedral_in_file):\n",
      "    dihedral_numbers is 203\n",
      "    structure last modify date is 20210830\n",
      "END INITIALIZING DIHEDRAL\n",
      "\n",
      "IMPROPER DIHEDRAL IS NOT INITIALIZED\n",
      "\n",
      "START INITIALIZING CMAP:\n",
      "    total CMAP number is 10\n",
      "    unique CMAP number is 1\n",
      "    structure last modify date is 20211129\n",
      "    Start Interpolating the CMAP Grid Value\n",
      "    End Interpolating CMAP Grid Value\n",
      "END INITIALIZING CMAP\n",
      "\n",
      "RESTRAIN IS NOT INITIALIZED\n",
      "\n",
      "START INITIALIZING CONSTRAIN:\n",
      "    constrain pair number is 62\n",
      "END INITIALIZING CONSTRAIN\n",
      "\n",
      "START INITIALIZING SETTLE:\n",
      "    rigid triangle numbers is 0\n",
      "    rigid pair numbers is 23\n",
      "    remaining simple constrain pair numbers is 39\n",
      "END INITIALIZING SETTLE\n",
      "\n",
      "START INITIALIZING SHAKE:\n",
      "    constrain iteration step is 25\n",
      "    constrain step length is 1.00\n",
      "END INITIALIZING SHAKE\n",
      "\n",
      "VIRTUAL ATOM IS NOT INITIALIZED\n",
      "\n",
      "---------------------------------------------------------------------------------------\n",
      "        step =         1000,         time =        2.000,  temperature =       265.58, \n",
      "   potential =      -139.76,           LJ =       -17.77,      Coulomb =      -815.26, \n",
      "          gb =      -266.92,      nb14_LJ =        21.23,      nb14_EE =       862.75, \n",
      "        bond =        17.33,        angle =        43.33,     dihedral =        17.19, \n",
      "        cmap =     7.230000, \n",
      "---------------------------------------------------------------------------------------\n",
      "        step =         2000,         time =        4.000,  temperature =       323.20, \n",
      "   potential =      -122.82,           LJ =       -16.51,      Coulomb =      -824.31, \n",
      "          gb =      -263.20,      nb14_LJ =        19.69,      nb14_EE =       862.56, \n",
      "        bond =        17.32,        angle =        59.48,     dihedral =        26.41, \n",
      "        cmap =     9.904516, \n",
      "---------------------------------------------------------------------------------------\n",
      "        step =         3000,         time =        6.000,  temperature =       343.23, \n",
      "   potential =      -135.84,           LJ =       -19.20,      Coulomb =      -810.44, \n",
      "          gb =      -285.42,      nb14_LJ =        21.48,      nb14_EE =       873.45, \n",
      "        bond =        18.10,        angle =        60.33,     dihedral =        17.08, \n",
      "        cmap =     9.597541, \n",
      "---------------------------------------------------------------------------------------\n",
      "        step =         4000,         time =        8.000,  temperature =       263.77, \n",
      "   potential =      -137.76,           LJ =       -18.25,      Coulomb =      -847.80, \n",
      "          gb =      -240.53,      nb14_LJ =        21.53,      nb14_EE =       867.88, \n",
      "        bond =        17.79,        angle =        49.62,     dihedral =        16.98, \n",
      "        cmap =     9.028077, \n",
      "---------------------------------------------------------------------------------------\n",
      "        step =         5000,         time =       10.000,  temperature =       286.95, \n",
      "   potential =      -127.57,           LJ =       -19.03,      Coulomb =      -849.21, \n",
      "          gb =      -244.76,      nb14_LJ =        20.22,      nb14_EE =       869.08, \n",
      "        bond =        25.28,        angle =        55.79,     dihedral =        16.58, \n",
      "        cmap =    10.095293, \n",
      "---------------------------------------------------------------------------------------\n",
      "        step =         6000,         time =       12.000,  temperature =       274.34, \n",
      "   potential =      -130.35,           LJ =       -19.39,      Coulomb =      -843.83, \n",
      "          gb =      -249.97,      nb14_LJ =        22.64,      nb14_EE =       867.85, \n",
      "        bond =        20.14,        angle =        59.56,     dihedral =        18.96, \n",
      "        cmap =    13.164125, \n",
      "---------------------------------------------------------------------------------------\n",
      "        step =         7000,         time =       14.000,  temperature =       285.58, \n",
      "   potential =      -121.73,           LJ =       -17.36,      Coulomb =      -824.86, \n",
      "          gb =      -260.94,      nb14_LJ =        21.22,      nb14_EE =       862.93, \n",
      "        bond =        24.68,        angle =        60.31,     dihedral =        18.64, \n",
      "        cmap =    10.379813, \n",
      "---------------------------------------------------------------------------------------\n",
      "        step =         8000,         time =       16.000,  temperature =       325.16, \n",
      "   potential =      -127.91,           LJ =       -20.58,      Coulomb =      -840.74, \n",
      "          gb =      -255.45,      nb14_LJ =        15.58,      nb14_EE =       874.79, \n",
      "        bond =        25.76,        angle =        59.41,     dihedral =        13.71, \n",
      "        cmap =     9.733121, \n",
      "---------------------------------------------------------------------------------------\n",
      "        step =         9000,         time =       18.000,  temperature =       276.81, \n",
      "   potential =      -132.39,           LJ =       -19.86,      Coulomb =      -885.94, \n",
      "          gb =      -202.07,      nb14_LJ =        25.46,      nb14_EE =       868.89, \n",
      "        bond =        20.39,        angle =        46.56,     dihedral =        20.25, \n",
      "        cmap =    15.335058, \n",
      "---------------------------------------------------------------------------------------\n",
      "        step =        10000,         time =       20.000,  temperature =       294.43, \n",
      "   potential =      -134.61,           LJ =       -18.31,      Coulomb =      -853.03, \n",
      "          gb =      -234.32,      nb14_LJ =        20.67,      nb14_EE =       864.02, \n",
      "        bond =        18.37,        angle =        62.16,     dihedral =        16.99, \n",
      "        cmap =    16.753719, \n",
      "---------------------------------------------------------------------------------------\n",
      "        step =        11000,         time =       22.000,  temperature =       256.63, \n",
      "   potential =      -135.50,           LJ =       -18.40,      Coulomb =      -827.70, \n",
      "          gb =      -250.93,      nb14_LJ =        22.53,      nb14_EE =       857.68, \n",
      "        bond =        15.90,        angle =        54.37,     dihedral =        17.44, \n",
      "        cmap =    12.985232, \n",
      "---------------------------------------------------------------------------------------\n",
      "        step =        12000,         time =       24.000,  temperature =       265.11, \n",
      "   potential =      -132.57,           LJ =       -20.68,      Coulomb =      -868.39, \n",
      "          gb =      -218.40,      nb14_LJ =        21.61,      nb14_EE =       865.02, \n",
      "        bond =        20.96,        angle =        55.64,     dihedral =        17.55, \n",
      "        cmap =    13.123174, \n",
      "---------------------------------------------------------------------------------------\n",
      "        step =        13000,         time =       26.000,  temperature =       296.10, \n",
      "   potential =      -128.99,           LJ =       -20.80,      Coulomb =      -794.08, \n",
      "          gb =      -287.47,      nb14_LJ =        19.83,      nb14_EE =       863.70, \n",
      "        bond =        24.32,        angle =        56.08,     dihedral =        19.68, \n",
      "        cmap =    10.468226, \n",
      "---------------------------------------------------------------------------------------\n",
      "        step =        14000,         time =       28.000,  temperature =       304.60, \n",
      "   potential =      -124.02,           LJ =       -22.63,      Coulomb =      -820.84, \n",
      "          gb =      -264.40,      nb14_LJ =        22.48,      nb14_EE =       857.91, \n",
      "        bond =        19.83,        angle =        61.48,     dihedral =        22.35, \n",
      "        cmap =     9.481705, \n",
      "---------------------------------------------------------------------------------------\n",
      "        step =        15000,         time =       30.000,  temperature =       294.22, \n",
      "   potential =      -130.98,           LJ =       -24.73,      Coulomb =      -828.64, \n",
      "          gb =      -263.52,      nb14_LJ =        21.11,      nb14_EE =       862.45, \n",
      "        bond =        21.25,        angle =        69.59,     dihedral =        16.82, \n",
      "        cmap =     8.196500, \n",
      "---------------------------------------------------------------------------------------\n",
      "        step =        16000,         time =       32.000,  temperature =       351.95, \n",
      "   potential =      -137.83,           LJ =       -24.62,      Coulomb =      -851.13, \n",
      "          gb =      -245.93,      nb14_LJ =        20.11,      nb14_EE =       880.82, \n",
      "        bond =        19.45,        angle =        54.72,     dihedral =        21.19, \n",
      "        cmap =    12.702122, \n",
      "---------------------------------------------------------------------------------------\n",
      "        step =        17000,         time =       34.000,  temperature =       290.72, \n",
      "   potential =      -135.98,           LJ =       -22.03,      Coulomb =      -768.58, \n",
      "          gb =      -318.51,      nb14_LJ =        22.65,      nb14_EE =       858.83, \n",
      "        bond =        19.29,        angle =        56.96,     dihedral =        16.72, \n",
      "        cmap =    10.524531, \n",
      "---------------------------------------------------------------------------------------\n",
      "        step =        18000,         time =       36.000,  temperature =       295.62, \n",
      "   potential =      -118.19,           LJ =       -22.07,      Coulomb =      -870.66, \n",
      "          gb =      -210.45,      nb14_LJ =        22.64,      nb14_EE =       855.69, \n",
      "        bond =        26.42,        angle =        54.10,     dihedral =        26.88, \n",
      "        cmap =     7.058632, \n",
      "---------------------------------------------------------------------------------------\n",
      "        step =        19000,         time =       38.000,  temperature =       285.71, \n",
      "   potential =      -138.12,           LJ =       -26.06,      Coulomb =      -844.50, \n"
     ]
    }
   ],
   "source": [
    "run(\"\"\"SPONGE_NOPBC\n",
    "-mode NVT\n",
    "-dt 2e-3 \n",
    "-constrain_mode SHAKE\n",
    "-step_limit 5000000\n",
    "-thermostat middle_langevin\n",
    "-default_in_file_prefix ALA\n",
    "\"\"\")"
   ]
  },
  {
   "attachments": {},
   "cell_type": "markdown",
   "id": "4d75437b",
   "metadata": {},
   "source": [
    "## 6. see the results\n",
    "\n",
    "You can also download the ALA.pdb and mdcrd.dat to your PC, and use VMD to visualize the trajectory. Here is the movie.\n",
    "![ala12_folding.gif](../../../../docs/ala12_folding.gif)"
   ]
  },
  {
   "cell_type": "code",
   "execution_count": 11,
   "id": "535f5c55",
   "metadata": {},
   "outputs": [],
   "source": [
    "mdout = MdoutReader(\"mdout.txt\")"
   ]
  },
  {
   "cell_type": "code",
   "execution_count": 12,
   "id": "e18932d4",
   "metadata": {},
   "outputs": [
    {
     "data": {
      "image/png": "[encoded data removed]",
      "text/plain": [
       "<Figure size 432x288 with 1 Axes>"
      ]
     },
     "metadata": {
      "needs_background": "light"
     },
     "output_type": "display_data"
    }
   ],
   "source": [
    "import matplotlib.pyplot as plt\n",
    "plt.plot(mdout.time, mdout.potential)\n",
    "plt.show()"
   ]
  }
 ],
 "metadata": {
  "kernelspec": {
   "display_name": "Python 3 (ipykernel)",
   "language": "python",
   "name": "python3"
  },
  "language_info": {
   "codemirror_mode": {
    "name": "ipython",
    "version": 3
   },
   "file_extension": ".py",
   "mimetype": "text/x-python",
   "name": "python",
   "nbconvert_exporter": "python",
   "pygments_lexer": "ipython3",
   "version": "3.9.12"
  }
 },
 "nbformat": 4,
 "nbformat_minor": 5
}
