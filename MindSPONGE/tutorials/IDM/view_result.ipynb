{
 "cells": [
  {
   "cell_type": "code",
   "execution_count": null,
   "metadata": {},
   "outputs": [],
   "source": [
    "import numpy as np\n",
    "import mindspore.numpy as mnp\n",
    "\n",
    "from mindspore import Tensor\n",
    "from mindspore import load_checkpoint, load_param_into_net\n",
    "from mindspore import context\n",
    "\n",
    "import os\n",
    "import matplotlib.pyplot as plt\n",
    "%matplotlib inline\n"
   ]
  },
  {
   "cell_type": "code",
   "execution_count": null,
   "metadata": {},
   "outputs": [],
   "source": [
    "# 预处理 可视化 所用的数据\n",
    "dpath = \"Path to your data\"\n",
    "\n",
    "local_filename = os.path.join(\n",
    "    dpath, 'alanine-dipeptide-3x250ns-heavy-atom-distances.npz')\n",
    "with np.load(local_filename) as fh:\n",
    "    feat_array = [fh[key] for key in fh.keys()]\n",
    "\n",
    "feat_array = np.concatenate(feat_array, 0)\n",
    "feat_array = np.log(feat_array+1e-5)  # transform to log-scale\n",
    "\n",
    "feat_mean = np.mean(feat_array, 0, keepdims=True)\n",
    "feat_std = np.std(feat_array, 0, keepdims=True)\n",
    "feat_array = (feat_array-feat_mean)/feat_std  # Whitening input features\n",
    "\n",
    "local_filename = os.path.join(\n",
    "    dpath, 'alanine-dipeptide-3x250ns-backbone-dihedrals.npz')\n",
    "with np.load(local_filename) as fh:\n",
    "    torsion_array = [fh[key] for key in fh.keys()]\n",
    "torsion_array = np.concatenate(torsion_array, 0)\n",
    "\n",
    "\n",
    "show_data_ids = np.loadtxt(os.path.join(\n",
    "    dpath, \"selected_data_ids.txt\")).astype(np.int32)[:500]\n",
    "feat_data = feat_array[show_data_ids]\n",
    "torsion_data = torsion_array[show_data_ids]\n",
    "\n",
    "print(feat_data.shape)\n",
    "print(torsion_data.shape)\n"
   ]
  },
  {
   "cell_type": "code",
   "execution_count": null,
   "metadata": {},
   "outputs": [],
   "source": [
    "from codes.model import WithLossCell\n",
    "context.set_context(mode=context.GRAPH_MODE)  # Inference\n",
    "\n",
    "num_class = 8\n",
    "latent_dim = 4\n",
    "\n",
    "input_dim = 45\n",
    "hidden_dim = 128\n",
    "idm_model = WithLossCell(input_dim=input_dim, hidden_dim=hidden_dim, latent_dim=latent_dim,\n",
    "                         num_class=num_class, temperature=1e-1, reg_recon=1e-1)\n",
    "idm_model.set_train(False)\n"
   ]
  },
  {
   "cell_type": "code",
   "execution_count": null,
   "metadata": {},
   "outputs": [],
   "source": [
    "# resolutions: [4,50,200,400]\n",
    "param_dict = load_checkpoint(\n",
    "    \"./ckpts/resolutions/resolutions_400_model_epoch_5000.ckpt\")\n",
    "load_param_into_net(idm_model, param_dict)\n"
   ]
  },
  {
   "cell_type": "code",
   "execution_count": null,
   "metadata": {},
   "outputs": [],
   "source": [
    "feat_data = Tensor(feat_data, mnp.float32)\n",
    "\n",
    "cluster = idm_model.inference(feat_data)\n",
    "result = cluster.asnumpy()\n",
    "print(result.shape)\n"
   ]
  },
  {
   "cell_type": "code",
   "execution_count": null,
   "metadata": {},
   "outputs": [],
   "source": [
    "class_set = np.unique(np.argmax(result, axis=-1))\n",
    "# print(len(class_set))\n",
    "\n",
    "color_idx = np.argmax(result, axis=-1)\n",
    "for i, item in enumerate(class_set):\n",
    "    id = color_idx == item\n",
    "    color_idx[id] = i\n"
   ]
  },
  {
   "cell_type": "code",
   "execution_count": null,
   "metadata": {},
   "outputs": [],
   "source": [
    "plt.figure(figsize=(5, 5))\n",
    "plt.scatter(x=torsion_data[:, 0], y=torsion_data[:, 1], c=color_idx, s=10)\n",
    "plt.xlim(-np.pi, np.pi)\n",
    "plt.ylim(-np.pi, np.pi)\n",
    "plt.show()\n"
   ]
  }
 ],
 "metadata": {
  "kernelspec": {
   "display_name": "Python 3.9.7 ('base')",
   "language": "python",
   "name": "python3"
  },
  "language_info": {
   "codemirror_mode": {
    "name": "ipython",
    "version": 3
   },
   "file_extension": ".py",
   "mimetype": "text/x-python",
   "name": "python",
   "nbconvert_exporter": "python",
   "pygments_lexer": "ipython3",
   "version": "3.9.7"
  },
  "orig_nbformat": 4,
  "vscode": {
   "interpreter": {
    "hash": "88279d2366fe020547cde40dd65aa0e3aa662a6ec1f3ca12d88834876c85e1a6"
   }
  }
 },
 "nbformat": 4,
 "nbformat_minor": 2
}
