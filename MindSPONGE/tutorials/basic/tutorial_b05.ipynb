{
 "cells": [
  {
   "cell_type": "code",
   "execution_count": 1,
   "id": "6adf8b80-784a-449c-9fbf-a6e6afaef6e5",
   "metadata": {},
   "outputs": [],
   "source": [
    "from mindspore import context\n",
    "context.set_context(mode=context.GRAPH_MODE, device_target=\"GPU\")"
   ]
  },
  {
   "cell_type": "code",
   "execution_count": 2,
   "id": "6cb602d4-e208-42ac-88fc-9e9768c77589",
   "metadata": {},
   "outputs": [],
   "source": [
    "from mindsponge import Sponge\n",
    "from mindsponge import Molecule\n",
    "from mindsponge import ForceField\n",
    "from mindsponge import DynamicUpdater\n",
    "from mindsponge import SimulationCell\n",
    "from mindsponge.control import VelocityVerlet, Langevin, BerendsenBarostat\n",
    "from mindsponge.function import VelocityGenerator\n",
    "from mindsponge.callback import WriteH5MD, RunInfo\n",
    "from mindsponge.optimizer import SteepestDescent"
   ]
  },
  {
   "cell_type": "code",
   "execution_count": 3,
   "id": "6a33a60b-08b8-42f4-8a78-b6553d418e4e",
   "metadata": {},
   "outputs": [
    {
     "data": {
      "text/plain": [
       "Molecule<>"
      ]
     },
     "execution_count": 3,
     "metadata": {},
     "output_type": "execute_result"
    }
   ],
   "source": [
    "system = Molecule(template='water.spce.yaml')\n",
    "system.set_pbc_box([0.4, 0.4, 0.4])"
   ]
  },
  {
   "cell_type": "markdown",
   "id": "c199fd38-25ff-40bf-bc35-02255f10017e",
   "metadata": {},
   "source": [
    "如果定义了周期性的盒子，那么还可以使用repeat_box功能来扩展/复制系统，比如可以这样将系统复制1000份"
   ]
  },
  {
   "cell_type": "code",
   "execution_count": 4,
   "id": "d1be6458-a40f-428c-8667-35472bd7a811",
   "metadata": {},
   "outputs": [
    {
     "data": {
      "text/plain": [
       "Molecule<>"
      ]
     },
     "execution_count": 4,
     "metadata": {},
     "output_type": "execute_result"
    }
   ],
   "source": [
    "system.repeat_box([10, 10, 10])"
   ]
  },
  {
   "cell_type": "markdown",
   "id": "39ebe6b6-f38e-4789-bd3a-21ebfd571324",
   "metadata": {},
   "source": [
    "得到的分子系统的示意图如下所示：\n",
    "![](../../docs/tutorial_b05.png)"
   ]
  },
  {
   "cell_type": "code",
   "execution_count": 5,
   "id": "013928f0-8217-48b8-87b8-4983e42c4db8",
   "metadata": {},
   "outputs": [],
   "source": [
    "potential = ForceField(system, parameters='SPCE')"
   ]
  },
  {
   "cell_type": "code",
   "execution_count": 6,
   "id": "eaa250b5-17e8-4513-9a35-3f25ad00fb72",
   "metadata": {},
   "outputs": [],
   "source": [
    "opt = SteepestDescent(system.trainable_params(), 1e-6)"
   ]
  },
  {
   "cell_type": "code",
   "execution_count": 7,
   "id": "45386747-2f06-4157-8557-43cfed2f35ce",
   "metadata": {},
   "outputs": [],
   "source": [
    "sim = SimulationCell(system, potential, cutoff=1.0)\n",
    "md = Sponge(sim, optimizer=opt)"
   ]
  },
  {
   "cell_type": "code",
   "execution_count": 8,
   "id": "ec6d41b5-8da8-4add-a2b7-6e6754be5742",
   "metadata": {},
   "outputs": [
    {
     "name": "stdout",
     "output_type": "stream",
     "text": [
      "Step: 0, E_pot: -706514.3, \n",
      "Step: 10, E_pot: -780552.5, \n",
      "Step: 20, E_pot: -782711.0, \n",
      "Step: 30, E_pot: -782719.3, \n",
      "Step: 40, E_pot: -782720.56, \n",
      "Step: 50, E_pot: -782722.25, \n",
      "Step: 60, E_pot: -782720.2, \n",
      "Step: 70, E_pot: -782721.56, \n",
      "Step: 80, E_pot: -782719.44, \n",
      "Step: 90, E_pot: -782720.7, \n"
     ]
    },
    {
     "data": {
      "text/plain": [
       "<mindsponge.core.sponge.Sponge at 0x7f779e1a2050>"
      ]
     },
     "execution_count": 8,
     "metadata": {},
     "output_type": "execute_result"
    }
   ],
   "source": [
    "run_info = RunInfo(10)\n",
    "md.run(100, callbacks=[run_info])"
   ]
  },
  {
   "cell_type": "code",
   "execution_count": 9,
   "id": "d30ca198-6e5e-4ec2-a64c-99d1e254f959",
   "metadata": {},
   "outputs": [],
   "source": [
    "temp = 300\n",
    "vgen = VelocityGenerator(temp)\n",
    "velocity = vgen(system.coordinate.shape, system.atom_mass)"
   ]
  },
  {
   "cell_type": "code",
   "execution_count": 10,
   "id": "73e8a6d6-7f4b-4b0e-9fc8-1965bd5fb32b",
   "metadata": {},
   "outputs": [],
   "source": [
    "opt = DynamicUpdater(system,\n",
    "                     integrator=VelocityVerlet(system),\n",
    "                     thermostat=Langevin(system, temp),\n",
    "                     barostat=BerendsenBarostat(system, 1),\n",
    "                     velocity=velocity,\n",
    "                     time_step=5e-4)\n",
    "md = Sponge(sim, optimizer=opt)"
   ]
  },
  {
   "cell_type": "code",
   "execution_count": 11,
   "id": "7a20e0e2-8906-4f88-b315-804ac193aa9a",
   "metadata": {},
   "outputs": [
    {
     "data": {
      "text/plain": [
       "<mindsponge.core.sponge.Sponge at 0x7f76afe42a50>"
      ]
     },
     "execution_count": 11,
     "metadata": {},
     "output_type": "execute_result"
    }
   ],
   "source": [
    "md.change_optimizer(opt)"
   ]
  },
  {
   "cell_type": "code",
   "execution_count": 12,
   "id": "dc3c3c5c-4106-44ce-99f8-d842983762d9",
   "metadata": {},
   "outputs": [],
   "source": [
    "cb_h5md = WriteH5MD(system, 'tutorial_b05.h5md', save_freq=10)"
   ]
  },
  {
   "cell_type": "code",
   "execution_count": 13,
   "id": "173b4f21-81f0-4e06-9375-09132fcd254d",
   "metadata": {},
   "outputs": [
    {
     "name": "stdout",
     "output_type": "stream",
     "text": [
      "Step: 0, E_pot: -782718.3, E_kin: 10916.313, E_tot: -771802.0, Temperature: 291.85968, Pressure: 3368.909, Volume: 64.0\n",
      "Step: 10, E_pot: -779897.06, E_kin: 7632.4365, E_tot: -772264.6, Temperature: 204.0616, Pressure: 1535.7832, Volume: 64.03076\n",
      "Step: 20, E_pot: -779699.7, E_kin: 8917.413, E_tot: -770782.25, Temperature: 238.41687, Pressure: 2574.6794, Volume: 64.06491\n",
      "Step: 30, E_pot: -782010.2, E_kin: 10394.465, E_tot: -771615.75, Temperature: 277.90747, Pressure: 4127.326, Volume: 64.10935\n",
      "Step: 40, E_pot: -780588.3, E_kin: 8327.25, E_tot: -772261.06, Temperature: 222.63821, Pressure: 1256.0485, Volume: 64.15217\n",
      "Step: 50, E_pot: -781512.7, E_kin: 9897.135, E_tot: -771615.56, Temperature: 264.6108, Pressure: 1443.5708, Volume: 64.17936\n",
      "Step: 60, E_pot: -783051.3, E_kin: 10603.81, E_tot: -772447.5, Temperature: 283.50452, Pressure: 1090.4902, Volume: 64.20383\n",
      "Step: 70, E_pot: -782691.9, E_kin: 10302.405, E_tot: -772389.5, Temperature: 275.44617, Pressure: 170.93893, Volume: 64.209404\n",
      "Step: 80, E_pot: -783838.25, E_kin: 11001.886, E_tot: -772836.4, Temperature: 294.14755, Pressure: -498.805, Volume: 64.21688\n",
      "Step: 90, E_pot: -783527.6, E_kin: 10726.265, E_tot: -772801.4, Temperature: 286.7785, Pressure: -664.90393, Volume: 64.20922\n",
      "Step: 100, E_pot: -784411.06, E_kin: 11416.686, E_tot: -772994.4, Temperature: 305.23767, Pressure: -1451.2446, Volume: 64.19837\n",
      "Step: 110, E_pot: -784686.6, E_kin: 11309.884, E_tot: -773376.75, Temperature: 302.38223, Pressure: -930.7649, Volume: 64.178276\n",
      "Step: 120, E_pot: -783817.0, E_kin: 10504.905, E_tot: -773312.1, Temperature: 280.86023, Pressure: -1932.8125, Volume: 64.16141\n",
      "Step: 130, E_pot: -784653.1, E_kin: 11542.955, E_tot: -773110.2, Temperature: 308.61362, Pressure: -1645.1453, Volume: 64.13738\n",
      "Step: 140, E_pot: -784965.94, E_kin: 11324.553, E_tot: -773641.4, Temperature: 302.7744, Pressure: -1129.1903, Volume: 64.11421\n",
      "Step: 150, E_pot: -783996.56, E_kin: 10467.897, E_tot: -773528.7, Temperature: 279.8708, Pressure: -1870.3387, Volume: 64.09208\n",
      "Step: 160, E_pot: -784493.06, E_kin: 11173.49, E_tot: -773319.56, Temperature: 298.73557, Pressure: -1754.1074, Volume: 64.07027\n",
      "Step: 170, E_pot: -785011.06, E_kin: 11410.978, E_tot: -773600.06, Temperature: 305.08505, Pressure: -938.76294, Volume: 64.047806\n",
      "Step: 180, E_pot: -784553.2, E_kin: 10798.061, E_tot: -773755.1, Temperature: 288.69806, Pressure: -1601.8564, Volume: 64.027695\n",
      "Step: 190, E_pot: -784369.2, E_kin: 10906.187, E_tot: -773463.0, Temperature: 291.58893, Pressure: -1577.7401, Volume: 64.00751\n",
      "Step: 200, E_pot: -785056.4, E_kin: 11552.721, E_tot: -773503.6, Temperature: 308.87473, Pressure: -821.93475, Volume: 63.990067\n",
      "Step: 210, E_pot: -785028.44, E_kin: 11236.234, E_tot: -773792.2, Temperature: 300.41312, Pressure: -976.1129, Volume: 63.973465\n",
      "Step: 220, E_pot: -784414.56, E_kin: 10732.289, E_tot: -773682.25, Temperature: 286.93958, Pressure: -1141.2577, Volume: 63.959133\n",
      "Step: 230, E_pot: -784896.94, E_kin: 11406.49, E_tot: -773490.44, Temperature: 304.96512, Pressure: -601.4435, Volume: 63.949566\n",
      "Step: 240, E_pot: -785343.5, E_kin: 11564.377, E_tot: -773779.1, Temperature: 309.18637, Pressure: -582.2261, Volume: 63.938015\n",
      "Step: 250, E_pot: -784810.06, E_kin: 10996.477, E_tot: -773813.56, Temperature: 294.00293, Pressure: -635.7277, Volume: 63.927185\n",
      "Step: 260, E_pot: -784903.3, E_kin: 11393.874, E_tot: -773509.44, Temperature: 304.62778, Pressure: -520.12067, Volume: 63.923023\n",
      "Step: 270, E_pot: -785475.6, E_kin: 11798.118, E_tot: -773677.5, Temperature: 315.4357, Pressure: -236.699, Volume: 63.91583\n",
      "Step: 280, E_pot: -785147.0, E_kin: 11257.51, E_tot: -773889.5, Temperature: 300.98193, Pressure: -13.483084, Volume: 63.911224\n",
      "Step: 290, E_pot: -784801.2, E_kin: 11098.959, E_tot: -773702.25, Temperature: 296.74292, Pressure: -406.6633, Volume: 63.911407\n",
      "Step: 300, E_pot: -785356.9, E_kin: 11655.172, E_tot: -773701.7, Temperature: 311.6139, Pressure: -187.41733, Volume: 63.907967\n",
      "Step: 310, E_pot: -785625.25, E_kin: 11654.381, E_tot: -773970.9, Temperature: 311.5927, Pressure: 262.60474, Volume: 63.905804\n",
      "Step: 320, E_pot: -785218.75, E_kin: 11287.48, E_tot: -773931.25, Temperature: 301.78323, Pressure: -402.1994, Volume: 63.905735\n",
      "Step: 330, E_pot: -785412.06, E_kin: 11683.003, E_tot: -773729.06, Temperature: 312.35797, Pressure: -253.08643, Volume: 63.902443\n",
      "Step: 340, E_pot: -785877.9, E_kin: 12020.339, E_tot: -773857.56, Temperature: 321.377, Pressure: 368.51025, Volume: 63.902122\n",
      "Step: 350, E_pot: -785567.25, E_kin: 11614.457, E_tot: -773952.8, Temperature: 310.5253, Pressure: -169.16925, Volume: 63.901894\n",
      "Step: 360, E_pot: -785408.44, E_kin: 11645.765, E_tot: -773762.7, Temperature: 311.36237, Pressure: 14.261002, Volume: 63.902077\n",
      "Step: 370, E_pot: -785842.06, E_kin: 12105.699, E_tot: -773736.4, Temperature: 323.6592, Pressure: 230.17932, Volume: 63.90585\n",
      "Step: 380, E_pot: -786025.44, E_kin: 12058.851, E_tot: -773966.56, Temperature: 322.40668, Pressure: 74.26959, Volume: 63.90521\n",
      "Step: 390, E_pot: -785727.75, E_kin: 11853.141, E_tot: -773874.6, Temperature: 316.9068, Pressure: 0.25210318, Volume: 63.906216\n",
      "Step: 400, E_pot: -785921.7, E_kin: 12158.826, E_tot: -773762.9, Temperature: 325.07962, Pressure: -56.205986, Volume: 63.908596\n",
      "Step: 410, E_pot: -786190.8, E_kin: 12293.829, E_tot: -773897.0, Temperature: 328.6891, Pressure: 187.9077, Volume: 63.90784\n",
      "Step: 420, E_pot: -785797.9, E_kin: 11832.898, E_tot: -773965.0, Temperature: 316.36557, Pressure: 135.12111, Volume: 63.909077\n",
      "Step: 430, E_pot: -785615.1, E_kin: 11824.295, E_tot: -773790.8, Temperature: 316.1356, Pressure: 26.706488, Volume: 63.912548\n",
      "Step: 440, E_pot: -786061.7, E_kin: 12235.475, E_tot: -773826.2, Temperature: 327.1289, Pressure: 341.32614, Volume: 63.91527\n",
      "Step: 450, E_pot: -786015.6, E_kin: 12051.375, E_tot: -773964.25, Temperature: 322.2068, Pressure: 384.7119, Volume: 63.91845\n",
      "Step: 460, E_pot: -785742.06, E_kin: 11854.492, E_tot: -773887.56, Temperature: 316.94293, Pressure: 163.65524, Volume: 63.92364\n",
      "Step: 470, E_pot: -785954.0, E_kin: 12136.875, E_tot: -773817.1, Temperature: 324.49274, Pressure: 396.67035, Volume: 63.92904\n",
      "Step: 480, E_pot: -786144.8, E_kin: 12177.516, E_tot: -773967.3, Temperature: 325.5793, Pressure: 655.9394, Volume: 63.934757\n",
      "Step: 490, E_pot: -785889.3, E_kin: 11909.503, E_tot: -773979.8, Temperature: 318.4137, Pressure: 346.27875, Volume: 63.94201\n",
      "Step: 500, E_pot: -786010.4, E_kin: 12187.138, E_tot: -773823.25, Temperature: 325.83655, Pressure: 377.67578, Volume: 63.949142\n",
      "Step: 510, E_pot: -786335.56, E_kin: 12445.023, E_tot: -773890.56, Temperature: 332.7314, Pressure: 610.7151, Volume: 63.955757\n",
      "Step: 520, E_pot: -786181.8, E_kin: 12181.229, E_tot: -774000.56, Temperature: 325.6786, Pressure: 369.57172, Volume: 63.962666\n",
      "Step: 530, E_pot: -786009.56, E_kin: 12118.835, E_tot: -773890.75, Temperature: 324.0104, Pressure: 246.42577, Volume: 63.967857\n",
      "Step: 540, E_pot: -786276.7, E_kin: 12377.523, E_tot: -773899.2, Temperature: 330.92676, Pressure: 496.14026, Volume: 63.974403\n",
      "Step: 550, E_pot: -786368.5, E_kin: 12374.98, E_tot: -773993.5, Temperature: 330.85876, Pressure: 336.71677, Volume: 63.97955\n",
      "Step: 560, E_pot: -786251.06, E_kin: 12251.381, E_tot: -773999.7, Temperature: 327.55417, Pressure: 260.0076, Volume: 63.98351\n",
      "Step: 570, E_pot: -786268.56, E_kin: 12380.562, E_tot: -773888.0, Temperature: 331.00797, Pressure: 345.80453, Volume: 63.989803\n",
      "Step: 580, E_pot: -786405.2, E_kin: 12459.88, E_tot: -773945.3, Temperature: 333.12863, Pressure: 390.66135, Volume: 63.994335\n",
      "Step: 590, E_pot: -786284.3, E_kin: 12245.141, E_tot: -774039.2, Temperature: 327.38733, Pressure: 529.2882, Volume: 63.99983\n",
      "Step: 600, E_pot: -786148.56, E_kin: 12178.033, E_tot: -773970.5, Temperature: 325.59314, Pressure: 311.75342, Volume: 64.007805\n",
      "Step: 610, E_pot: -786369.94, E_kin: 12446.68, E_tot: -773923.25, Temperature: 332.77573, Pressure: 424.7108, Volume: 64.01293\n",
      "Step: 620, E_pot: -786317.7, E_kin: 12338.861, E_tot: -773978.8, Temperature: 329.89307, Pressure: 645.1033, Volume: 64.01987\n",
      "Step: 630, E_pot: -786076.3, E_kin: 12154.531, E_tot: -773921.75, Temperature: 324.9648, Pressure: 456.0498, Volume: 64.02863\n",
      "Step: 640, E_pot: -786155.75, E_kin: 12289.249, E_tot: -773866.5, Temperature: 328.56662, Pressure: 544.7092, Volume: 64.03631\n",
      "Step: 650, E_pot: -786234.7, E_kin: 12331.417, E_tot: -773903.25, Temperature: 329.69403, Pressure: 711.60864, Volume: 64.04553\n",
      "Step: 660, E_pot: -786164.9, E_kin: 12274.283, E_tot: -773890.56, Temperature: 328.1665, Pressure: 471.07935, Volume: 64.05408\n",
      "Step: 670, E_pot: -786133.3, E_kin: 12248.415, E_tot: -773884.9, Temperature: 327.47488, Pressure: 546.22095, Volume: 64.06143\n",
      "Step: 680, E_pot: -786237.6, E_kin: 12368.945, E_tot: -773868.7, Temperature: 330.6974, Pressure: 690.78723, Volume: 64.07141\n",
      "Step: 690, E_pot: -786245.3, E_kin: 12333.179, E_tot: -773912.1, Temperature: 329.74115, Pressure: 450.94183, Volume: 64.079315\n",
      "Step: 700, E_pot: -786136.1, E_kin: 12228.581, E_tot: -773907.56, Temperature: 326.94458, Pressure: 586.7721, Volume: 64.08651\n",
      "Step: 710, E_pot: -786257.56, E_kin: 12399.848, E_tot: -773857.7, Temperature: 331.5236, Pressure: 552.2212, Volume: 64.096634\n",
      "Step: 720, E_pot: -786384.4, E_kin: 12482.934, E_tot: -773901.44, Temperature: 333.745, Pressure: 478.1936, Volume: 64.10259\n",
      "Step: 730, E_pot: -786259.5, E_kin: 12362.268, E_tot: -773897.25, Temperature: 330.51886, Pressure: 599.5217, Volume: 64.11023\n",
      "Step: 740, E_pot: -786203.4, E_kin: 12395.182, E_tot: -773808.2, Temperature: 331.39886, Pressure: 408.8603, Volume: 64.11895\n",
      "Step: 750, E_pot: -786342.3, E_kin: 12466.805, E_tot: -773875.5, Temperature: 333.31378, Pressure: 527.8883, Volume: 64.12501\n",
      "Step: 760, E_pot: -786273.56, E_kin: 12358.137, E_tot: -773915.44, Temperature: 330.40842, Pressure: 636.0193, Volume: 64.13346\n",
      "Step: 770, E_pot: -786266.6, E_kin: 12433.072, E_tot: -773833.56, Temperature: 332.4119, Pressure: 239.95285, Volume: 64.14103\n",
      "Step: 780, E_pot: -786422.3, E_kin: 12577.1, E_tot: -773845.2, Temperature: 336.2626, Pressure: 508.98105, Volume: 64.14559\n",
      "Step: 790, E_pot: -786340.2, E_kin: 12456.209, E_tot: -773884.0, Temperature: 333.0305, Pressure: 612.8556, Volume: 64.154205\n",
      "Step: 800, E_pot: -786211.9, E_kin: 12407.84, E_tot: -773804.06, Temperature: 331.73727, Pressure: 260.59225, Volume: 64.16042\n",
      "Step: 810, E_pot: -786194.0, E_kin: 12370.392, E_tot: -773823.6, Temperature: 330.73605, Pressure: 584.9738, Volume: 64.16611\n",
      "Step: 820, E_pot: -786238.0, E_kin: 12401.814, E_tot: -773836.2, Temperature: 331.57617, Pressure: 582.9131, Volume: 64.175896\n",
      "Step: 830, E_pot: -786212.0, E_kin: 12306.1, E_tot: -773905.9, Temperature: 329.01715, Pressure: 266.18707, Volume: 64.18135\n",
      "Step: 840, E_pot: -786165.4, E_kin: 12339.364, E_tot: -773826.0, Temperature: 329.90652, Pressure: 578.5869, Volume: 64.187454\n",
      "Step: 850, E_pot: -786373.56, E_kin: 12574.951, E_tot: -773798.6, Temperature: 336.20517, Pressure: 492.22174, Volume: 64.19661\n",
      "Step: 860, E_pot: -786492.9, E_kin: 12624.336, E_tot: -773868.56, Temperature: 337.52554, Pressure: 298.85004, Volume: 64.201324\n",
      "Step: 870, E_pot: -786326.06, E_kin: 12491.556, E_tot: -773834.5, Temperature: 333.97552, Pressure: 501.99133, Volume: 64.207275\n",
      "Step: 880, E_pot: -786420.9, E_kin: 12657.058, E_tot: -773763.8, Temperature: 338.4004, Pressure: 422.93256, Volume: 64.21571\n",
      "Step: 890, E_pot: -786463.4, E_kin: 12636.708, E_tot: -773826.7, Temperature: 337.85632, Pressure: 336.4541, Volume: 64.21973\n",
      "Step: 900, E_pot: -786285.6, E_kin: 12467.028, E_tot: -773818.6, Temperature: 333.31973, Pressure: 586.1897, Volume: 64.22583\n",
      "Step: 910, E_pot: -786334.06, E_kin: 12599.804, E_tot: -773734.25, Temperature: 336.86963, Pressure: 337.9631, Volume: 64.23466\n",
      "Step: 920, E_pot: -786492.4, E_kin: 12719.089, E_tot: -773773.3, Temperature: 340.05887, Pressure: 385.8628, Volume: 64.23884\n",
      "Step: 930, E_pot: -786332.75, E_kin: 12547.432, E_tot: -773785.3, Temperature: 335.46942, Pressure: 540.2646, Volume: 64.24554\n",
      "Step: 940, E_pot: -786144.7, E_kin: 12402.109, E_tot: -773742.56, Temperature: 331.58408, Pressure: 189.4218, Volume: 64.25205\n",
      "Step: 950, E_pot: -786259.75, E_kin: 12526.363, E_tot: -773733.4, Temperature: 334.90613, Pressure: 485.28076, Volume: 64.25637\n",
      "Step: 960, E_pot: -786258.5, E_kin: 12455.923, E_tot: -773802.56, Temperature: 333.02283, Pressure: 522.6105, Volume: 64.26404\n",
      "Step: 970, E_pot: -786070.2, E_kin: 12296.5205, E_tot: -773773.7, Temperature: 328.76102, Pressure: 203.14676, Volume: 64.26947\n",
      "Step: 980, E_pot: -786201.56, E_kin: 12502.472, E_tot: -773699.06, Temperature: 334.26736, Pressure: 564.5991, Volume: 64.27473\n",
      "Step: 990, E_pot: -786336.94, E_kin: 12589.901, E_tot: -773747.06, Temperature: 336.6049, Pressure: 533.6204, Volume: 64.28322\n"
     ]
    },
    {
     "data": {
      "text/plain": [
       "<mindsponge.core.sponge.Sponge at 0x7f76afe42a50>"
      ]
     },
     "execution_count": 13,
     "metadata": {},
     "output_type": "execute_result"
    }
   ],
   "source": [
    "md.run(1000, callbacks=[run_info, cb_h5md])"
   ]
  }
 ],
 "metadata": {
  "kernelspec": {
   "display_name": "MindSpore",
   "language": "python",
   "name": "mindspore"
  },
  "language_info": {
   "codemirror_mode": {
    "name": "ipython",
    "version": 3
   },
   "file_extension": ".py",
   "mimetype": "text/x-python",
   "name": "python",
   "nbconvert_exporter": "python",
   "pygments_lexer": "ipython3",
   "version": "3.7.10"
  }
 },
 "nbformat": 4,
 "nbformat_minor": 5
}
