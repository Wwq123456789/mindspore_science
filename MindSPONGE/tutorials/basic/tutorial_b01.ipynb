{
 "cells": [
  {
   "cell_type": "code",
   "execution_count": 1,
   "id": "6543a19e-f04b-4d32-8c26-476931cbbbda",
   "metadata": {},
   "outputs": [],
   "source": [
    "import numpy as np\n",
    "from mindspore import context\n",
    "from mindsponge import Sponge\n",
    "from mindsponge import Molecule\n",
    "from mindsponge import ForceFieldBase\n",
    "from mindsponge import DynamicUpdater\n",
    "\n",
    "from mindsponge.potential import BondEnergy, AngleEnergy\n",
    "from mindsponge.callback import WriteH5MD, RunInfo\n",
    "from mindsponge.function import VelocityGenerator\n",
    "from mindsponge.control import LeapFrog, BerendsenThermostat"
   ]
  },
  {
   "cell_type": "markdown",
   "id": "a35b79c3-9560-430a-a6f1-c72b820e7b9d",
   "metadata": {},
   "source": [
    "## 图模式选择与GPU选择\n",
    "\n",
    "一般情况下，使用MindSpore的静态图模式GRAPH_MODE会取得更好的速度增益，而动态图模式PYNATIVE_MODE更多的被用于进行Debug。在硬件平台上，如果没有华为的Ascend专用硬件，一般都是在GPU上运行，才有一定的速度保障。如果有多张卡，可以通过device_id进行选择。"
   ]
  },
  {
   "cell_type": "code",
   "execution_count": 2,
   "id": "6f876c41-e1d6-4a32-8f96-0e6cd26e559e",
   "metadata": {},
   "outputs": [],
   "source": [
    "context.set_context(mode=context.GRAPH_MODE, device_target=\"GPU\")"
   ]
  },
  {
   "cell_type": "markdown",
   "id": "ecededb8-a743-413e-b5d0-11eec3436e88",
   "metadata": {},
   "source": [
    "## 创建分子对象\n",
    "\n",
    "一个分子，可以是三个原子组成的水分子，也可以是上万个原子组成的蛋白质。在MindSponge中，为不同类型的分子提供了多种定义形式。当定义一个小体系$H_2O$时，我们可以直接用常规的列表来定义分子中所包含的原子种类、原子坐标以及键连信息等。在后续的案例中我们也会讲到，还可以通过配置文件等方式来进行定义，这两种方式都是支持的。"
   ]
  },
  {
   "cell_type": "code",
   "execution_count": 3,
   "id": "ebdee15c-926a-4c59-9ff9-50625798762f",
   "metadata": {},
   "outputs": [],
   "source": [
    "system = Molecule(atoms=['O', 'H', 'H'],\n",
    "                  coordinate=[[0, 0, 0], [0.1, 0, 0], [-0.0333, 0.0943, 0]],\n",
    "                  bond=[[[0, 1], [0, 2]]])"
   ]
  },
  {
   "cell_type": "markdown",
   "id": "ebd0e9a7-5b52-4e98-b6e1-c39ec069a8ae",
   "metadata": {},
   "source": [
    "## 能量项定义\n",
    "\n",
    "不同的分子体系会有不同的能量项的需求。比如当前定义的$H_2O$分子，因为只有3个原子，因此涉及到的能量项只有近程相互作用中的键相互作用和角相互作用：\n",
    "\n",
    "$$\n",
    "E_{bond}=\\frac{1}{2}k_b(l-l_0)^2\\\\\n",
    "E_{angle}=\\frac{1}{2}k_a(a-a_0)^2\n",
    "$$"
   ]
  },
  {
   "cell_type": "code",
   "execution_count": 4,
   "id": "87adb0e2-79e1-4f8a-be8d-f9692fd1e1d0",
   "metadata": {},
   "outputs": [],
   "source": [
    "bond_energy = BondEnergy(index=system.bond,\n",
    "                         force_constant=[[345000, 345000]],\n",
    "                         bond_length=[[0.1, 0.1]])"
   ]
  },
  {
   "cell_type": "code",
   "execution_count": 5,
   "id": "63c9db0d-91ce-4e34-8470-aadd27218194",
   "metadata": {},
   "outputs": [],
   "source": [
    "angle_energy = AngleEnergy(index=[[1, 0, 2]],\n",
    "                           force_constant=[[383]],\n",
    "                           bond_angle=[[109.47 / 180 * np.pi]])"
   ]
  },
  {
   "cell_type": "code",
   "execution_count": 6,
   "id": "6d232d05-edf6-4593-ac40-aecf0e562e1c",
   "metadata": {},
   "outputs": [],
   "source": [
    "potential = ForceFieldBase(energy=[bond_energy, angle_energy])"
   ]
  },
  {
   "cell_type": "markdown",
   "id": "c3afb783-e6a4-4bdf-9e2a-21f02412c3f6",
   "metadata": {},
   "source": [
    "## 速度生成器\n",
    "\n",
    "根据指定的温度，我们可以计算出系统平均运动动能，进而通过标准正态分布生成随机的一组原子运动速度，用于初始化系统。"
   ]
  },
  {
   "cell_type": "code",
   "execution_count": 7,
   "id": "20adeb34-0636-498b-a6ba-fcb23902136d",
   "metadata": {},
   "outputs": [],
   "source": [
    "vgen = VelocityGenerator(300)\n",
    "velocity = vgen(system.coordinate.shape, system.atom_mass)"
   ]
  },
  {
   "cell_type": "markdown",
   "id": "272fec0d-9eb4-4882-a886-00aad2cb3941",
   "metadata": {},
   "source": [
    "## 动力学积分器\n",
    "\n",
    "如果不对系统施加任何的限制，任由系统去演化的话，就只需要配置integrator积分器，常见的算法有LeapFrog与VelocityVerlet，在MindSponge的control中都是支持的。通过前面配置的各项势能项，利用MindSpore框架的自动微分，就可以计算出当前受力以及下一步的位移，进而实现分子系统的演化。\n",
    "\n",
    "如果需要对系统施加以一定的控制，比如控制系统的温度，或者是控制系统的压强，在MindSponge的control中可以调用BerendsenThermostat、Barostat等算法，来跑一个NVT的系统，避免系统演化中可能出现的温度震荡现象。\n",
    "\n",
    "后续在MindSponge的新版本中，还会对LINCS、SETTLE等键长约束算法进行支持，可以在动力学演化的过程中确保不会出现不合理的键长拉伸，最大程度上的保障分子系统键连关系的合理性。"
   ]
  },
  {
   "cell_type": "code",
   "execution_count": 8,
   "id": "c411534c-1ac0-42a3-93b8-cf140d89cf49",
   "metadata": {},
   "outputs": [],
   "source": [
    "opt = DynamicUpdater(system,\n",
    "                     integrator=LeapFrog(system),\n",
    "                     thermostat=BerendsenThermostat(system, 300),\n",
    "                     time_step=1e-3,\n",
    "                     velocity=velocity)"
   ]
  },
  {
   "cell_type": "code",
   "execution_count": 9,
   "id": "d7433369-20e8-4caa-bcce-195a803ba4e8",
   "metadata": {},
   "outputs": [],
   "source": [
    "md = Sponge(system, potential, opt)"
   ]
  },
  {
   "cell_type": "markdown",
   "id": "d1e2217a-5e76-4ef1-82e6-cda9cbe9b8d7",
   "metadata": {},
   "source": [
    "## 信息回调\n",
    "\n",
    "基于MindSpore的信息回调系统CallBack，我们可以创建一些符合自己需求的信息回调机制，比如使用RunInfo在屏幕上对系统能量进行输出，或者是通过WriteH5MD将轨迹输出到hdf5/h5md文件中。\n",
    "\n",
    "关于h5md格式的轨迹输出，可以使用改进版的VMD-h5mdplugin进行可视化，相关安装和说明链接为：https://gitee.com/helloyesterday/VMD-h5mdplugin"
   ]
  },
  {
   "cell_type": "code",
   "execution_count": 10,
   "id": "c84061d8-c1dc-425f-9145-494eacf7f126",
   "metadata": {},
   "outputs": [],
   "source": [
    "run_info = RunInfo(10)\n",
    "cb_h5md = WriteH5MD(system, 'tutorial_b01.h5md', save_freq=10, write_velocity=True, write_force=True)"
   ]
  },
  {
   "cell_type": "code",
   "execution_count": 11,
   "id": "924cfb6b-d196-4ecb-bf75-cecd3810a496",
   "metadata": {},
   "outputs": [
    {
     "name": "stdout",
     "output_type": "stream",
     "text": [
      "Step: 0, E_pot: 3.2556585e-05, E_kin: 2.2424183, E_tot: 2.242451, Temperature: 89.900314\n",
      "Step: 10, E_pot: 0.08826751, E_kin: 1.9507257, E_tot: 2.0389931, Temperature: 78.20613\n",
      "Step: 20, E_pot: 0.33794853, E_kin: 1.5694458, E_tot: 1.9073944, Temperature: 62.920315\n",
      "Step: 30, E_pot: 0.7073656, E_kin: 1.1653502, E_tot: 1.8727157, Temperature: 46.719803\n",
      "Step: 40, E_pot: 1.1276457, E_kin: 0.8170904, E_tot: 1.9447361, Temperature: 32.757793\n",
      "Step: 50, E_pot: 1.5250387, E_kin: 0.58905756, E_tot: 2.1140962, Temperature: 23.615782\n",
      "Step: 60, E_pot: 1.8253816, E_kin: 0.5274784, E_tot: 2.35286, Temperature: 21.147024\n",
      "Step: 70, E_pot: 1.9750346, E_kin: 0.6455488, E_tot: 2.6205835, Temperature: 25.88056\n",
      "Step: 80, E_pot: 1.9454645, E_kin: 0.92594516, E_tot: 2.8714097, Temperature: 37.12187\n",
      "Step: 90, E_pot: 1.7424487, E_kin: 1.3190627, E_tot: 3.0615115, Temperature: 52.882263\n",
      "Step: 100, E_pot: 1.4011104, E_kin: 1.7579412, E_tot: 3.1590517, Temperature: 70.47725\n",
      "Step: 110, E_pot: 0.9859305, E_kin: 2.1624079, E_tot: 3.1483383, Temperature: 86.69263\n",
      "Step: 120, E_pot: 0.5706745, E_kin: 2.4614184, E_tot: 3.0320928, Temperature: 98.6802\n",
      "Step: 130, E_pot: 0.23327047, E_kin: 2.6017644, E_tot: 2.8350348, Temperature: 104.30678\n",
      "Step: 140, E_pot: 0.03718906, E_kin: 2.555747, E_tot: 2.592936, Temperature: 102.46191\n",
      "Step: 150, E_pot: 0.018239263, E_kin: 2.335674, E_tot: 2.3539133, Temperature: 93.63901\n",
      "Step: 160, E_pot: 0.18620755, E_kin: 1.9766802, E_tot: 2.1628878, Temperature: 79.246666\n",
      "Step: 170, E_pot: 0.50878125, E_kin: 1.5490482, E_tot: 2.0578294, Temperature: 62.10256\n",
      "Step: 180, E_pot: 0.93433607, E_kin: 1.1275558, E_tot: 2.061892, Temperature: 45.2046\n",
      "Step: 190, E_pot: 1.3845543, E_kin: 0.7920736, E_tot: 2.1766279, Temperature: 31.754852\n",
      "Step: 200, E_pot: 1.7806035, E_kin: 0.6053, E_tot: 2.3859036, Temperature: 24.266953\n",
      "Step: 210, E_pot: 2.0517483, E_kin: 0.6028632, E_tot: 2.6546116, Temperature: 24.169258\n",
      "Step: 220, E_pot: 2.1478934, E_kin: 0.7891108, E_tot: 2.937004, Temperature: 31.636072\n",
      "Step: 230, E_pot: 2.0536625, E_kin: 1.1315928, E_tot: 3.1852553, Temperature: 45.366444\n",
      "Step: 240, E_pot: 1.7836821, E_kin: 1.5727491, E_tot: 3.3564312, Temperature: 63.052753\n",
      "Step: 250, E_pot: 1.3891431, E_kin: 2.0336468, E_tot: 3.42279, Temperature: 81.530495\n",
      "Step: 260, E_pot: 0.9394298, E_kin: 2.435011, E_tot: 3.3744407, Temperature: 97.6215\n",
      "Step: 270, E_pot: 0.51825094, E_kin: 2.704507, E_tot: 3.222758, Temperature: 108.42582\n",
      "Step: 280, E_pot: 0.19988531, E_kin: 2.7975903, E_tot: 2.9974756, Temperature: 112.15759\n",
      "Step: 290, E_pot: 0.044360545, E_kin: 2.6984978, E_tot: 2.7428584, Temperature: 108.1849\n",
      "Step: 300, E_pot: 0.07904734, E_kin: 2.4274926, E_tot: 2.50654, Temperature: 97.32009\n",
      "Step: 310, E_pot: 0.29718268, E_kin: 2.0384812, E_tot: 2.3356638, Temperature: 81.72431\n",
      "Step: 320, E_pot: 0.6620613, E_kin: 1.6009067, E_tot: 2.262968, Temperature: 64.18161\n",
      "Step: 330, E_pot: 1.1024709, E_kin: 1.2022617, E_tot: 2.3047326, Temperature: 48.199615\n",
      "Step: 340, E_pot: 1.5444865, E_kin: 0.91287094, E_tot: 2.4573574, Temperature: 36.597713\n",
      "Step: 350, E_pot: 1.9004889, E_kin: 0.79265124, E_tot: 2.69314, Temperature: 31.778011\n",
      "Step: 360, E_pot: 2.1106143, E_kin: 0.864895, E_tot: 2.9755092, Temperature: 34.67432\n",
      "Step: 370, E_pot: 2.1324332, E_kin: 1.1187629, E_tot: 3.251196, Temperature: 44.852085\n",
      "Step: 380, E_pot: 1.9617685, E_kin: 1.5136461, E_tot: 3.4754148, Temperature: 60.683266\n",
      "Step: 390, E_pot: 1.6303345, E_kin: 1.9765154, E_tot: 3.60685, Temperature: 79.24005\n",
      "Step: 400, E_pot: 1.1961346, E_kin: 2.4276552, E_tot: 3.6237898, Temperature: 97.32661\n",
      "Step: 410, E_pot: 0.74091715, E_kin: 2.783907, E_tot: 3.5248241, Temperature: 111.60902\n",
      "Step: 420, E_pot: 0.34806904, E_kin: 2.9801555, E_tot: 3.3282244, Temperature: 119.476776\n",
      "Step: 430, E_pot: 0.09085976, E_kin: 2.9816296, E_tot: 3.0724893, Temperature: 119.53587\n",
      "Step: 440, E_pot: 0.02139394, E_kin: 2.7842994, E_tot: 2.8056934, Temperature: 111.624756\n",
      "Step: 450, E_pot: 0.15279786, E_kin: 2.4259124, E_tot: 2.5787103, Temperature: 97.25673\n",
      "Step: 460, E_pot: 0.4678119, E_kin: 1.9687203, E_tot: 2.4365323, Temperature: 78.92754\n",
      "Step: 470, E_pot: 0.91012424, E_kin: 1.4976065, E_tot: 2.4077308, Temperature: 60.040222\n",
      "Step: 480, E_pot: 1.4038142, E_kin: 1.0978805, E_tot: 2.5016947, Temperature: 44.01489\n",
      "Step: 490, E_pot: 1.8604796, E_kin: 0.8445522, E_tot: 2.7050319, Temperature: 33.858765\n",
      "Step: 500, E_pot: 2.1986933, E_kin: 0.78604484, E_tot: 2.984738, Temperature: 31.513157\n",
      "Step: 510, E_pot: 2.35797, E_kin: 0.9353036, E_tot: 3.2932737, Temperature: 37.49706\n",
      "Step: 520, E_pot: 2.3081758, E_kin: 1.2706878, E_tot: 3.5788636, Temperature: 50.942875\n",
      "Step: 530, E_pot: 2.059462, E_kin: 1.7317182, E_tot: 3.7911801, Temperature: 69.42594\n",
      "Step: 540, E_pot: 1.6521499, E_kin: 2.2442844, E_tot: 3.8964343, Temperature: 89.97513\n",
      "Step: 550, E_pot: 1.1640228, E_kin: 2.7119079, E_tot: 3.8759308, Temperature: 108.72252\n",
      "Step: 560, E_pot: 0.6754662, E_kin: 3.060735, E_tot: 3.7362013, Temperature: 122.70727\n",
      "Step: 570, E_pot: 0.2814159, E_kin: 3.2232916, E_tot: 3.5047076, Temperature: 129.2243\n",
      "Step: 580, E_pot: 0.046051282, E_kin: 3.177403, E_tot: 3.2234542, Temperature: 127.38459\n",
      "Step: 590, E_pot: 0.017057752, E_kin: 2.930806, E_tot: 2.9478636, Temperature: 117.498314\n",
      "Step: 600, E_pot: 0.19733182, E_kin: 2.5297618, E_tot: 2.7270937, Temperature: 101.420135\n",
      "Step: 610, E_pot: 0.55483073, E_kin: 2.0511048, E_tot: 2.6059356, Temperature: 82.2304\n",
      "Step: 620, E_pot: 1.0269608, E_kin: 1.5805043, E_tot: 2.6074653, Temperature: 63.363663\n",
      "Step: 630, E_pot: 1.5258734, E_kin: 1.208772, E_tot: 2.7346454, Temperature: 48.460617\n",
      "Step: 640, E_pot: 1.9639455, E_kin: 1.0031748, E_tot: 2.9671202, Temperature: 40.218067\n",
      "Step: 650, E_pot: 2.2593958, E_kin: 1.0062263, E_tot: 3.2656221, Temperature: 40.340405\n",
      "Step: 660, E_pot: 2.3610582, E_kin: 1.2168707, E_tot: 3.577929, Temperature: 48.7853\n",
      "Step: 670, E_pot: 2.247323, E_kin: 1.6037244, E_tot: 3.8510475, Temperature: 64.29457\n",
      "Step: 680, E_pot: 1.9432169, E_kin: 2.0933354, E_tot: 4.0365524, Temperature: 83.92346\n",
      "Step: 690, E_pot: 1.4975793, E_kin: 2.6062078, E_tot: 4.1037874, Temperature: 104.484924\n",
      "Step: 700, E_pot: 0.9994094, E_kin: 3.0436623, E_tot: 4.0430717, Temperature: 122.02282\n",
      "Step: 710, E_pot: 0.5307236, E_kin: 3.334232, E_tot: 3.8649557, Temperature: 133.672\n",
      "Step: 720, E_pot: 0.18506396, E_kin: 3.4222765, E_tot: 3.6073403, Temperature: 137.20177\n",
      "Step: 730, E_pot: 0.021030385, E_kin: 3.2927175, E_tot: 3.313748, Temperature: 132.00763\n",
      "Step: 740, E_pot: 0.07198271, E_kin: 2.9721406, E_tot: 3.0441232, Temperature: 119.15546\n",
      "Step: 750, E_pot: 0.33271202, E_kin: 2.5125813, E_tot: 2.8452933, Temperature: 100.73136\n",
      "Step: 760, E_pot: 0.75356174, E_kin: 2.004657, E_tot: 2.7582188, Temperature: 80.36828\n",
      "Step: 770, E_pot: 1.2675023, E_kin: 1.5328488, E_tot: 2.8003511, Temperature: 61.453114\n",
      "Step: 780, E_pot: 1.7766306, E_kin: 1.1899214, E_tot: 2.966552, Temperature: 47.704884\n",
      "Step: 790, E_pot: 2.1967757, E_kin: 1.0340103, E_tot: 3.2307858, Temperature: 41.454285\n",
      "Step: 800, E_pot: 2.4484234, E_kin: 1.0983799, E_tot: 3.5468032, Temperature: 44.034912\n",
      "Step: 810, E_pot: 2.4898434, E_kin: 1.3715677, E_tot: 3.861411, Temperature: 54.98723\n",
      "Step: 820, E_pot: 2.3125668, E_kin: 1.8066124, E_tot: 4.1191792, Temperature: 72.42851\n",
      "Step: 830, E_pot: 1.9482785, E_kin: 2.3288984, E_tot: 4.277177, Temperature: 93.36737\n",
      "Step: 840, E_pot: 1.4650267, E_kin: 2.8428364, E_tot: 4.307863, Temperature: 113.97154\n",
      "Step: 850, E_pot: 0.9460827, E_kin: 3.2633467, E_tot: 4.2094293, Temperature: 130.83014\n",
      "Step: 860, E_pot: 0.49089044, E_kin: 3.509974, E_tot: 4.0008645, Temperature: 140.71762\n",
      "Step: 870, E_pot: 0.17461078, E_kin: 3.547892, E_tot: 3.722503, Temperature: 142.23778\n",
      "Step: 880, E_pot: 0.06158195, E_kin: 3.3666072, E_tot: 3.428189, Temperature: 134.96992\n",
      "Step: 890, E_pot: 0.16615868, E_kin: 3.0050912, E_tot: 3.1712499, Temperature: 120.47647\n",
      "Step: 900, E_pot: 0.47226828, E_kin: 2.5317583, E_tot: 3.0040267, Temperature: 101.50018\n",
      "Step: 910, E_pot: 0.9255438, E_kin: 2.0306728, E_tot: 2.9562166, Temperature: 81.41126\n",
      "Step: 920, E_pot: 1.438174, E_kin: 1.6032053, E_tot: 3.0413795, Temperature: 64.273766\n",
      "Step: 930, E_pot: 1.9263238, E_kin: 1.3203477, E_tot: 3.2466714, Temperature: 52.933777\n",
      "Step: 940, E_pot: 2.2896228, E_kin: 1.2460071, E_tot: 3.5356297, Temperature: 49.953403\n",
      "Step: 950, E_pot: 2.4727702, E_kin: 1.389812, E_tot: 3.8625822, Temperature: 55.718655\n",
      "Step: 960, E_pot: 2.4319577, E_kin: 1.7335813, E_tot: 4.165539, Temperature: 69.50063\n",
      "Step: 970, E_pot: 2.1794007, E_kin: 2.2171586, E_tot: 4.3965592, Temperature: 88.88763\n",
      "Step: 980, E_pot: 1.756378, E_kin: 2.755124, E_tot: 4.5115023, Temperature: 110.45509\n",
      "Step: 990, E_pot: 1.239468, E_kin: 3.253532, E_tot: 4.493, Temperature: 130.43666\n"
     ]
    },
    {
     "data": {
      "text/plain": [
       "<mindsponge.core.sponge.Sponge at 0x7f2e6d4fa110>"
      ]
     },
     "execution_count": 11,
     "metadata": {},
     "output_type": "execute_result"
    }
   ],
   "source": [
    "md.run(1000, callbacks=[run_info, cb_h5md])"
   ]
  },
  {
   "cell_type": "markdown",
   "id": "e0bfd201-98dd-4326-bb4b-5300ae1db0d0",
   "metadata": {},
   "source": [
    "上述运行结果的轨迹输出如下图所示，该结果展示使用了VMD-h5mdplugin插件，在VMD中对分子运行轨迹进行了可视化。\n",
    "\n",
    "![](../../docs/tutorial_b01.gif)"
   ]
  }
 ],
 "metadata": {
  "kernelspec": {
   "display_name": "MindSpore",
   "language": "python",
   "name": "mindspore"
  },
  "language_info": {
   "codemirror_mode": {
    "name": "ipython",
    "version": 3
   },
   "file_extension": ".py",
   "mimetype": "text/x-python",
   "name": "python",
   "nbconvert_exporter": "python",
   "pygments_lexer": "ipython3",
   "version": "3.7.10"
  }
 },
 "nbformat": 4,
 "nbformat_minor": 5
}
