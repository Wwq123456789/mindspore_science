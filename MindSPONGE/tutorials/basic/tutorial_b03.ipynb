{
 "cells": [
  {
   "cell_type": "code",
   "execution_count": 1,
   "id": "24964024-bf19-46c4-809f-546226e317e2",
   "metadata": {},
   "outputs": [],
   "source": [
    "from mindspore import context\n",
    "from mindspore.nn import Adam\n",
    "from mindsponge import Sponge\n",
    "from mindsponge import Molecule\n",
    "from mindsponge import ForceField\n",
    "from mindsponge.callback import WriteH5MD, RunInfo"
   ]
  },
  {
   "cell_type": "code",
   "execution_count": 2,
   "id": "44888a42-9e74-43ae-9744-7c7ba3b0516d",
   "metadata": {},
   "outputs": [],
   "source": [
    "context.set_context(mode=context.GRAPH_MODE, device_target=\"GPU\")"
   ]
  },
  {
   "cell_type": "code",
   "execution_count": 3,
   "id": "28b58da8-2137-4a63-ba53-4eddff31cdf7",
   "metadata": {},
   "outputs": [],
   "source": [
    "system = Molecule(template='water.spce.yaml')"
   ]
  },
  {
   "cell_type": "markdown",
   "id": "74ec23d9-a8d3-4d91-aa84-bf13859a454f",
   "metadata": {},
   "source": [
    "## 分子系统的复制与扩展\n",
    "\n",
    "在分子对象的最基础的类Molecule中，支持了reduplicate和copy两种复制的模式，其实是同样的操作，不同点在于，reduplicate复制之后会默认把新生成的分子添加到此前定义的分子体系中去。而copy则是创建了一个新的对象，需要通过Molecule内置的append方法，才能把copy出来的对象添加到原始的分子系统中去。"
   ]
  },
  {
   "cell_type": "code",
   "execution_count": 4,
   "id": "7d5c3022-d3fb-4a37-96a7-4a1158176713",
   "metadata": {},
   "outputs": [
    {
     "data": {
      "text/plain": [
       "Molecule<>"
      ]
     },
     "execution_count": 4,
     "metadata": {},
     "output_type": "execute_result"
    }
   ],
   "source": [
    "system.reduplicate([0.3, 0, 0])\n",
    "system.reduplicate([0, 0.3, 0])\n",
    "new_sys = system.copy([0, 0, -0.3])\n",
    "system.reduplicate([0, 0, 0.3])\n",
    "system.append(new_sys)"
   ]
  },
  {
   "cell_type": "code",
   "execution_count": 5,
   "id": "9f5c47cd-8cf0-4119-b21a-ad005ef50fb4",
   "metadata": {},
   "outputs": [],
   "source": [
    "potential = ForceField(system, parameters='SPCE')"
   ]
  },
  {
   "cell_type": "markdown",
   "id": "15883f43-ff0c-4d44-b7d1-27b40378ce88",
   "metadata": {},
   "source": [
    "## 优化器与积分器\n",
    "\n",
    "在MindSponge与传统深度学习框架的架构图示意中，我们可以发现分子动力学模拟过程中的积分器与深度学习中的优化器，本质上其实是一回事，都需要获取到gradient然后再去对系统进行更新。而如果在分子动力学模拟的过程中直接使用传统优化器如GradientDescent和Adam等来进行能量最小化，也是一个很重要的过程。在执行动力学模拟过程之前，如果不对系统进行能量最小化，将很有可能在运行过程中出现梯度爆炸或者梯度消失的问题，会为系统的正常运行带来众多的不确定性。\n",
    "\n",
    "![](../../docs/img.png)"
   ]
  },
  {
   "cell_type": "code",
   "execution_count": 6,
   "id": "cc5d1c46-19f1-4ef6-866b-1a688e8b5dd7",
   "metadata": {},
   "outputs": [],
   "source": [
    "opt = Adam(system.trainable_params(), 1e-3)"
   ]
  },
  {
   "cell_type": "code",
   "execution_count": 7,
   "id": "a65f424a-4733-4a2a-a0fb-93ce6c65e52f",
   "metadata": {},
   "outputs": [],
   "source": [
    "md = Sponge(system, potential, opt)"
   ]
  },
  {
   "cell_type": "code",
   "execution_count": 8,
   "id": "5486bed3-ffb6-4391-81a1-7d01b90e5306",
   "metadata": {},
   "outputs": [],
   "source": [
    "run_info = RunInfo(10)\n",
    "cb_h5md = WriteH5MD(system, 'tutorial_b03.h5md', save_freq=10)"
   ]
  },
  {
   "cell_type": "code",
   "execution_count": 9,
   "id": "dea67fe3-b2e5-43eb-a9b5-f219b63f2358",
   "metadata": {},
   "outputs": [
    {
     "name": "stdout",
     "output_type": "stream",
     "text": [
      "Step: 0, E_pot: -9490.139, \n",
      "Step: 10, E_pot: -10437.403, \n",
      "Step: 20, E_pot: -10481.724, \n",
      "Step: 30, E_pot: -10501.464, \n",
      "Step: 40, E_pot: -10531.801, \n",
      "Step: 50, E_pot: -10552.642, \n",
      "Step: 60, E_pot: -10576.384, \n",
      "Step: 70, E_pot: -10598.561, \n",
      "Step: 80, E_pot: -10617.948, \n",
      "Step: 90, E_pot: -10635.134, \n",
      "Step: 100, E_pot: -10650.692, \n",
      "Step: 110, E_pot: -10663.982, \n",
      "Step: 120, E_pot: -10675.984, \n",
      "Step: 130, E_pot: -10687.878, \n",
      "Step: 140, E_pot: -10700.114, \n",
      "Step: 150, E_pot: -10712.279, \n",
      "Step: 160, E_pot: -10723.851, \n",
      "Step: 170, E_pot: -10734.402, \n",
      "Step: 180, E_pot: -10743.937, \n",
      "Step: 190, E_pot: -10752.699, \n",
      "Step: 200, E_pot: -10760.898, \n",
      "Step: 210, E_pot: -10768.495, \n",
      "Step: 220, E_pot: -10775.1455, \n",
      "Step: 230, E_pot: -10780.383, \n",
      "Step: 240, E_pot: -10784.105, \n",
      "Step: 250, E_pot: -10786.751, \n",
      "Step: 260, E_pot: -10788.78, \n",
      "Step: 270, E_pot: -10790.408, \n",
      "Step: 280, E_pot: -10791.747, \n",
      "Step: 290, E_pot: -10792.88, \n",
      "Step: 300, E_pot: -10793.861, \n",
      "Step: 310, E_pot: -10794.742, \n",
      "Step: 320, E_pot: -10795.558, \n",
      "Step: 330, E_pot: -10796.329, \n",
      "Step: 340, E_pot: -10797.075, \n",
      "Step: 350, E_pot: -10797.814, \n",
      "Step: 360, E_pot: -10798.554, \n",
      "Step: 370, E_pot: -10799.306, \n",
      "Step: 380, E_pot: -10800.085, \n",
      "Step: 390, E_pot: -10800.893, \n",
      "Step: 400, E_pot: -10801.742, \n",
      "Step: 410, E_pot: -10802.637, \n",
      "Step: 420, E_pot: -10803.579, \n",
      "Step: 430, E_pot: -10804.573, \n",
      "Step: 440, E_pot: -10805.613, \n",
      "Step: 450, E_pot: -10806.69, \n",
      "Step: 460, E_pot: -10807.797, \n",
      "Step: 470, E_pot: -10808.92, \n",
      "Step: 480, E_pot: -10810.041, \n",
      "Step: 490, E_pot: -10811.157, \n",
      "Step: 500, E_pot: -10812.256, \n",
      "Step: 510, E_pot: -10813.336, \n",
      "Step: 520, E_pot: -10814.401, \n",
      "Step: 530, E_pot: -10815.455, \n",
      "Step: 540, E_pot: -10816.501, \n",
      "Step: 550, E_pot: -10817.541, \n",
      "Step: 560, E_pot: -10818.571, \n",
      "Step: 570, E_pot: -10819.591, \n",
      "Step: 580, E_pot: -10820.593, \n",
      "Step: 590, E_pot: -10821.571, \n",
      "Step: 600, E_pot: -10822.522, \n",
      "Step: 610, E_pot: -10823.4375, \n",
      "Step: 620, E_pot: -10824.315, \n",
      "Step: 630, E_pot: -10825.15, \n",
      "Step: 640, E_pot: -10825.942, \n",
      "Step: 650, E_pot: -10826.694, \n",
      "Step: 660, E_pot: -10827.404, \n",
      "Step: 670, E_pot: -10828.072, \n",
      "Step: 680, E_pot: -10828.704, \n",
      "Step: 690, E_pot: -10829.298, \n",
      "Step: 700, E_pot: -10829.857, \n",
      "Step: 710, E_pot: -10830.382, \n",
      "Step: 720, E_pot: -10830.876, \n",
      "Step: 730, E_pot: -10831.341, \n",
      "Step: 740, E_pot: -10831.783, \n",
      "Step: 750, E_pot: -10832.205, \n",
      "Step: 760, E_pot: -10832.608, \n",
      "Step: 770, E_pot: -10832.998, \n",
      "Step: 780, E_pot: -10833.377, \n",
      "Step: 790, E_pot: -10833.744, \n",
      "Step: 800, E_pot: -10834.104, \n",
      "Step: 810, E_pot: -10834.459, \n",
      "Step: 820, E_pot: -10834.809, \n",
      "Step: 830, E_pot: -10835.154, \n",
      "Step: 840, E_pot: -10835.494, \n",
      "Step: 850, E_pot: -10835.835, \n",
      "Step: 860, E_pot: -10836.17, \n",
      "Step: 870, E_pot: -10836.503, \n",
      "Step: 880, E_pot: -10836.833, \n",
      "Step: 890, E_pot: -10837.159, \n",
      "Step: 900, E_pot: -10837.482, \n",
      "Step: 910, E_pot: -10837.8, \n",
      "Step: 920, E_pot: -10838.112, \n",
      "Step: 930, E_pot: -10838.417, \n",
      "Step: 940, E_pot: -10838.715, \n",
      "Step: 950, E_pot: -10839.004, \n",
      "Step: 960, E_pot: -10839.282, \n",
      "Step: 970, E_pot: -10839.547, \n",
      "Step: 980, E_pot: -10839.801, \n",
      "Step: 990, E_pot: -10840.04, \n"
     ]
    },
    {
     "data": {
      "text/plain": [
       "<mindsponge.core.sponge.Sponge at 0x7f76199b3190>"
      ]
     },
     "execution_count": 9,
     "metadata": {},
     "output_type": "execute_result"
    }
   ],
   "source": [
    "md.run(1000, callbacks=[run_info, cb_h5md])"
   ]
  },
  {
   "cell_type": "markdown",
   "id": "7b1dbf13-3eb4-4cfb-9705-1e7516c37561",
   "metadata": {},
   "source": [
    "![](../../docs/tutorial_b03.gif)"
   ]
  }
 ],
 "metadata": {
  "kernelspec": {
   "display_name": "MindSpore",
   "language": "python",
   "name": "mindspore"
  },
  "language_info": {
   "codemirror_mode": {
    "name": "ipython",
    "version": 3
   },
   "file_extension": ".py",
   "mimetype": "text/x-python",
   "name": "python",
   "nbconvert_exporter": "python",
   "pygments_lexer": "ipython3",
   "version": "3.7.10"
  }
 },
 "nbformat": 4,
 "nbformat_minor": 5
}
