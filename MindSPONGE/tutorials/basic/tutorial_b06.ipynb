{
 "cells": [
  {
   "cell_type": "code",
   "execution_count": 1,
   "id": "f64deb4d-3c42-439e-bc3c-47e600085fed",
   "metadata": {},
   "outputs": [],
   "source": [
    "from mindspore import context\n",
    "context.set_context(mode=context.GRAPH_MODE, device_target=\"GPU\")"
   ]
  },
  {
   "cell_type": "code",
   "execution_count": 2,
   "id": "624a40e7-de43-4c51-8e2e-d2eea73ceb8d",
   "metadata": {},
   "outputs": [],
   "source": [
    "from mindsponge import Sponge\n",
    "from mindsponge import ForceField\n",
    "from mindsponge.optimizer import SteepestDescent\n",
    "from mindsponge.control import VelocityVerlet\n",
    "from mindsponge.callback import WriteH5MD, RunInfo\n",
    "from mindsponge.control import Langevin\n",
    "from mindsponge import set_global_units\n",
    "from mindsponge import Protein\n",
    "from mindsponge import DynamicUpdater\n",
    "from mindsponge.function import VelocityGenerator"
   ]
  },
  {
   "cell_type": "markdown",
   "id": "8b9397c0-5a6a-4338-9fa4-5b5ce46e0e58",
   "metadata": {},
   "source": [
    "## 单位设置\n",
    "\n",
    "这里我们提到的全局单位设置，主要是指输入输出的长度单位和能量单位，在MindSponge的计算过程中会自动根据默认单位进行计算，再将返回的结果转换成用户定义的单位。常用的长度单位是nm和A，一般在PDB文件里面是用A为单位。能量单位比较常用的是kJ/mol和kcal/mol。"
   ]
  },
  {
   "cell_type": "code",
   "execution_count": 3,
   "id": "c6bfe6a3-1f67-40ed-ba0d-33c0168c3f79",
   "metadata": {},
   "outputs": [],
   "source": [
    "set_global_units('nm', 'kj/mol')"
   ]
  },
  {
   "cell_type": "markdown",
   "id": "83cbf326-a968-4cf5-a405-1ba7c97576d6",
   "metadata": {},
   "source": [
    "## 蛋白质案例\n",
    "\n",
    "我们提供了一些简单的蛋白质案例以供测试，一般用pdb(Protein Data Bank)格式来存储蛋白质文件。下述案例就是一个不含H原子的pdb文件（该构象来自于MEGAProtein的预测结果）。\n",
    "\n",
    "![](../../docs/case2-1.png)\n",
    "\n",
    "在使用MindSponge构建Protein对象时，会自动为其在相对合理的位置补充H原子（如下图所示）。而这一过程之后，最好对其进行一次能量最小化的操作，以确保得到的构象中不会存在太多的冲突，比如两个原子距离太近等。\n",
    "\n",
    "![](../../docs/case2-3.png)\n",
    "\n",
    "如果使用常用的蛋白质可视化算法NewCartoon来展示的话，可以更清晰的看到这个构象中所存在的$\\alpha$螺旋和$\\beta$折叠等区域：\n",
    "\n",
    "![](../../docs/case2-2.png)"
   ]
  },
  {
   "cell_type": "code",
   "execution_count": 4,
   "id": "66371d6d-a10c-47ff-99fb-6568f64ccddf",
   "metadata": {},
   "outputs": [
    {
     "name": "stdout",
     "output_type": "stream",
     "text": [
      "1 H-Adding task complete.\n"
     ]
    }
   ],
   "source": [
    "pdb_name = 'case2.pdb'\n",
    "system = Protein(pdb=pdb_name)"
   ]
  },
  {
   "cell_type": "code",
   "execution_count": 5,
   "id": "1d313558-c263-4324-9a44-459dd2335de1",
   "metadata": {},
   "outputs": [],
   "source": [
    "energy = ForceField(system, 'AMBER.FF14SB')"
   ]
  },
  {
   "cell_type": "code",
   "execution_count": 6,
   "id": "7d85face-7806-4ee4-8f24-2889f073a099",
   "metadata": {},
   "outputs": [],
   "source": [
    "min_opt = SteepestDescent(system.trainable_params(), 1e-7)"
   ]
  },
  {
   "cell_type": "code",
   "execution_count": 7,
   "id": "07ff76ae-4624-4fa4-92d3-e98d24638206",
   "metadata": {},
   "outputs": [],
   "source": [
    "md = Sponge(system, energy, min_opt)"
   ]
  },
  {
   "cell_type": "code",
   "execution_count": 8,
   "id": "51d64e25-7d63-46e0-977a-b0626b1ed361",
   "metadata": {},
   "outputs": [
    {
     "name": "stdout",
     "output_type": "stream",
     "text": [
      "Step: 0, E_pot: 141277.78, \n",
      "Step: 10, E_pot: 96736.516, \n",
      "Step: 20, E_pot: 75656.49, \n",
      "Step: 30, E_pot: 62071.246, \n",
      "Step: 40, E_pot: 52376.703, \n",
      "Step: 50, E_pot: 45027.336, \n",
      "Step: 60, E_pot: 39223.355, \n",
      "Step: 70, E_pot: 34505.492, \n",
      "Step: 80, E_pot: 30588.4, \n",
      "Step: 90, E_pot: 27282.95, \n",
      "Step: 100, E_pot: 24456.766, \n",
      "Step: 110, E_pot: 22013.084, \n",
      "Step: 120, E_pot: 19879.006, \n",
      "Step: 130, E_pot: 17998.32, \n",
      "Step: 140, E_pot: 16327.078, \n",
      "Step: 150, E_pot: 14830.46, \n",
      "Step: 160, E_pot: 13480.788, \n",
      "Step: 170, E_pot: 12255.744, \n",
      "Step: 180, E_pot: 11137.308, \n",
      "Step: 190, E_pot: 10110.747, \n",
      "Step: 200, E_pot: 9163.998, \n",
      "Step: 210, E_pot: 8287.033, \n",
      "Step: 220, E_pot: 7471.5547, \n",
      "Step: 230, E_pot: 6710.5693, \n",
      "Step: 240, E_pot: 5998.164, \n",
      "Step: 250, E_pot: 5329.3027, \n",
      "Step: 260, E_pot: 4699.6895, \n",
      "Step: 270, E_pot: 4105.588, \n",
      "Step: 280, E_pot: 3543.8252, \n",
      "Step: 290, E_pot: 3011.5625, \n",
      "Step: 300, E_pot: 2506.3613, \n",
      "Step: 310, E_pot: 2026.0889, \n",
      "Step: 320, E_pot: 1568.7969, \n",
      "Step: 330, E_pot: 1132.8047, \n",
      "Step: 340, E_pot: 716.59717, \n",
      "Step: 350, E_pot: 318.80664, \n",
      "Step: 360, E_pot: -61.802734, \n",
      "Step: 370, E_pot: -426.35205, \n",
      "Step: 380, E_pot: -775.8584, \n",
      "Step: 390, E_pot: -1111.2534, \n",
      "Step: 400, E_pot: -1433.395, \n",
      "Step: 410, E_pot: -1743.0864, \n",
      "Step: 420, E_pot: -2041.0635, \n",
      "Step: 430, E_pot: -2328.0156, \n",
      "Step: 440, E_pot: -2604.5645, \n",
      "Step: 450, E_pot: -2871.3174, \n",
      "Step: 460, E_pot: -3128.832, \n",
      "Step: 470, E_pot: -3377.6167, \n",
      "Step: 480, E_pot: -3618.1807, \n",
      "Step: 490, E_pot: -3850.956, \n"
     ]
    },
    {
     "data": {
      "text/plain": [
       "<mindsponge.core.sponge.Sponge at 0x7f5e77d37f10>"
      ]
     },
     "execution_count": 8,
     "metadata": {},
     "output_type": "execute_result"
    }
   ],
   "source": [
    "run_info = RunInfo(10)\n",
    "md.run(500, callbacks=[run_info])"
   ]
  },
  {
   "cell_type": "code",
   "execution_count": 9,
   "id": "ee6d410b-a152-4785-9a67-322996b09bfd",
   "metadata": {},
   "outputs": [],
   "source": [
    "vgen = VelocityGenerator(300)\n",
    "velocity = vgen(system.coordinate.shape, system.atom_mass)"
   ]
  },
  {
   "cell_type": "code",
   "execution_count": 10,
   "id": "a4208b35-3d46-4b71-9144-f0e8d6959f74",
   "metadata": {},
   "outputs": [],
   "source": [
    "opt = DynamicUpdater(system,\n",
    "                     integrator=VelocityVerlet(system),\n",
    "                     thermostat=Langevin(system, 300),\n",
    "                     time_step=1e-3,\n",
    "                     velocity=velocity)"
   ]
  },
  {
   "cell_type": "code",
   "execution_count": 11,
   "id": "0a7bcba5-5ac0-4f46-94aa-f078f3e3ffb1",
   "metadata": {},
   "outputs": [],
   "source": [
    "md = Sponge(system, energy, min_opt)"
   ]
  },
  {
   "cell_type": "code",
   "execution_count": 12,
   "id": "bf16e327-09fb-42dd-91ea-320b9acad87d",
   "metadata": {},
   "outputs": [],
   "source": [
    "cb_h5md = WriteH5MD(system, 'tutorial_b06.h5md', save_freq=10, write_velocity=True, write_force=True)"
   ]
  },
  {
   "cell_type": "code",
   "execution_count": 13,
   "id": "c1084b9b-4df7-46c0-8a34-ccb19df6a153",
   "metadata": {},
   "outputs": [
    {
     "name": "stdout",
     "output_type": "stream",
     "text": [
      "Step: 0, E_pot: -4076.3857, E_kin: 9336.439, E_tot: 5260.0537, Temperature: 296.12753\n",
      "Step: 10, E_pot: -3602.2153, E_kin: 7402.628, E_tot: 3800.4126, Temperature: 234.79207\n",
      "Step: 20, E_pot: -4049.0723, E_kin: 9462.248, E_tot: 5413.176, Temperature: 300.11786\n",
      "Step: 30, E_pot: -3221.604, E_kin: 8893.889, E_tot: 5672.2847, Temperature: 282.09097\n",
      "Step: 40, E_pot: -4569.623, E_kin: 10438.651, E_tot: 5869.0283, Temperature: 331.08682\n",
      "Step: 50, E_pot: -4390.322, E_kin: 9904.172, E_tot: 5513.85, Temperature: 314.13452\n",
      "Step: 60, E_pot: -4648.2305, E_kin: 9788.482, E_tot: 5140.252, Temperature: 310.46515\n",
      "Step: 70, E_pot: -4359.8057, E_kin: 9773.725, E_tot: 5413.919, Temperature: 309.99707\n",
      "Step: 80, E_pot: -4080.7705, E_kin: 9694.955, E_tot: 5614.1846, Temperature: 307.49872\n",
      "Step: 90, E_pot: -4831.9717, E_kin: 10237.94, E_tot: 5405.9688, Temperature: 324.72076\n",
      "Step: 100, E_pot: -4624.5195, E_kin: 9960.655, E_tot: 5336.1357, Temperature: 315.92603\n",
      "Step: 110, E_pot: -4604.515, E_kin: 9770.462, E_tot: 5165.947, Temperature: 309.8936\n",
      "Step: 120, E_pot: -4862.093, E_kin: 10178.4, E_tot: 5316.3076, Temperature: 322.83234\n",
      "Step: 130, E_pot: -4823.1084, E_kin: 10126.231, E_tot: 5303.123, Temperature: 321.17767\n",
      "Step: 140, E_pot: -4715.282, E_kin: 10142.013, E_tot: 5426.7305, Temperature: 321.6782\n",
      "Step: 150, E_pot: -4875.0596, E_kin: 10195.6455, E_tot: 5320.586, Temperature: 323.3793\n",
      "Step: 160, E_pot: -4941.9307, E_kin: 10180.232, E_tot: 5238.302, Temperature: 322.89044\n",
      "Step: 170, E_pot: -4716.419, E_kin: 9977.956, E_tot: 5261.537, Temperature: 316.47476\n",
      "Step: 180, E_pot: -4881.318, E_kin: 10110.865, E_tot: 5229.5474, Temperature: 320.6903\n",
      "Step: 190, E_pot: -4861.5537, E_kin: 10199.932, E_tot: 5338.378, Temperature: 323.51526\n",
      "Step: 200, E_pot: -4953.1475, E_kin: 10323.953, E_tot: 5370.8057, Temperature: 327.44888\n",
      "Step: 210, E_pot: -5087.1387, E_kin: 10337.274, E_tot: 5250.1357, Temperature: 327.8714\n",
      "Step: 220, E_pot: -4984.0303, E_kin: 10201.59, E_tot: 5217.5596, Temperature: 323.56784\n",
      "Step: 230, E_pot: -5085.346, E_kin: 10150.19, E_tot: 5064.844, Temperature: 321.9376\n",
      "Step: 240, E_pot: -5357.871, E_kin: 10471.545, E_tot: 5113.674, Temperature: 332.13013\n",
      "Step: 250, E_pot: -5053.48, E_kin: 10301.627, E_tot: 5248.147, Temperature: 326.74078\n",
      "Step: 260, E_pot: -5255.868, E_kin: 10547.314, E_tot: 5291.4463, Temperature: 334.53333\n",
      "Step: 270, E_pot: -4911.6865, E_kin: 10093.234, E_tot: 5181.548, Temperature: 320.1311\n",
      "Step: 280, E_pot: -5254.245, E_kin: 10360.107, E_tot: 5105.8623, Temperature: 328.5956\n",
      "Step: 290, E_pot: -4863.9644, E_kin: 9998.936, E_tot: 5134.971, Temperature: 317.1402\n",
      "Step: 300, E_pot: -4792.695, E_kin: 9998.147, E_tot: 5205.4526, Temperature: 317.11517\n",
      "Step: 310, E_pot: -4813.6196, E_kin: 10057.58, E_tot: 5243.9604, Temperature: 319.0002\n",
      "Step: 320, E_pot: -5044.0605, E_kin: 10224.709, E_tot: 5180.6484, Temperature: 324.30112\n",
      "Step: 330, E_pot: -5329.8467, E_kin: 10449.261, E_tot: 5119.414, Temperature: 331.4233\n",
      "Step: 340, E_pot: -5068.551, E_kin: 10172.0, E_tot: 5103.449, Temperature: 322.62933\n",
      "Step: 350, E_pot: -5143.9287, E_kin: 10145.492, E_tot: 5001.5635, Temperature: 321.78857\n",
      "Step: 360, E_pot: -5028.6465, E_kin: 10017.338, E_tot: 4988.6914, Temperature: 317.72388\n",
      "Step: 370, E_pot: -5001.518, E_kin: 10046.305, E_tot: 5044.7866, Temperature: 318.6426\n",
      "Step: 380, E_pot: -5439.631, E_kin: 10473.318, E_tot: 5033.6875, Temperature: 332.18637\n",
      "Step: 390, E_pot: -5539.2275, E_kin: 10456.1045, E_tot: 4916.877, Temperature: 331.64038\n",
      "Step: 400, E_pot: -5236.6826, E_kin: 10128.475, E_tot: 4891.792, Temperature: 321.2488\n",
      "Step: 410, E_pot: -5145.745, E_kin: 10079.826, E_tot: 4934.081, Temperature: 319.7058\n",
      "Step: 420, E_pot: -5170.4917, E_kin: 10182.994, E_tot: 5012.5024, Temperature: 322.97806\n",
      "Step: 430, E_pot: -5223.956, E_kin: 10312.543, E_tot: 5088.587, Temperature: 327.087\n",
      "Step: 440, E_pot: -5375.4414, E_kin: 10265.322, E_tot: 4889.881, Temperature: 325.58926\n",
      "Step: 450, E_pot: -5302.706, E_kin: 10173.105, E_tot: 4870.3994, Temperature: 322.6644\n",
      "Step: 460, E_pot: -5383.114, E_kin: 10265.974, E_tot: 4882.86, Temperature: 325.60992\n",
      "Step: 470, E_pot: -5316.658, E_kin: 10260.148, E_tot: 4943.49, Temperature: 325.42517\n",
      "Step: 480, E_pot: -5122.276, E_kin: 9999.99, E_tot: 4877.7144, Temperature: 317.1736\n",
      "Step: 490, E_pot: -5539.677, E_kin: 10382.783, E_tot: 4843.1064, Temperature: 329.31482\n",
      "Step: 500, E_pot: -5344.118, E_kin: 10151.385, E_tot: 4807.2666, Temperature: 321.97546\n",
      "Step: 510, E_pot: -5268.173, E_kin: 10130.103, E_tot: 4861.9297, Temperature: 321.30048\n",
      "Step: 520, E_pot: -5417.0273, E_kin: 10269.011, E_tot: 4851.9834, Temperature: 325.70627\n",
      "Step: 530, E_pot: -5358.1216, E_kin: 10212.471, E_tot: 4854.349, Temperature: 323.91296\n",
      "Step: 540, E_pot: -5342.6636, E_kin: 10176.087, E_tot: 4833.4233, Temperature: 322.75897\n",
      "Step: 550, E_pot: -5301.366, E_kin: 10124.943, E_tot: 4823.577, Temperature: 321.1368\n",
      "Step: 560, E_pot: -5443.9844, E_kin: 10178.875, E_tot: 4734.8906, Temperature: 322.8474\n",
      "Step: 570, E_pot: -5251.9766, E_kin: 10022.388, E_tot: 4770.411, Temperature: 317.884\n",
      "Step: 580, E_pot: -5313.152, E_kin: 10051.694, E_tot: 4738.5425, Temperature: 318.81354\n",
      "Step: 590, E_pot: -5360.093, E_kin: 10139.729, E_tot: 4779.6357, Temperature: 321.60577\n",
      "Step: 600, E_pot: -5538.193, E_kin: 10336.772, E_tot: 4798.5796, Temperature: 327.8555\n",
      "Step: 610, E_pot: -5591.534, E_kin: 10339.463, E_tot: 4747.9287, Temperature: 327.94083\n",
      "Step: 620, E_pot: -5471.3467, E_kin: 10139.627, E_tot: 4668.2803, Temperature: 321.60257\n",
      "Step: 630, E_pot: -5497.6074, E_kin: 10193.042, E_tot: 4695.4346, Temperature: 323.29675\n",
      "Step: 640, E_pot: -5558.0127, E_kin: 10257.341, E_tot: 4699.328, Temperature: 325.33612\n",
      "Step: 650, E_pot: -5521.871, E_kin: 10227.941, E_tot: 4706.0703, Temperature: 324.40366\n",
      "Step: 660, E_pot: -5323.376, E_kin: 9978.346, E_tot: 4654.9697, Temperature: 316.48712\n",
      "Step: 670, E_pot: -5497.51, E_kin: 10127.572, E_tot: 4630.0625, Temperature: 321.2202\n",
      "Step: 680, E_pot: -5551.7393, E_kin: 10166.021, E_tot: 4614.282, Temperature: 322.4397\n",
      "Step: 690, E_pot: -5639.5146, E_kin: 10249.701, E_tot: 4610.1865, Temperature: 325.0938\n",
      "Step: 700, E_pot: -5593.628, E_kin: 10244.277, E_tot: 4650.6494, Temperature: 324.92178\n",
      "Step: 710, E_pot: -5639.633, E_kin: 10208.131, E_tot: 4568.498, Temperature: 323.7753\n",
      "Step: 720, E_pot: -5755.089, E_kin: 10235.657, E_tot: 4480.5684, Temperature: 324.64838\n",
      "Step: 730, E_pot: -5958.5776, E_kin: 10248.258, E_tot: 4289.68, Temperature: 325.048\n",
      "Step: 740, E_pot: -5868.374, E_kin: 10259.871, E_tot: 4391.497, Temperature: 325.41638\n",
      "Step: 750, E_pot: -5887.249, E_kin: 10390.895, E_tot: 4503.6455, Temperature: 329.5721\n",
      "Step: 760, E_pot: -5961.182, E_kin: 10466.018, E_tot: 4504.8354, Temperature: 331.9548\n",
      "Step: 770, E_pot: -5697.0312, E_kin: 10233.305, E_tot: 4536.2734, Temperature: 324.57376\n",
      "Step: 780, E_pot: -5865.883, E_kin: 10322.432, E_tot: 4456.549, Temperature: 327.40063\n",
      "Step: 790, E_pot: -5773.331, E_kin: 10192.355, E_tot: 4419.0244, Temperature: 323.27493\n",
      "Step: 800, E_pot: -5828.6245, E_kin: 10231.998, E_tot: 4403.3735, Temperature: 324.53232\n",
      "Step: 810, E_pot: -5801.9385, E_kin: 10310.207, E_tot: 4508.2686, Temperature: 327.0129\n",
      "Step: 820, E_pot: -5741.1636, E_kin: 10186.598, E_tot: 4445.434, Temperature: 323.09235\n",
      "Step: 830, E_pot: -5893.7754, E_kin: 10293.511, E_tot: 4399.7354, Temperature: 326.48334\n",
      "Step: 840, E_pot: -5877.915, E_kin: 10241.544, E_tot: 4363.629, Temperature: 324.83508\n",
      "Step: 850, E_pot: -5786.862, E_kin: 10145.518, E_tot: 4358.656, Temperature: 321.78937\n",
      "Step: 860, E_pot: -5587.288, E_kin: 9947.191, E_tot: 4359.9033, Temperature: 315.499\n",
      "Step: 870, E_pot: -5704.7456, E_kin: 10050.645, E_tot: 4345.899, Temperature: 318.78027\n",
      "Step: 880, E_pot: -5724.636, E_kin: 10042.4795, E_tot: 4317.8433, Temperature: 318.5213\n",
      "Step: 890, E_pot: -5786.0293, E_kin: 10133.54, E_tot: 4347.5107, Temperature: 321.4095\n",
      "Step: 900, E_pot: -5744.868, E_kin: 10054.812, E_tot: 4309.9434, Temperature: 318.9124\n",
      "Step: 910, E_pot: -5744.762, E_kin: 10093.847, E_tot: 4349.0845, Temperature: 320.1505\n",
      "Step: 920, E_pot: -5704.072, E_kin: 10115.384, E_tot: 4411.312, Temperature: 320.8336\n",
      "Step: 930, E_pot: -5770.2695, E_kin: 10129.6045, E_tot: 4359.335, Temperature: 321.28467\n",
      "Step: 940, E_pot: -5894.353, E_kin: 10187.012, E_tot: 4292.6587, Temperature: 323.10547\n",
      "Step: 950, E_pot: -5792.1904, E_kin: 10071.488, E_tot: 4279.298, Temperature: 319.44138\n",
      "Step: 960, E_pot: -5932.7627, E_kin: 10233.247, E_tot: 4300.4844, Temperature: 324.57193\n",
      "Step: 970, E_pot: -5873.679, E_kin: 10274.83, E_tot: 4401.151, Temperature: 325.89084\n",
      "Step: 980, E_pot: -5782.7764, E_kin: 10139.821, E_tot: 4357.045, Temperature: 321.60873\n",
      "Step: 990, E_pot: -5833.078, E_kin: 10236.751, E_tot: 4403.673, Temperature: 324.68307\n",
      "Step: 1000, E_pot: -5830.7295, E_kin: 10108.1455, E_tot: 4277.416, Temperature: 320.60403\n",
      "Step: 1010, E_pot: -6041.676, E_kin: 10195.013, E_tot: 4153.337, Temperature: 323.35922\n",
      "Step: 1020, E_pot: -5837.4106, E_kin: 10017.297, E_tot: 4179.886, Temperature: 317.72253\n",
      "Step: 1030, E_pot: -5978.112, E_kin: 10128.594, E_tot: 4150.482, Temperature: 321.2526\n",
      "Step: 1040, E_pot: -5882.7656, E_kin: 10071.9, E_tot: 4189.135, Temperature: 319.45444\n",
      "Step: 1050, E_pot: -6126.8105, E_kin: 10215.717, E_tot: 4088.9062, Temperature: 324.0159\n",
      "Step: 1060, E_pot: -5864.568, E_kin: 10015.934, E_tot: 4151.3657, Temperature: 317.6793\n",
      "Step: 1070, E_pot: -5908.0547, E_kin: 10029.625, E_tot: 4121.5703, Temperature: 318.11356\n",
      "Step: 1080, E_pot: -5920.325, E_kin: 10094.814, E_tot: 4174.4893, Temperature: 320.1812\n",
      "Step: 1090, E_pot: -6099.6357, E_kin: 10263.074, E_tot: 4163.4385, Temperature: 325.51797\n",
      "Step: 1100, E_pot: -6088.9116, E_kin: 10250.777, E_tot: 4161.8657, Temperature: 325.12793\n",
      "Step: 1110, E_pot: -6095.2734, E_kin: 10221.727, E_tot: 4126.453, Temperature: 324.2065\n",
      "Step: 1120, E_pot: -6003.9473, E_kin: 10049.703, E_tot: 4045.7559, Temperature: 318.7504\n",
      "Step: 1130, E_pot: -6108.196, E_kin: 10171.737, E_tot: 4063.5415, Temperature: 322.621\n",
      "Step: 1140, E_pot: -6112.6616, E_kin: 10147.527, E_tot: 4034.8657, Temperature: 321.85312\n",
      "Step: 1150, E_pot: -6030.0522, E_kin: 10087.998, E_tot: 4057.9458, Temperature: 319.965\n",
      "Step: 1160, E_pot: -6291.452, E_kin: 10308.9375, E_tot: 4017.4854, Temperature: 326.97263\n",
      "Step: 1170, E_pot: -6257.152, E_kin: 10152.567, E_tot: 3895.4155, Temperature: 322.01297\n",
      "Step: 1180, E_pot: -6255.9727, E_kin: 10148.06, E_tot: 3892.087, Temperature: 321.87\n",
      "Step: 1190, E_pot: -6383.749, E_kin: 10180.561, E_tot: 3796.8115, Temperature: 322.90085\n",
      "Step: 1200, E_pot: -6315.174, E_kin: 10137.48, E_tot: 3822.3066, Temperature: 321.53445\n",
      "Step: 1210, E_pot: -6252.1143, E_kin: 10143.125, E_tot: 3891.0107, Temperature: 321.7135\n",
      "Step: 1220, E_pot: -6413.5522, E_kin: 10311.797, E_tot: 3898.2446, Temperature: 327.06332\n",
      "Step: 1230, E_pot: -6317.0015, E_kin: 10158.755, E_tot: 3841.7534, Temperature: 322.20923\n",
      "Step: 1240, E_pot: -6351.186, E_kin: 10153.965, E_tot: 3802.7788, Temperature: 322.0573\n",
      "Step: 1250, E_pot: -6424.678, E_kin: 10196.712, E_tot: 3772.0337, Temperature: 323.41315\n",
      "Step: 1260, E_pot: -6385.66, E_kin: 10218.297, E_tot: 3832.6367, Temperature: 324.09775\n",
      "Step: 1270, E_pot: -6334.2134, E_kin: 10093.231, E_tot: 3759.018, Temperature: 320.131\n",
      "Step: 1280, E_pot: -6389.4517, E_kin: 10120.881, E_tot: 3731.4292, Temperature: 321.00797\n",
      "Step: 1290, E_pot: -6120.1035, E_kin: 9868.814, E_tot: 3748.711, Temperature: 313.0131\n",
      "Step: 1300, E_pot: -6230.424, E_kin: 9927.832, E_tot: 3697.4082, Temperature: 314.88498\n",
      "Step: 1310, E_pot: -6260.634, E_kin: 10040.332, E_tot: 3779.6982, Temperature: 318.45316\n",
      "Step: 1320, E_pot: -6411.514, E_kin: 10194.772, E_tot: 3783.2583, Temperature: 323.35162\n",
      "Step: 1330, E_pot: -6233.513, E_kin: 10009.039, E_tot: 3775.526, Temperature: 317.46063\n",
      "Step: 1340, E_pot: -6221.1196, E_kin: 10013.137, E_tot: 3792.017, Temperature: 317.5906\n",
      "Step: 1350, E_pot: -6411.1167, E_kin: 10110.55, E_tot: 3699.433, Temperature: 320.6803\n",
      "Step: 1360, E_pot: -6456.387, E_kin: 10191.396, E_tot: 3735.0093, Temperature: 323.24454\n",
      "Step: 1370, E_pot: -6376.6816, E_kin: 10058.711, E_tot: 3682.0293, Temperature: 319.0361\n",
      "Step: 1380, E_pot: -6651.619, E_kin: 10380.086, E_tot: 3728.4668, Temperature: 329.22928\n",
      "Step: 1390, E_pot: -6617.6323, E_kin: 10388.684, E_tot: 3771.0513, Temperature: 329.50195\n",
      "Step: 1400, E_pot: -6600.841, E_kin: 10337.1455, E_tot: 3736.3047, Temperature: 327.8673\n",
      "Step: 1410, E_pot: -6404.802, E_kin: 10010.89, E_tot: 3606.088, Temperature: 317.51932\n",
      "Step: 1420, E_pot: -6651.659, E_kin: 10251.861, E_tot: 3600.2021, Temperature: 325.16232\n",
      "Step: 1430, E_pot: -6463.4043, E_kin: 10157.637, E_tot: 3694.2324, Temperature: 322.17377\n",
      "Step: 1440, E_pot: -6457.5005, E_kin: 10174.893, E_tot: 3717.392, Temperature: 322.7211\n",
      "Step: 1450, E_pot: -6578.3223, E_kin: 10169.154, E_tot: 3590.832, Temperature: 322.5391\n",
      "Step: 1460, E_pot: -6541.9634, E_kin: 10150.69, E_tot: 3608.727, Temperature: 321.95346\n",
      "Step: 1470, E_pot: -6316.5205, E_kin: 10059.078, E_tot: 3742.5576, Temperature: 319.04773\n",
      "Step: 1480, E_pot: -6572.1978, E_kin: 10237.266, E_tot: 3665.0679, Temperature: 324.69937\n",
      "Step: 1490, E_pot: -6553.0977, E_kin: 10188.256, E_tot: 3635.1582, Temperature: 323.14493\n",
      "Step: 1500, E_pot: -6557.5503, E_kin: 10149.496, E_tot: 3591.9458, Temperature: 321.91556\n",
      "Step: 1510, E_pot: -6558.207, E_kin: 10143.672, E_tot: 3585.4648, Temperature: 321.73083\n",
      "Step: 1520, E_pot: -6420.415, E_kin: 9996.158, E_tot: 3575.7432, Temperature: 317.0521\n",
      "Step: 1530, E_pot: -6604.9873, E_kin: 10076.963, E_tot: 3471.9756, Temperature: 319.615\n",
      "Step: 1540, E_pot: -6635.3193, E_kin: 10113.956, E_tot: 3478.6367, Temperature: 320.78833\n",
      "Step: 1550, E_pot: -6519.908, E_kin: 10106.275, E_tot: 3586.3672, Temperature: 320.54474\n",
      "Step: 1560, E_pot: -6506.97, E_kin: 10065.274, E_tot: 3558.3042, Temperature: 319.2443\n",
      "Step: 1570, E_pot: -6605.1064, E_kin: 10083.972, E_tot: 3478.8652, Temperature: 319.8373\n",
      "Step: 1580, E_pot: -6606.0425, E_kin: 10027.518, E_tot: 3421.475, Temperature: 318.04672\n",
      "Step: 1590, E_pot: -6645.3716, E_kin: 10050.851, E_tot: 3405.479, Temperature: 318.7868\n",
      "Step: 1600, E_pot: -6508.3643, E_kin: 9866.236, E_tot: 3357.872, Temperature: 312.9313\n",
      "Step: 1610, E_pot: -6594.0117, E_kin: 10036.689, E_tot: 3442.6777, Temperature: 318.33762\n",
      "Step: 1620, E_pot: -6653.159, E_kin: 10087.143, E_tot: 3433.9834, Temperature: 319.93787\n",
      "Step: 1630, E_pot: -6656.9785, E_kin: 10087.116, E_tot: 3430.1377, Temperature: 319.93704\n",
      "Step: 1640, E_pot: -6909.6865, E_kin: 10229.369, E_tot: 3319.6826, Temperature: 324.44894\n",
      "Step: 1650, E_pot: -6697.458, E_kin: 10063.262, E_tot: 3365.8037, Temperature: 319.18045\n",
      "Step: 1660, E_pot: -6863.768, E_kin: 10241.051, E_tot: 3377.2827, Temperature: 324.81946\n",
      "Step: 1670, E_pot: -6617.7256, E_kin: 9968.698, E_tot: 3350.9727, Temperature: 316.18115\n",
      "Step: 1680, E_pot: -6586.156, E_kin: 9976.525, E_tot: 3390.3696, Temperature: 316.42938\n",
      "Step: 1690, E_pot: -6772.3154, E_kin: 10044.845, E_tot: 3272.5293, Temperature: 318.5963\n",
      "Step: 1700, E_pot: -6630.8203, E_kin: 9998.912, E_tot: 3368.0918, Temperature: 317.13943\n",
      "Step: 1710, E_pot: -6664.34, E_kin: 10057.342, E_tot: 3393.002, Temperature: 318.99268\n",
      "Step: 1720, E_pot: -6836.2393, E_kin: 10180.066, E_tot: 3343.8271, Temperature: 322.88516\n",
      "Step: 1730, E_pot: -6641.055, E_kin: 9924.079, E_tot: 3283.024, Temperature: 314.76593\n",
      "Step: 1740, E_pot: -6414.3984, E_kin: 9839.921, E_tot: 3425.5225, Temperature: 312.09665\n",
      "Step: 1750, E_pot: -6666.2324, E_kin: 9998.442, E_tot: 3332.21, Temperature: 317.1245\n",
      "Step: 1760, E_pot: -6714.4775, E_kin: 10062.898, E_tot: 3348.421, Temperature: 319.1689\n",
      "Step: 1770, E_pot: -6899.8184, E_kin: 10215.207, E_tot: 3315.3887, Temperature: 323.99976\n",
      "Step: 1780, E_pot: -6630.295, E_kin: 9922.316, E_tot: 3292.0215, Temperature: 314.71002\n",
      "Step: 1790, E_pot: -6641.953, E_kin: 9984.959, E_tot: 3343.0059, Temperature: 316.6969\n",
      "Step: 1800, E_pot: -6608.03, E_kin: 9975.249, E_tot: 3367.2192, Temperature: 316.3889\n",
      "Step: 1810, E_pot: -6808.26, E_kin: 10121.664, E_tot: 3313.4043, Temperature: 321.0328\n",
      "Step: 1820, E_pot: -6532.569, E_kin: 9904.41, E_tot: 3371.8413, Temperature: 314.1421\n",
      "Step: 1830, E_pot: -6671.7017, E_kin: 10011.469, E_tot: 3339.767, Temperature: 317.53772\n",
      "Step: 1840, E_pot: -6665.9243, E_kin: 9983.72, E_tot: 3317.7954, Temperature: 316.6576\n",
      "Step: 1850, E_pot: -6719.8154, E_kin: 10044.119, E_tot: 3324.3037, Temperature: 318.57327\n",
      "Step: 1860, E_pot: -6762.6377, E_kin: 10016.5, E_tot: 3253.8623, Temperature: 317.6973\n",
      "Step: 1870, E_pot: -6805.057, E_kin: 10054.0625, E_tot: 3249.0054, Temperature: 318.88864\n",
      "Step: 1880, E_pot: -6722.142, E_kin: 9961.654, E_tot: 3239.5122, Temperature: 315.9577\n",
      "Step: 1890, E_pot: -6802.4976, E_kin: 10054.947, E_tot: 3252.4497, Temperature: 318.91672\n",
      "Step: 1900, E_pot: -6722.2197, E_kin: 9991.3955, E_tot: 3269.1758, Temperature: 316.90103\n",
      "Step: 1910, E_pot: -6883.401, E_kin: 10097.035, E_tot: 3213.6343, Temperature: 320.25165\n",
      "Step: 1920, E_pot: -6925.379, E_kin: 10094.323, E_tot: 3168.9443, Temperature: 320.16565\n",
      "Step: 1930, E_pot: -6676.0786, E_kin: 9913.811, E_tot: 3237.732, Temperature: 314.44025\n",
      "Step: 1940, E_pot: -6637.6953, E_kin: 9927.69, E_tot: 3289.995, Temperature: 314.88046\n",
      "Step: 1950, E_pot: -6520.7915, E_kin: 9825.599, E_tot: 3304.8071, Temperature: 311.64236\n",
      "Step: 1960, E_pot: -6840.1626, E_kin: 10121.397, E_tot: 3281.2349, Temperature: 321.02435\n",
      "Step: 1970, E_pot: -6751.274, E_kin: 10033.476, E_tot: 3282.2017, Temperature: 318.2357\n",
      "Step: 1980, E_pot: -6932.141, E_kin: 10076.73, E_tot: 3144.5894, Temperature: 319.60764\n",
      "Step: 1990, E_pot: -6730.535, E_kin: 9915.096, E_tot: 3184.5605, Temperature: 314.481\n"
     ]
    },
    {
     "data": {
      "text/plain": [
       "<mindsponge.core.sponge.Sponge at 0x7f5e59024210>"
      ]
     },
     "execution_count": 13,
     "metadata": {},
     "output_type": "execute_result"
    }
   ],
   "source": [
    "md.change_optimizer(opt)\n",
    "md.run(2000, callbacks=[run_info, cb_h5md])"
   ]
  }
 ],
 "metadata": {
  "kernelspec": {
   "display_name": "MindSpore",
   "language": "python",
   "name": "mindspore"
  },
  "language_info": {
   "codemirror_mode": {
    "name": "ipython",
    "version": 3
   },
   "file_extension": ".py",
   "mimetype": "text/x-python",
   "name": "python",
   "nbconvert_exporter": "python",
   "pygments_lexer": "ipython3",
   "version": "3.7.10"
  }
 },
 "nbformat": 4,
 "nbformat_minor": 5
}
