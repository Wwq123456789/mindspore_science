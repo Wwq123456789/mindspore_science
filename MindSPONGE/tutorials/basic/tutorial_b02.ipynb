{
 "cells": [
  {
   "cell_type": "code",
   "execution_count": 1,
   "id": "b698676e-9a49-489d-a396-d717a4ef6b09",
   "metadata": {},
   "outputs": [],
   "source": [
    "from mindspore import context\n",
    "from mindsponge import Sponge\n",
    "from mindsponge import Molecule\n",
    "from mindsponge import ForceField\n",
    "from mindsponge import DynamicUpdater\n",
    "from mindsponge.control import VelocityVerlet, Langevin\n",
    "from mindsponge.callback import WriteH5MD, RunInfo"
   ]
  },
  {
   "cell_type": "code",
   "execution_count": 2,
   "id": "71c58271-41cd-4f15-a88a-4ac371a09a61",
   "metadata": {},
   "outputs": [],
   "source": [
    "context.set_context(mode=context.GRAPH_MODE, device_target=\"GPU\")"
   ]
  },
  {
   "cell_type": "markdown",
   "id": "103887d0-1c8b-49fe-933c-27cec1001c3f",
   "metadata": {},
   "source": [
    "## 使用力场模板\n",
    "\n",
    "MindSponge中支持yaml格式的力场参数信息配置，其中大体分为`模板`和`参数`两个大类。`模板`中主要存储系统中的原子名称、原子类型、原子质量、原子序数、成键关系等基本信息，也是一般都不需要去改动的信息。`参数`中顾名思义就是存储一些力场参数，比如键长相互作用$E_b=k_b(l-l_0)^2$中的$(k_b,l_0)$就是一组力场参数。不同的原子组合形成的键、角度、二面角还有其他的一些远程相互作用等，都会对应于不同的参数，在不同的力场中千差万别。\n",
    "\n",
    "比如这是一个三点水的模板配置信息：\n",
    "\n",
    "```yaml\n",
    "template:\n",
    "  WAT:\n",
    "    atom_name: [O, H1, H2]\n",
    "    atom_type: [OW, HW, HW]\n",
    "    atom_mass: [16.00, 1.008, 1.008]\n",
    "    atomic_number: [8, 1, 1]\n",
    "    bond:\n",
    "    - [0, 1]\n",
    "    - [0, 2]\n",
    "    head_atom: null\n",
    "    tail_atom: null\n",
    "```\n",
    "\n",
    "以及一个三点水的力场参数信息：\n",
    "\n",
    "```yaml\n",
    "template:\n",
    "  base: water.tip3p.yaml\n",
    "parameters:\n",
    "  bond_energy:\n",
    "    length_unit: nm\n",
    "    energy_unit: kj/mol\n",
    "    parameter_names:\n",
    "      atoms: [bond_length, force_constant]\n",
    "    parameters:\n",
    "      OW-HW: [0.09572, 502416]\n",
    "  angle_energy:\n",
    "    length_unit: nm\n",
    "    energy_unit: kj/mol\n",
    "    parameter_names:\n",
    "      atoms: [bond_angle, force_constant]\n",
    "    parameters:\n",
    "      HW-OW-HW: [1.824218, 628.02]\n",
    "  coulomb_energy:\n",
    "    length_unit: nm\n",
    "    energy_unit: kj/mol\n",
    "  vdw_energy:\n",
    "    length_unit: nm\n",
    "    energy_unit: kj/mol\n",
    "    parameter_names:\n",
    "      atoms: [sigma, epsilon]\n",
    "    parameters:\n",
    "      OW: [0.315061, 0.636386]\n",
    "      HW: [0.0, 0.0]\n",
    "```\n",
    "\n",
    "用户可以根据不同的力场自定义一个这样的yaml文件，然后就可以在MindSponge平台上非常方便的进行分子动力学模拟。"
   ]
  },
  {
   "cell_type": "code",
   "execution_count": 3,
   "id": "f4b59501-20e9-4b79-a33d-0376ef25232d",
   "metadata": {},
   "outputs": [],
   "source": [
    "system = Molecule(template='water.tip3p.yaml')"
   ]
  },
  {
   "cell_type": "code",
   "execution_count": 4,
   "id": "12adc305-1db8-47a8-bb6f-df1ad83a2040",
   "metadata": {},
   "outputs": [],
   "source": [
    "potential = ForceField(system, parameters='TIP3P')"
   ]
  },
  {
   "cell_type": "code",
   "execution_count": 5,
   "id": "56f70d3b-92e3-41e4-8119-ef0395e8b279",
   "metadata": {},
   "outputs": [],
   "source": [
    "opt = DynamicUpdater(system,\n",
    "                     integrator=VelocityVerlet(system),\n",
    "                     thermostat=Langevin(system, 300),\n",
    "                     time_step=1e-3)"
   ]
  },
  {
   "cell_type": "code",
   "execution_count": 6,
   "id": "1fb210d5-8c8d-4f79-848f-d4cd3d5549a7",
   "metadata": {},
   "outputs": [],
   "source": [
    "md = Sponge(system, potential, opt)"
   ]
  },
  {
   "cell_type": "code",
   "execution_count": 7,
   "id": "9e28a60d-fe84-4afb-8c94-37fda8b56bba",
   "metadata": {},
   "outputs": [],
   "source": [
    "run_info = RunInfo(10)\n",
    "cb_h5md = WriteH5MD(system, 'tutorial_b02.h5md', save_freq=10, write_velocity=True, write_force=True)"
   ]
  },
  {
   "cell_type": "code",
   "execution_count": 8,
   "id": "26add33b-e30b-4940-9aa7-8231d56e96f5",
   "metadata": {},
   "outputs": [
    {
     "name": "stdout",
     "output_type": "stream",
     "text": [
      "Step: 0, E_pot: -321.2302, E_kin: 0.0, E_tot: -321.2302, Temperature: 0.0\n",
      "Step: 10, E_pot: -338.49777, E_kin: 1.5871477, E_tot: -336.9106, Temperature: 63.629997\n",
      "Step: 20, E_pot: -353.41055, E_kin: 17.06509, E_tot: -336.34546, Temperature: 684.1529\n",
      "Step: 30, E_pot: -339.99286, E_kin: 27.341263, E_tot: -312.6516, Temperature: 1096.1327\n",
      "Step: 40, E_pot: -326.36465, E_kin: 16.677002, E_tot: -309.68765, Temperature: 668.5941\n",
      "Step: 50, E_pot: -331.90106, E_kin: 1.9247835, E_tot: -329.9763, Temperature: 77.16608\n",
      "Step: 60, E_pot: -351.152, E_kin: 9.303469, E_tot: -341.84854, Temperature: 372.98337\n",
      "Step: 70, E_pot: -348.51932, E_kin: 29.548454, E_tot: -318.97086, Temperature: 1184.6207\n",
      "Step: 80, E_pot: -325.14798, E_kin: 22.25408, E_tot: -302.8939, Temperature: 892.18353\n",
      "Step: 90, E_pot: -329.14166, E_kin: 3.141025, E_tot: -326.00064, Temperature: 125.92617\n",
      "Step: 100, E_pot: -349.26553, E_kin: 7.8872676, E_tot: -341.37827, Temperature: 316.20676\n",
      "Step: 110, E_pot: -349.02707, E_kin: 24.545055, E_tot: -324.48203, Temperature: 984.0306\n",
      "Step: 120, E_pot: -331.08774, E_kin: 25.463242, E_tot: -305.6245, Temperature: 1020.8414\n",
      "Step: 130, E_pot: -326.2132, E_kin: 6.9755883, E_tot: -319.2376, Temperature: 279.6568\n",
      "Step: 140, E_pot: -343.50717, E_kin: 2.153152, E_tot: -341.35403, Temperature: 86.321556\n",
      "Step: 150, E_pot: -354.60175, E_kin: 21.076748, E_tot: -333.525, Temperature: 844.9834\n",
      "Step: 160, E_pot: -335.2634, E_kin: 26.835377, E_tot: -308.428, Temperature: 1075.8513\n",
      "Step: 170, E_pot: -325.03384, E_kin: 9.209534, E_tot: -315.8243, Temperature: 369.21744\n",
      "Step: 180, E_pot: -341.4214, E_kin: 3.7801929, E_tot: -337.6412, Temperature: 151.5509\n",
      "Step: 190, E_pot: -352.2217, E_kin: 16.335342, E_tot: -335.88635, Temperature: 654.8967\n",
      "Step: 200, E_pot: -340.6808, E_kin: 28.510689, E_tot: -312.1701, Temperature: 1143.0159\n",
      "Step: 210, E_pot: -325.00674, E_kin: 15.81793, E_tot: -309.1888, Temperature: 634.15326\n",
      "Step: 220, E_pot: -335.10995, E_kin: 0.78907114, E_tot: -334.3209, Temperature: 31.634481\n",
      "Step: 230, E_pot: -354.321, E_kin: 13.005798, E_tot: -341.31522, Temperature: 521.41266\n",
      "Step: 240, E_pot: -345.82434, E_kin: 24.406254, E_tot: -321.4181, Temperature: 978.4659\n",
      "Step: 250, E_pot: -328.16702, E_kin: 15.698154, E_tot: -312.46887, Temperature: 629.3513\n",
      "Step: 260, E_pot: -334.23376, E_kin: 4.2884216, E_tot: -329.94534, Temperature: 171.9262\n",
      "Step: 270, E_pot: -349.0864, E_kin: 7.3932486, E_tot: -341.69315, Temperature: 296.40115\n",
      "Step: 280, E_pot: -349.68985, E_kin: 20.880157, E_tot: -328.8097, Temperature: 837.1019\n",
      "Step: 290, E_pot: -334.77902, E_kin: 21.487999, E_tot: -313.29102, Temperature: 861.47076\n",
      "Step: 300, E_pot: -329.39874, E_kin: 4.2839155, E_tot: -325.11484, Temperature: 171.74554\n",
      "Step: 310, E_pot: -348.03723, E_kin: 4.2149034, E_tot: -343.82233, Temperature: 168.97879\n",
      "Step: 320, E_pot: -352.97845, E_kin: 19.29139, E_tot: -333.68707, Temperature: 773.407\n",
      "Step: 330, E_pot: -336.82407, E_kin: 19.728197, E_tot: -317.09586, Temperature: 790.9189\n",
      "Step: 340, E_pot: -332.89764, E_kin: 9.018472, E_tot: -323.87918, Temperature: 361.55762\n",
      "Step: 350, E_pot: -343.26242, E_kin: 3.0703325, E_tot: -340.19208, Temperature: 123.09204\n",
      "Step: 360, E_pot: -352.57516, E_kin: 12.074066, E_tot: -340.5011, Temperature: 484.0588\n",
      "Step: 370, E_pot: -343.50928, E_kin: 22.009468, E_tot: -321.49982, Temperature: 882.37683\n",
      "Step: 380, E_pot: -331.23553, E_kin: 9.008551, E_tot: -322.227, Temperature: 361.15988\n",
      "Step: 390, E_pot: -342.32996, E_kin: 1.4267538, E_tot: -340.9032, Temperature: 57.19968\n",
      "Step: 400, E_pot: -353.78226, E_kin: 11.352187, E_tot: -342.43008, Temperature: 455.1181\n",
      "Step: 410, E_pot: -345.2489, E_kin: 17.983326, E_tot: -327.26556, Temperature: 720.9657\n",
      "Step: 420, E_pot: -335.9054, E_kin: 11.961807, E_tot: -323.9436, Temperature: 479.55826\n",
      "Step: 430, E_pot: -340.39676, E_kin: 3.4844193, E_tot: -336.91235, Temperature: 139.69312\n",
      "Step: 440, E_pot: -351.55405, E_kin: 7.8222327, E_tot: -343.7318, Temperature: 313.59946\n",
      "Step: 450, E_pot: -348.609, E_kin: 19.970245, E_tot: -328.63876, Temperature: 800.6228\n",
      "Step: 460, E_pot: -335.12598, E_kin: 13.721109, E_tot: -321.40488, Temperature: 550.0901\n",
      "Step: 470, E_pot: -337.9886, E_kin: 2.8053327, E_tot: -335.18326, Temperature: 112.46799\n",
      "Step: 480, E_pot: -352.4484, E_kin: 7.976147, E_tot: -344.47226, Temperature: 319.77002\n",
      "Step: 490, E_pot: -349.0224, E_kin: 17.073248, E_tot: -331.94916, Temperature: 684.4799\n",
      "Step: 500, E_pot: -339.061, E_kin: 15.114675, E_tot: -323.94632, Temperature: 605.95917\n",
      "Step: 510, E_pot: -338.16678, E_kin: 7.2940736, E_tot: -330.8727, Temperature: 292.42514\n",
      "Step: 520, E_pot: -348.69382, E_kin: 5.915066, E_tot: -342.77875, Temperature: 237.13965\n",
      "Step: 530, E_pot: -352.88968, E_kin: 17.289944, E_tot: -335.59973, Temperature: 693.1675\n",
      "Step: 540, E_pot: -340.9111, E_kin: 17.983295, E_tot: -322.9278, Temperature: 720.9645\n",
      "Step: 550, E_pot: -337.54562, E_kin: 6.3144045, E_tot: -331.23123, Temperature: 253.14943\n",
      "Step: 560, E_pot: -350.85733, E_kin: 7.3753853, E_tot: -343.48193, Temperature: 295.685\n",
      "Step: 570, E_pot: -352.8975, E_kin: 16.242924, E_tot: -336.65457, Temperature: 651.1916\n",
      "Step: 580, E_pot: -343.36807, E_kin: 15.786266, E_tot: -327.58182, Temperature: 632.88385\n",
      "Step: 590, E_pot: -340.54654, E_kin: 9.590993, E_tot: -330.95554, Temperature: 384.51044\n",
      "Step: 600, E_pot: -347.38324, E_kin: 5.0383306, E_tot: -342.3449, Temperature: 201.99063\n",
      "Step: 610, E_pot: -353.7136, E_kin: 12.291423, E_tot: -341.42218, Temperature: 492.7728\n",
      "Step: 620, E_pot: -346.70157, E_kin: 17.796618, E_tot: -328.90494, Temperature: 713.48035\n",
      "Step: 630, E_pot: -340.539, E_kin: 10.005623, E_tot: -330.5334, Temperature: 401.1333\n",
      "Step: 640, E_pot: -347.94846, E_kin: 5.8742695, E_tot: -342.0742, Temperature: 235.50409\n",
      "Step: 650, E_pot: -353.99002, E_kin: 13.213729, E_tot: -340.7763, Temperature: 529.7488\n",
      "Step: 660, E_pot: -346.82095, E_kin: 17.322685, E_tot: -329.49826, Temperature: 694.4801\n",
      "Step: 670, E_pot: -340.78168, E_kin: 12.305205, E_tot: -328.47647, Temperature: 493.32535\n",
      "Step: 680, E_pot: -345.42023, E_kin: 5.1588383, E_tot: -340.26138, Temperature: 206.82188\n",
      "Step: 690, E_pot: -354.33453, E_kin: 9.749906, E_tot: -344.58463, Temperature: 390.88138\n",
      "Step: 700, E_pot: -350.54852, E_kin: 15.3240185, E_tot: -335.22452, Temperature: 614.3519\n",
      "Step: 710, E_pot: -341.60773, E_kin: 10.284886, E_tot: -331.32285, Temperature: 412.32916\n",
      "Step: 720, E_pot: -346.06073, E_kin: 4.769492, E_tot: -341.29123, Temperature: 191.21269\n",
      "Step: 730, E_pot: -353.0175, E_kin: 8.660472, E_tot: -344.35703, Temperature: 347.2051\n",
      "Step: 740, E_pot: -350.545, E_kin: 14.210469, E_tot: -336.33453, Temperature: 569.70886\n",
      "Step: 750, E_pot: -343.55463, E_kin: 12.35693, E_tot: -331.1977, Temperature: 495.39902\n",
      "Step: 760, E_pot: -342.43912, E_kin: 5.6309204, E_tot: -336.8082, Temperature: 225.74803\n",
      "Step: 770, E_pot: -351.38297, E_kin: 6.4797173, E_tot: -344.90326, Temperature: 259.77695\n",
      "Step: 780, E_pot: -352.5942, E_kin: 16.279903, E_tot: -336.3143, Temperature: 652.67413\n",
      "Step: 790, E_pot: -342.47787, E_kin: 15.387407, E_tot: -327.09045, Temperature: 616.89325\n",
      "Step: 800, E_pot: -341.72168, E_kin: 8.374751, E_tot: -333.34692, Temperature: 335.75037\n",
      "Step: 810, E_pot: -350.0935, E_kin: 7.610153, E_tot: -342.48334, Temperature: 305.09702\n",
      "Step: 820, E_pot: -352.22662, E_kin: 15.099045, E_tot: -337.12756, Temperature: 605.3326\n",
      "Step: 830, E_pot: -343.5147, E_kin: 17.286924, E_tot: -326.22778, Temperature: 693.0464\n",
      "Step: 840, E_pot: -340.0542, E_kin: 8.361652, E_tot: -331.69254, Temperature: 335.22522\n",
      "Step: 850, E_pot: -348.04285, E_kin: 4.846265, E_tot: -343.1966, Temperature: 194.29057\n",
      "Step: 860, E_pot: -353.1343, E_kin: 12.890175, E_tot: -340.24414, Temperature: 516.7772\n",
      "Step: 870, E_pot: -344.50742, E_kin: 15.998805, E_tot: -328.5086, Temperature: 641.40466\n",
      "Step: 880, E_pot: -340.7692, E_kin: 8.243479, E_tot: -332.52573, Temperature: 330.48755\n",
      "Step: 890, E_pot: -347.5108, E_kin: 5.984877, E_tot: -341.52594, Temperature: 239.93843\n",
      "Step: 900, E_pot: -351.50897, E_kin: 11.275058, E_tot: -340.23392, Temperature: 452.0259\n",
      "Step: 910, E_pot: -345.8242, E_kin: 15.931994, E_tot: -329.89218, Temperature: 638.72614\n",
      "Step: 920, E_pot: -340.16193, E_kin: 11.397186, E_tot: -328.76474, Temperature: 456.92215\n",
      "Step: 930, E_pot: -345.7201, E_kin: 5.279188, E_tot: -340.44092, Temperature: 211.6468\n",
      "Step: 940, E_pot: -352.79214, E_kin: 9.885395, E_tot: -342.90674, Temperature: 396.31326\n",
      "Step: 950, E_pot: -349.2937, E_kin: 13.932846, E_tot: -335.36084, Temperature: 558.57874\n",
      "Step: 960, E_pot: -343.19183, E_kin: 10.549274, E_tot: -332.64255, Temperature: 422.9287\n",
      "Step: 970, E_pot: -345.62448, E_kin: 5.510115, E_tot: -340.11438, Temperature: 220.90485\n",
      "Step: 980, E_pot: -352.41568, E_kin: 8.838261, E_tot: -343.57742, Temperature: 354.33282\n",
      "Step: 990, E_pot: -351.05923, E_kin: 12.345818, E_tot: -338.7134, Temperature: 494.95352\n"
     ]
    },
    {
     "data": {
      "text/plain": [
       "<mindsponge.core.sponge.Sponge at 0x7f0420064f90>"
      ]
     },
     "execution_count": 8,
     "metadata": {},
     "output_type": "execute_result"
    }
   ],
   "source": [
    "md.run(1000, callbacks=[run_info, cb_h5md])"
   ]
  },
  {
   "cell_type": "markdown",
   "id": "89a5690f-75e9-4ca4-b133-5e50932f9101",
   "metadata": {},
   "source": [
    "![](../../docs/tutorial_b02.gif)"
   ]
  }
 ],
 "metadata": {
  "kernelspec": {
   "display_name": "MindSpore",
   "language": "python",
   "name": "mindspore"
  },
  "language_info": {
   "codemirror_mode": {
    "name": "ipython",
    "version": 3
   },
   "file_extension": ".py",
   "mimetype": "text/x-python",
   "name": "python",
   "nbconvert_exporter": "python",
   "pygments_lexer": "ipython3",
   "version": "3.7.10"
  }
 },
 "nbformat": 4,
 "nbformat_minor": 5
}
