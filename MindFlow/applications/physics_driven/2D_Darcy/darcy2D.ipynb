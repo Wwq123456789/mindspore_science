{
 "cells": [
  {
   "cell_type": "markdown",
   "metadata": {},
   "source": [
    "# PINNS-based solution for 2D stabilized Darcy equations\n",
    "\n",
    "## Overview\n",
    "\n",
    "Darcy equation is a second-order, elliptic PDE (partial differential equation), which describes the flow through a porous medium at low speed. It is widely used in hydraulic engineering and petroleum engineering. The Darcy equation was originally formulated by Henry Darcy on the basis of experimental results of permeability experiments in sandy soil, and later derived from the Navier-Stokes equation by Stephen Whitaker via the homogenization method.\n",
    "\n",
    "It is difficult to obtain a generalized analytical solution of the Darcy equation for the permeability field of different fluids and the numerical method is usually used to solve the Darcy governing equation describing a specific scenario, and then the pressure field and velocity field of flow under the scenario are simulated. The numerical simulation results of Darcy flow can be used for further scientific research and engineering practice. Finite element method (FEM) for Darcy equation is designed to work with finite element spaces. In addition, for many problems of practical interest, some physical terms of the Darcy equation will be stabilized. The finite element method is designed in the standard finite element grid space. The higher accuracy required for numerical solution, the more fine the grid needs to be divided, and it costs larger time and storage overhead.\n",
    "\n",
    "As the research of parallel algorithm for numerical solution tends to slow down, the method based on neural network has been developed and achieved the solution accuracy close to the traditional numerical method. In 2019, the Applied Mathematics team of Brown University proposed a Physics-informed Neural Networks (PINNs) and provided a complete code framework to construct PINNs for solving a wide variety of PDEs. In this case, MindFlow suite of fluid equations is used to solve the two-dimensional stabilized Darcy equation based on PINNs method.\n",
    "\n",
    "## Problem Description\n",
    "\n",
    "Considering the two-dimensional cube $\\Omega=(0, 1)\\times(0, 1)$, The boundary of the cube is $\\Gamma$. Ignoring the effects of gravity, in the range of $\\Omega$, the two-dimensional stabilized Darcy equation satisfied by the fluid pressure $p$ and velocity $u$ is as follows:\n",
    "\n",
    "$$\n",
    "\\begin{align}\n",
    "u + \\nabla p &= 0, (x, y)\\in\\Omega\\\\\n",
    "\\nabla \\cdot u &= f, (x, y)\\in\\Omega\n",
    "\\end{align}\n",
    "$$\n",
    "\n",
    "The Dirichlet boundary conditions are used in this case in the following form:\n",
    "\n",
    "$$\n",
    "\\begin{align}\n",
    "u_x &= -2 \\pi cos(2 \\pi x) cos(2 \\pi y) &(x, y)\\in\\Gamma\\\\\n",
    "u_y &= 2 \\pi sin(2 \\pi x) sin(2 \\pi y) &(x, y)\\in\\Gamma\\\\\n",
    "p &= sin(2 \\pi x) cos(2 \\pi y) &(x, y)\\in\\Gamma\n",
    "\\end{align}\n",
    "$$\n",
    "\n",
    "In which $f$ is **forcing function** in the Darcy equation. In this case, **forcing function** $f$ is used to learn the mapping $(x, y) \\mapsto (u, p)$ from position to corresponding physical quantities when **forcing function** $f$ is $8 \\pi^2 sin(2 \\pi x)cos(2 \\pi y)$. So that the solution of Darcy equation is realized."
   ]
  },
  {
   "cell_type": "code",
   "execution_count": 1,
   "metadata": {},
   "outputs": [],
   "source": [
    "import numpy as np\n",
    "\n",
    "from mindspore.common import set_seed\n",
    "from mindspore import nn\n",
    "from mindspore.train import DynamicLossScaleManager\n",
    "from mindspore.train.callback import ModelCheckpoint, CheckpointConfig"
   ]
  },
  {
   "cell_type": "code",
   "execution_count": 2,
   "metadata": {},
   "outputs": [],
   "source": [
    "from mindflow.loss import Constraints\n",
    "from mindflow.solver import Solver\n",
    "from mindflow.common import L2\n",
    "from mindflow.utils import load_yaml_config\n",
    "from mindflow.common import LossAndTimeMonitor\n",
    "from mindflow.cell import FCSequential\n",
    "\n",
    "set_seed(123456)\n",
    "np.random.seed(123456)"
   ]
  },
  {
   "cell_type": "code",
   "execution_count": 3,
   "metadata": {},
   "outputs": [],
   "source": [
    "config = load_yaml_config(\"darcy_cfg.yaml\")"
   ]
  },
  {
   "cell_type": "markdown",
   "metadata": {},
   "source": [
    "### Training Dataset Construction\n",
    "\n",
    "For the training dataset, this case conducts random sampling according to the problem domain and boundary conditions. The sampling configuration information is as follows, and samples are collected according to uniform distribution. The problem domain of cube is constructed, and then the known problem domain and boundary are sampled.\n"
   ]
  },
  {
   "cell_type": "code",
   "execution_count": 4,
   "metadata": {},
   "outputs": [],
   "source": [
    "from scipy.constants import pi as PI\n",
    "\n",
    "from mindflow.data import Dataset\n",
    "from mindflow.geometry import Rectangle\n",
    "from mindflow.geometry import generate_sampling_config\n",
    "\n",
    "def create_random_dataset(config, name):\n",
    "    \"\"\"create training dataset by online sampling\"\"\"\n",
    "    # define geometry\n",
    "    coord_min = config[\"geometry\"][\"coord_min\"]\n",
    "    coord_max = config[\"geometry\"][\"coord_max\"]\n",
    "    data_config = config[\"data\"]\n",
    "\n",
    "    flow_region = Rectangle(\n",
    "        name,\n",
    "        coord_min=coord_min,\n",
    "        coord_max=coord_max,\n",
    "        sampling_config=generate_sampling_config(data_config),\n",
    "    )\n",
    "    geom_dict = {flow_region: [\"domain\", \"BC\"]}\n",
    "\n",
    "    # create dataset for train\n",
    "    dataset = Dataset(geom_dict)\n",
    "    return dataset"
   ]
  },
  {
   "cell_type": "code",
   "execution_count": 5,
   "metadata": {},
   "outputs": [],
   "source": [
    "geom_name = \"flow_region\"\n",
    "# create train dataset\n",
    "flow_train_dataset = create_random_dataset(config, geom_name)\n",
    "train_data = flow_train_dataset.create_dataset(\n",
    "    batch_size=config[\"train_batch_size\"], shuffle=True, drop_remainder=True\n",
    ")"
   ]
  },
  {
   "cell_type": "markdown",
   "metadata": {},
   "source": [
    "## Model Construction\n",
    "\n",
    "This example uses a simple fully-connected network with a depth of 6 layers and the activation function is the tanh function."
   ]
  },
  {
   "cell_type": "code",
   "execution_count": 7,
   "metadata": {},
   "outputs": [],
   "source": [
    "# network model\n",
    "model = FCSequential(\n",
    "    in_channels=config[\"model\"][\"input_size\"],\n",
    "    out_channels=config[\"model\"][\"output_size\"],\n",
    "    neurons=config[\"model\"][\"neurons\"],\n",
    "    layers=config[\"model\"][\"layers\"],\n",
    "    residual=config[\"model\"][\"residual\"],\n",
    "    act=config[\"model\"][\"activation\"],\n",
    "    weight_init=config[\"model\"][\"weight_init\"]\n",
    ")"
   ]
  },
  {
   "cell_type": "markdown",
   "metadata": {},
   "source": [
    "## Problem"
   ]
  },
  {
   "cell_type": "code",
   "execution_count": 9,
   "metadata": {},
   "outputs": [],
   "source": [
    "from scipy.constants import pi as PI\n",
    "from mindspore import ms_function\n",
    "from mindspore import ops\n",
    "from mindspore import Tensor\n",
    "import mindspore.common.dtype as mstype\n",
    "\n",
    "from mindflow.operators import Grad\n",
    "from mindflow.pde import Problem\n",
    "\n",
    "class Darcy2D(Problem):\n",
    "    r\"\"\"\n",
    "    The steady-state 2D Darcy flow's equations with Dirichlet boundary condition\n",
    "\n",
    "    Args:\n",
    "      model (Cell): The solving network.\n",
    "      domain_name (str): The corresponding column name of data which governed by maxwell's equation.\n",
    "      bc_name (str): The corresponding column name of data which governed by boundary condition.\n",
    "    \"\"\"\n",
    "\n",
    "    def __init__(self, model, domain_name=None, bc_name=None):\n",
    "        super(Darcy2D, self).__init__()\n",
    "        self.domain_name = domain_name\n",
    "        self.bc_name = bc_name\n",
    "        self.model = model\n",
    "        self.grad = Grad(self.model)\n",
    "        self.sin = ops.Sin()\n",
    "        self.cos = ops.Cos()\n",
    "\n",
    "        # constants\n",
    "        self.pi = Tensor(PI, mstype.float32)\n",
    "\n",
    "    def force_function(self, in_x, in_y):\n",
    "        \"\"\"\"forcing function in Darcy Equation\"\"\"\n",
    "        return 8 * self.pi**2 * self.sin(2 * self.pi * in_x) * self.cos(2 * self.pi * in_y)\n",
    "\n",
    "    @ms_function\n",
    "    def governing_equation(self, *output, **kwargs):\n",
    "        \"\"\"darcy equation\"\"\"\n",
    "        u_x, u_y, _ = ops.split(output[0], axis=1, output_num=3)\n",
    "\n",
    "        data = kwargs[self.domain_name]\n",
    "        in_x = ops.Reshape()(data[:, 0], (-1, 1))\n",
    "        in_y = ops.Reshape()(data[:, 1], (-1, 1))\n",
    "\n",
    "        duxdx = ops.Cast()(self.grad(data, 0, 0, output[0]), mstype.float32)\n",
    "        duydy = ops.Cast()(self.grad(data, 1, 1, output[0]), mstype.float32)\n",
    "        dpdx = ops.Cast()(self.grad(data, 0, 2, output[0]), mstype.float32)\n",
    "        dpdy = ops.Cast()(self.grad(data, 1, 2, output[0]), mstype.float32)\n",
    "\n",
    "        loss_1 = -1 * (duxdx + duydy - self.force_function(in_x, in_y))\n",
    "        loss_2 = 1 * (u_x + dpdx)\n",
    "        loss_3 = 2 * self.pi * (u_y + dpdy)\n",
    "\n",
    "        return ops.Concat(1)((loss_1, loss_2, loss_3))\n",
    "\n",
    "    @ms_function\n",
    "    def boundary_condition(self, *output, **kwargs):\n",
    "        \"\"\"Dirichlet boundary condition\"\"\"\n",
    "\n",
    "        out_vars = output[0]\n",
    "        u_x, u_y, pressure = ops.split(out_vars, axis=1, output_num=3)\n",
    "        data = kwargs[self.bc_name]\n",
    "        in_x = ops.Reshape()(data[:, 0], (-1, 1))\n",
    "        in_y = ops.Reshape()(data[:, 1], (-1, 1))\n",
    "        ux_boundary = -1 * (\n",
    "            u_x - (-2 * self.pi * self.cos(2 * self.pi * in_x) * self.cos(2 * self.pi * in_y))\n",
    "        )\n",
    "\n",
    "        uy_boundary = 1 * (\n",
    "            u_y - (2 * self.pi * self.sin(2 * self.pi * in_x) * self.sin(2 * self.pi * in_y))\n",
    "        )\n",
    "\n",
    "        p_boundary = (\n",
    "            2 * self.pi * (pressure - self.sin(2 * self.pi * in_x) * self.cos(2 * self.pi * in_y))\n",
    "        )\n",
    "        return ops.Concat(1)((ux_boundary, uy_boundary, p_boundary))"
   ]
  },
  {
   "cell_type": "markdown",
   "metadata": {},
   "source": [
    "## Constraints"
   ]
  },
  {
   "cell_type": "code",
   "execution_count": 10,
   "metadata": {},
   "outputs": [],
   "source": [
    "# define problem and Constraints\n",
    "darcy_problem = [\n",
    "    Darcy2D(model=model) for _ in range(flow_train_dataset.num_dataset)\n",
    "]\n",
    "train_constraints = Constraints(flow_train_dataset, darcy_problem)"
   ]
  },
  {
   "cell_type": "markdown",
   "metadata": {},
   "source": [
    "## optimizer"
   ]
  },
  {
   "cell_type": "code",
   "execution_count": 11,
   "metadata": {},
   "outputs": [],
   "source": [
    "# optimizer\n",
    "params = model.trainable_params()\n",
    "optim = nn.Adam(params, learning_rate=config[\"optimizer\"][\"lr\"])"
   ]
  },
  {
   "cell_type": "markdown",
   "metadata": {},
   "source": [
    "## Model Training\n"
   ]
  },
  {
   "cell_type": "code",
   "execution_count": 12,
   "metadata": {},
   "outputs": [],
   "source": [
    "# solver\n",
    "solver = Solver(\n",
    "    model,\n",
    "    optimizer=optim,\n",
    "    mode=\"PINNs\",\n",
    "    train_constraints=train_constraints,\n",
    "    test_constraints=None,\n",
    "    metrics={\"l2\": L2(), \"distance\": nn.MAE()},\n",
    "    loss_scale_manager=DynamicLossScaleManager(),\n",
    ")"
   ]
  },
  {
   "cell_type": "code",
   "execution_count": 13,
   "metadata": {},
   "outputs": [],
   "source": [
    "# define callbacks\n",
    "callbacks = [LossAndTimeMonitor(len(flow_train_dataset))]\n",
    "\n",
    "if config[\"save_ckpt\"]:\n",
    "    ckpt_config = CheckpointConfig(save_checkpoint_steps=10, keep_checkpoint_max=2)\n",
    "    ckpoint_cb = ModelCheckpoint(\n",
    "        prefix=\"ckpt_darcy\", directory=config[\"save_ckpt_path\"], config=ckpt_config\n",
    "    )\n",
    "    callbacks += [ckpoint_cb]"
   ]
  },
  {
   "cell_type": "code",
   "execution_count": null,
   "metadata": {},
   "outputs": [],
   "source": [
    "solver.train(\n",
    "    epoch=config[\"train_epoch\"], train_dataset=train_data, callbacks=callbacks\n",
    ")"
   ]
  },
  {
   "cell_type": "markdown",
   "metadata": {},
   "source": [
    "## Model Evaluation and Visualizetion\n",
    "\n",
    "After training, all data points in the flow field can be inferred. And related results can be visualized."
   ]
  },
  {
   "cell_type": "code",
   "execution_count": null,
   "metadata": {},
   "outputs": [],
   "source": [
    "from src import visual_result\n",
    "visual_result(model, config)"
   ]
  },
  {
   "cell_type": "markdown",
   "metadata": {},
   "source": [
    "![result](images/result.png)"
   ]
  }
 ],
 "metadata": {
  "kernelspec": {
   "display_name": "Python 3.9.15 64-bit",
   "language": "python",
   "name": "python3"
  },
  "language_info": {
   "codemirror_mode": {
    "name": "ipython",
    "version": 3
   },
   "file_extension": ".py",
   "mimetype": "text/x-python",
   "name": "python",
   "nbconvert_exporter": "python",
   "pygments_lexer": "ipython3",
   "version": "3.9.15"
  },
  "orig_nbformat": 4,
  "vscode": {
   "interpreter": {
    "hash": "31f2aee4e71d21fbe5cf8b01ff0e069b9275f58929596ceb00d14d90e3e16cd6"
   }
  }
 },
 "nbformat": 4,
 "nbformat_minor": 2
}
