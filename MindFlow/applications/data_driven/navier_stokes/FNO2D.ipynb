{
 "cells": [
  {
   "cell_type": "markdown",
   "metadata": {
    "pycharm": {
     "name": "#%% md\n"
    }
   },
   "source": [
    "# Solve Navier-Stokes equation based on Fourier Neural Operator"
   ]
  },
  {
   "cell_type": "markdown",
   "metadata": {
    "pycharm": {
     "name": "#%% md\n"
    }
   },
   "source": [
    "## Overview\n",
    "\n",
    "Computational fluid dynamics is one of the most important techniques in the field of fluid mechanics in the 21st century. The flow analysis, prediction and control can be realized by solving the governing equations of fluid mechanics by numerical method. Traditional finite element method (FEM) and finite difference method (FDM) are inefficient because of the complex simulation process (physical modeling, meshing, numerical discretization, iterative solution, etc.) and high computing costs. Therefore, it is necessary to improve the efficiency of fluid simulation with AI.\n",
    "\n",
    "Machine learning methods provide a new paradigm for scientific computing by providing a fast solver similar to traditional methods. Classical neural networks learn mappings between finite dimensional spaces and can only learn solutions related to specific discretizations. Different from traditional neural networks, Fourier Neural Operator (FNO) is a new deep learning architecture that can learn mappings between infinite-dimensional function spaces. It directly learns mappings from arbitrary function parameters to solutions to solve a class of partial differential equations.  Therefore, it has a stronger generalization capability. More information can be found in the paper, [Fourier Neural Operator for Parametric Partial Differential Equations](https://arxiv.org/abs/2010.08895).\n",
    "\n",
    "This tutorial describes how to solve the Navier-Stokes equation using Fourier neural operator."
   ]
  },
  {
   "cell_type": "markdown",
   "metadata": {
    "pycharm": {
     "name": "#%% md\n"
    }
   },
   "source": [
    "## Navier-Stokes equation\n",
    "\n",
    "Navier-Stokes equation is a classical equation in computational fluid dynamics. It is a set of partial differential equations describing the conservation of fluid momentum, called N-S equation for short. Its vorticity form in two-dimensional incompressible flows is as follows:\n",
    "\n",
    "$$\n",
    "\\partial_t w(x, t)+u(x, t) \\cdot \\nabla w(x, t)=\\nu \\Delta w(x, t)+f(x), \\quad x \\in(0,1)^2, t \\in(0, T]\n",
    "$$\n",
    "\n",
    "$$\n",
    "\\nabla \\cdot u(x, t)=0, \\quad x \\in(0,1)^2, t \\in[0, T]\n",
    "$$\n",
    "\n",
    "$$\n",
    "w(x, 0)=w_0(x), \\quad x \\in(0,1)^2\n",
    "$$\n",
    "\n",
    "where $u$ is the velocity field, $w=\\nabla \\times u$ is the vorticity, $w_0(x)$ is the initial vorticity, $\\nu$ is the viscosity coefficient, $f(x)$ is the forcing function.\n"
   ]
  },
  {
   "cell_type": "code",
   "execution_count": 11,
   "metadata": {
    "pycharm": {
     "name": "#%%\n"
    }
   },
   "outputs": [],
   "source": [
    "import os\n",
    "import numpy as np\n",
    "\n",
    "from mindspore import nn, context, Tensor, set_seed\n",
    "from mindspore import DynamicLossScaleManager, LossMonitor, TimeMonitor, CheckpointConfig, ModelCheckpoint\n"
   ]
  },
  {
   "cell_type": "code",
   "execution_count": 12,
   "metadata": {
    "pycharm": {
     "name": "#%%\n"
    }
   },
   "outputs": [],
   "source": [
    "from mindflow import FNO2D, RelativeRMSELoss, Solver, load_yaml_config, get_warmup_cosine_annealing_lr\n",
    "\n",
    "from src import PredictCallback, create_training_dataset\n",
    "\n",
    "set_seed(0)\n",
    "np.random.seed(0)"
   ]
  },
  {
   "cell_type": "code",
   "execution_count": 13,
   "metadata": {
    "pycharm": {
     "name": "#%%\n"
    }
   },
   "outputs": [],
   "source": [
    "context.set_context(mode=context.GRAPH_MODE, save_graphs=False, device_target='GPU')"
   ]
  },
  {
   "cell_type": "code",
   "execution_count": 14,
   "metadata": {
    "pycharm": {
     "name": "#%%\n"
    }
   },
   "outputs": [],
   "source": [
    "config = load_yaml_config('navier_stokes_2d.yaml')\n",
    "data_params = config[\"data\"]\n",
    "model_params = config[\"model\"]\n",
    "optimizer_params = config[\"optimizer\"]\n",
    "callback_params = config[\"callback\"]"
   ]
  },
  {
   "cell_type": "markdown",
   "metadata": {
    "pycharm": {
     "name": "#%% md\n"
    }
   },
   "source": [
    "## Training Dataset Construction\n",
    "\n",
    "Download the training and test dataset: [data_driven/navier_stokes/dataset](https://download.mindspore.cn/mindscience/mindflow/dataset/applications/data_driven/navier_stokes/dataset/) .\n",
    "\n",
    "In this case, random sampling is performed according to the solution domain, initial condition and boundary value condition to generate training data sets. The specific settings are as follows:"
   ]
  },
  {
   "cell_type": "code",
   "execution_count": 15,
   "metadata": {
    "pycharm": {
     "name": "#%%\n"
    }
   },
   "outputs": [
    {
     "name": "stdout",
     "output_type": "stream",
     "text": [
      "Data preparation finished\n"
     ]
    }
   ],
   "source": [
    "train_dataset = create_training_dataset(data_params, input_resolution=model_params[\"input_resolution\"], shuffle=True)\n",
    "test_input = np.load(os.path.join(data_params[\"path\"], \"test/inputs.npy\"))\n",
    "test_label = np.load(os.path.join(data_params[\"path\"], \"test/label.npy\"))"
   ]
  },
  {
   "cell_type": "markdown",
   "metadata": {
    "pycharm": {
     "name": "#%% md\n"
    }
   },
   "source": [
    "## Model Construction\n",
    "\n",
    "This example uses a simple fully-connected network with a depth of 6 layers and the activation function is the `tanh` function."
   ]
  },
  {
   "cell_type": "code",
   "execution_count": 16,
   "metadata": {
    "pycharm": {
     "name": "#%%\n"
    }
   },
   "outputs": [],
   "source": [
    "model = FNO2D(in_channels=model_params[\"in_channels\"],\n",
    "              out_channels=model_params[\"out_channels\"],\n",
    "              resolution=model_params[\"input_resolution\"],\n",
    "              modes=model_params[\"modes\"],\n",
    "              channels=model_params[\"width\"],\n",
    "              depth=model_params[\"depth\"]\n",
    "              )"
   ]
  },
  {
   "cell_type": "markdown",
   "metadata": {
    "pycharm": {
     "name": "#%% md\n"
    }
   },
   "source": [
    "## Optimizer and loss function"
   ]
  },
  {
   "cell_type": "code",
   "execution_count": 17,
   "metadata": {
    "pycharm": {
     "name": "#%%\n"
    }
   },
   "outputs": [],
   "source": [
    "steps_per_epoch = train_dataset.get_dataset_size()\n",
    "lr = get_warmup_cosine_annealing_lr(lr_init=optimizer_params[\"initial_lr\"],\n",
    "                                    last_epoch=optimizer_params[\"train_epochs\"],\n",
    "                                    steps_per_epoch=steps_per_epoch,\n",
    "                                    warmup_epochs=optimizer_params[\"warmup_epochs\"])\n",
    "\n",
    "optimizer = nn.Adam(model.trainable_params(), learning_rate=Tensor(lr))\n",
    "loss_scale = DynamicLossScaleManager()\n",
    "\n",
    "# prepare loss function\n",
    "loss_fn = RelativeRMSELoss()"
   ]
  },
  {
   "cell_type": "markdown",
   "metadata": {
    "pycharm": {
     "name": "#%% md\n"
    }
   },
   "source": [
    "## Define Solver"
   ]
  },
  {
   "cell_type": "code",
   "execution_count": 18,
   "metadata": {
    "pycharm": {
     "name": "#%%\n"
    }
   },
   "outputs": [],
   "source": [
    "solver = Solver(model,\n",
    "                optimizer=optimizer,\n",
    "                loss_scale_manager=loss_scale,\n",
    "                loss_fn=loss_fn,\n",
    "                )"
   ]
  },
  {
   "cell_type": "markdown",
   "metadata": {
    "pycharm": {
     "name": "#%% md\n"
    }
   },
   "source": [
    "## Define Callback"
   ]
  },
  {
   "cell_type": "code",
   "execution_count": 19,
   "metadata": {
    "pycharm": {
     "name": "#%%\n"
    }
   },
   "outputs": [
    {
     "name": "stdout",
     "output_type": "stream",
     "text": [
      "/data5/hyzhou/MindFlowtmp/FNO2D\n",
      "check test dataset shape: (200, 19, 64, 64, 1), (200, 19, 64, 64, 1)\n"
     ]
    }
   ],
   "source": [
    "summary_dir = os.path.join(callback_params[\"summary_dir\"], 'FNO2D')\n",
    "print(summary_dir)\n",
    "pred_cb = PredictCallback(model=model,\n",
    "                          inputs=test_input,\n",
    "                          label=test_label,\n",
    "                          config=callback_params,\n",
    "                          summary_dir=summary_dir)\n",
    "\n",
    "ckpt_config = CheckpointConfig(save_checkpoint_steps=callback_params[\"save_checkpoint_steps\"] * steps_per_epoch,\n",
    "                               keep_checkpoint_max=callback_params[\"keep_checkpoint_max\"])\n",
    "ckpt_dir = os.path.join(summary_dir, \"ckpt\")\n",
    "ckpt_cb = ModelCheckpoint(prefix=model_params[\"name\"],\n",
    "                          directory=ckpt_dir,\n",
    "                          config=ckpt_config)"
   ]
  },
  {
   "cell_type": "markdown",
   "metadata": {
    "pycharm": {
     "name": "#%% md\n"
    }
   },
   "source": [
    "## Model Training\n",
    "\n",
    "Invoke the Solver interface for model training and callback interface for evaluation."
   ]
  },
  {
   "cell_type": "code",
   "execution_count": 20,
   "metadata": {
    "pycharm": {
     "name": "#%%\n"
    }
   },
   "outputs": [
    {
     "name": "stdout",
     "output_type": "stream",
     "text": [
      "epoch: 1 step: 1000, loss is Tensor(shape=[], dtype=Float32, value= 2.07)\n",
      "Train epoch time: 36526.785 ms, per step time: 36.527 ms\n",
      "epoch: 2 step: 1000, loss is Tensor(shape=[], dtype=Float32, value= 2.00379)\n",
      "Train epoch time: 29215.492 ms, per step time: 29.215 ms\n",
      "epoch: 3 step: 1000, loss is Tensor(shape=[], dtype=Float32, value= 1.40253)\n",
      "Train epoch time: 29217.016 ms, per step time: 29.217 ms\n",
      "epoch: 4 step: 1000, loss is Tensor(shape=[], dtype=Float32, value= 1.79683)\n",
      "Train epoch time: 29243.756 ms, per step time: 29.244 ms\n",
      "epoch: 5 step: 1000, loss is Tensor(shape=[], dtype=Float32, value= 1.42917)\n",
      "Train epoch time: 29197.400 ms, per step time: 29.197 ms\n",
      "epoch: 6 step: 1000, loss is Tensor(shape=[], dtype=Float32, value= 1.24265)\n",
      "Train epoch time: 29199.672 ms, per step time: 29.200 ms\n",
      "epoch: 7 step: 1000, loss is Tensor(shape=[], dtype=Float32, value= 1.48525)\n",
      "Train epoch time: 29193.341 ms, per step time: 29.193 ms\n",
      "epoch: 8 step: 1000, loss is Tensor(shape=[], dtype=Float32, value= 1.2069)\n",
      "Train epoch time: 29198.366 ms, per step time: 29.198 ms\n",
      "epoch: 9 step: 1000, loss is Tensor(shape=[], dtype=Float32, value= 1.17752)\n",
      "Train epoch time: 29210.540 ms, per step time: 29.211 ms\n",
      "epoch: 10 step: 1000, loss is Tensor(shape=[], dtype=Float32, value= 1.25935)\n",
      "Train epoch time: 29180.896 ms, per step time: 29.181 ms\n",
      "================================Start Evaluation================================\n",
      "mean rel_rmse_error: 0.14311510016862303\n",
      "=================================End Evaluation=================================\n",
      "predict total time: 16.270995616912842 s\n"
     ]
    },
    {
     "name": "stdout",
     "output_type": "stream",
     "text": [
      "epoch: 11 step: 1000, loss is Tensor(shape=[], dtype=Float32, value= 0.960248)\n",
      "Train epoch time: 29194.409 ms, per step time: 29.194 ms\n",
      "epoch: 12 step: 1000, loss is Tensor(shape=[], dtype=Float32, value= 0.889677)\n",
      "Train epoch time: 29215.664 ms, per step time: 29.216 ms\n",
      "epoch: 13 step: 1000, loss is Tensor(shape=[], dtype=Float32, value= 1.10265)\n",
      "Train epoch time: 29377.794 ms, per step time: 29.378 ms\n",
      "epoch: 14 step: 1000, loss is Tensor(shape=[], dtype=Float32, value= 0.909662)\n",
      "Train epoch time: 29203.506 ms, per step time: 29.204 ms\n",
      "epoch: 15 step: 1000, loss is Tensor(shape=[], dtype=Float32, value= 1.01007)\n",
      "Train epoch time: 29546.233 ms, per step time: 29.546 ms\n",
      "epoch: 16 step: 1000, loss is Tensor(shape=[], dtype=Float32, value= 0.919893)\n",
      "Train epoch time: 29189.393 ms, per step time: 29.189 ms\n",
      "epoch: 17 step: 1000, loss is Tensor(shape=[], dtype=Float32, value= 0.687654)\n",
      "Train epoch time: 29205.885 ms, per step time: 29.206 ms\n",
      "epoch: 18 step: 1000, loss is Tensor(shape=[], dtype=Float32, value= 0.759018)\n",
      "Train epoch time: 29231.652 ms, per step time: 29.232 ms\n",
      "epoch: 19 step: 1000, loss is Tensor(shape=[], dtype=Float32, value= 1.25076)\n",
      "Train epoch time: 29186.545 ms, per step time: 29.187 ms\n",
      "epoch: 20 step: 1000, loss is Tensor(shape=[], dtype=Float32, value= 1.01581)\n",
      "Train epoch time: 29195.494 ms, per step time: 29.195 ms\n",
      "================================Start Evaluation================================\n",
      "mean rel_rmse_error: 0.11971480035502463\n",
      "=================================End Evaluation=================================\n",
      "predict total time: 12.550410509109497 s\n"
     ]
    },
    {
     "name": "stdout",
     "output_type": "stream",
     "text": [
      "epoch: 21 step: 1000, loss is Tensor(shape=[], dtype=Float32, value= 0.982546)\n",
      "Train epoch time: 29358.283 ms, per step time: 29.358 ms\n",
      "epoch: 22 step: 1000, loss is Tensor(shape=[], dtype=Float32, value= 1.06452)\n",
      "Train epoch time: 29546.726 ms, per step time: 29.547 ms\n",
      "epoch: 23 step: 1000, loss is Tensor(shape=[], dtype=Float32, value= 1.04574)\n",
      "Train epoch time: 29571.793 ms, per step time: 29.572 ms\n",
      "epoch: 24 step: 1000, loss is Tensor(shape=[], dtype=Float32, value= 1.06391)\n",
      "Train epoch time: 30104.813 ms, per step time: 30.105 ms\n",
      "epoch: 25 step: 1000, loss is Tensor(shape=[], dtype=Float32, value= 1.05743)\n",
      "Train epoch time: 29641.186 ms, per step time: 29.641 ms\n",
      "epoch: 26 step: 1000, loss is Tensor(shape=[], dtype=Float32, value= 0.681255)\n",
      "Train epoch time: 29537.563 ms, per step time: 29.538 ms\n",
      "epoch: 27 step: 1000, loss is Tensor(shape=[], dtype=Float32, value= 0.626822)\n",
      "Train epoch time: 30246.987 ms, per step time: 30.247 ms\n",
      "epoch: 28 step: 1000, loss is Tensor(shape=[], dtype=Float32, value= 1.13224)\n",
      "Train epoch time: 29200.057 ms, per step time: 29.200 ms\n",
      "epoch: 29 step: 1000, loss is Tensor(shape=[], dtype=Float32, value= 0.803011)\n",
      "Train epoch time: 29190.660 ms, per step time: 29.191 ms\n",
      "epoch: 30 step: 1000, loss is Tensor(shape=[], dtype=Float32, value= 0.943884)\n",
      "Train epoch time: 29196.691 ms, per step time: 29.197 ms\n",
      "================================Start Evaluation================================\n",
      "mean rel_rmse_error: 0.11301332732010633\n",
      "=================================End Evaluation=================================\n",
      "predict total time: 12.911948680877686 s\n"
     ]
    },
    {
     "name": "stdout",
     "output_type": "stream",
     "text": [
      "epoch: 31 step: 1000, loss is Tensor(shape=[], dtype=Float32, value= 0.941781)\n",
      "Train epoch time: 29424.146 ms, per step time: 29.424 ms\n",
      "epoch: 32 step: 1000, loss is Tensor(shape=[], dtype=Float32, value= 0.742477)\n",
      "Train epoch time: 29319.169 ms, per step time: 29.319 ms\n",
      "epoch: 33 step: 1000, loss is Tensor(shape=[], dtype=Float32, value= 0.978464)\n",
      "Train epoch time: 29247.172 ms, per step time: 29.247 ms\n",
      "epoch: 34 step: 1000, loss is Tensor(shape=[], dtype=Float32, value= 0.769914)\n",
      "Train epoch time: 29275.349 ms, per step time: 29.275 ms\n",
      "epoch: 35 step: 1000, loss is Tensor(shape=[], dtype=Float32, value= 0.942254)\n",
      "Train epoch time: 29213.784 ms, per step time: 29.214 ms\n",
      "epoch: 36 step: 1000, loss is Tensor(shape=[], dtype=Float32, value= 0.877314)\n",
      "Train epoch time: 29201.405 ms, per step time: 29.201 ms\n",
      "epoch: 37 step: 1000, loss is Tensor(shape=[], dtype=Float32, value= 1.06438)\n",
      "Train epoch time: 29176.718 ms, per step time: 29.177 ms\n",
      "epoch: 38 step: 1000, loss is Tensor(shape=[], dtype=Float32, value= 0.799653)\n",
      "Train epoch time: 29202.377 ms, per step time: 29.202 ms\n",
      "epoch: 39 step: 1000, loss is Tensor(shape=[], dtype=Float32, value= 1.24423)\n",
      "Train epoch time: 29216.503 ms, per step time: 29.217 ms\n",
      "epoch: 40 step: 1000, loss is Tensor(shape=[], dtype=Float32, value= 1.0742)\n",
      "Train epoch time: 29226.329 ms, per step time: 29.226 ms\n",
      "================================Start Evaluation================================\n",
      "mean rel_rmse_error: 0.09830496001057326\n",
      "=================================End Evaluation=================================\n",
      "predict total time: 12.018261909484863 s\n"
     ]
    },
    {
     "name": "stdout",
     "output_type": "stream",
     "text": [
      "epoch: 41 step: 1000, loss is Tensor(shape=[], dtype=Float32, value= 0.674138)\n",
      "Train epoch time: 29206.354 ms, per step time: 29.206 ms\n",
      "epoch: 42 step: 1000, loss is Tensor(shape=[], dtype=Float32, value= 0.713916)\n",
      "Train epoch time: 29222.487 ms, per step time: 29.222 ms\n",
      "epoch: 43 step: 1000, loss is Tensor(shape=[], dtype=Float32, value= 0.739123)\n",
      "Train epoch time: 29227.415 ms, per step time: 29.227 ms\n",
      "epoch: 44 step: 1000, loss is Tensor(shape=[], dtype=Float32, value= 0.751716)\n",
      "Train epoch time: 29210.103 ms, per step time: 29.210 ms\n",
      "epoch: 45 step: 1000, loss is Tensor(shape=[], dtype=Float32, value= 0.753634)\n",
      "Train epoch time: 29220.145 ms, per step time: 29.220 ms\n",
      "epoch: 46 step: 1000, loss is Tensor(shape=[], dtype=Float32, value= 1.37903)\n",
      "Train epoch time: 29242.208 ms, per step time: 29.242 ms\n",
      "epoch: 47 step: 1000, loss is Tensor(shape=[], dtype=Float32, value= 0.657267)\n",
      "Train epoch time: 29196.915 ms, per step time: 29.197 ms\n",
      "epoch: 48 step: 1000, loss is Tensor(shape=[], dtype=Float32, value= 1.07679)\n",
      "Train epoch time: 29194.079 ms, per step time: 29.194 ms\n",
      "epoch: 49 step: 1000, loss is Tensor(shape=[], dtype=Float32, value= 0.950665)\n",
      "Train epoch time: 29231.236 ms, per step time: 29.231 ms\n",
      "epoch: 50 step: 1000, loss is Tensor(shape=[], dtype=Float32, value= 0.632)\n",
      "Train epoch time: 29278.595 ms, per step time: 29.279 ms\n",
      "================================Start Evaluation================================\n",
      "mean rel_rmse_error: 0.09380430949758738\n",
      "=================================End Evaluation=================================\n",
      "predict total time: 12.163430452346802 s\n"
     ]
    },
    {
     "name": "stdout",
     "output_type": "stream",
     "text": [
      "epoch: 51 step: 1000, loss is Tensor(shape=[], dtype=Float32, value= 0.827644)\n",
      "Train epoch time: 29212.402 ms, per step time: 29.212 ms\n",
      "epoch: 52 step: 1000, loss is Tensor(shape=[], dtype=Float32, value= 0.827747)\n",
      "Train epoch time: 29630.607 ms, per step time: 29.631 ms\n",
      "epoch: 53 step: 1000, loss is Tensor(shape=[], dtype=Float32, value= 0.756908)\n",
      "Train epoch time: 29256.933 ms, per step time: 29.257 ms\n",
      "epoch: 54 step: 1000, loss is Tensor(shape=[], dtype=Float32, value= 1.01792)\n",
      "Train epoch time: 29282.588 ms, per step time: 29.283 ms\n",
      "epoch: 55 step: 1000, loss is Tensor(shape=[], dtype=Float32, value= 1.04388)\n",
      "Train epoch time: 29207.128 ms, per step time: 29.207 ms\n",
      "epoch: 56 step: 1000, loss is Tensor(shape=[], dtype=Float32, value= 0.603058)\n",
      "Train epoch time: 29221.402 ms, per step time: 29.221 ms\n",
      "epoch: 57 step: 1000, loss is Tensor(shape=[], dtype=Float32, value= 0.890517)\n",
      "Train epoch time: 30039.186 ms, per step time: 30.039 ms\n",
      "epoch: 58 step: 1000, loss is Tensor(shape=[], dtype=Float32, value= 0.790538)\n",
      "Train epoch time: 29466.753 ms, per step time: 29.467 ms\n",
      "epoch: 59 step: 1000, loss is Tensor(shape=[], dtype=Float32, value= 0.869281)\n",
      "Train epoch time: 29330.658 ms, per step time: 29.331 ms\n",
      "epoch: 60 step: 1000, loss is Tensor(shape=[], dtype=Float32, value= 0.821217)\n",
      "Train epoch time: 29348.041 ms, per step time: 29.348 ms\n",
      "================================Start Evaluation================================\n",
      "mean rel_rmse_error: 0.0863247537277639\n",
      "=================================End Evaluation=================================\n",
      "predict total time: 12.859225511550903 s\n"
     ]
    },
    {
     "name": "stdout",
     "output_type": "stream",
     "text": [
      "epoch: 61 step: 1000, loss is Tensor(shape=[], dtype=Float32, value= 0.87228)\n",
      "Train epoch time: 30786.011 ms, per step time: 30.786 ms\n",
      "epoch: 62 step: 1000, loss is Tensor(shape=[], dtype=Float32, value= 0.687325)\n",
      "Train epoch time: 30764.955 ms, per step time: 30.765 ms\n",
      "epoch: 63 step: 1000, loss is Tensor(shape=[], dtype=Float32, value= 0.60158)\n",
      "Train epoch time: 29716.448 ms, per step time: 29.716 ms\n",
      "epoch: 64 step: 1000, loss is Tensor(shape=[], dtype=Float32, value= 0.675408)\n",
      "Train epoch time: 31927.397 ms, per step time: 31.927 ms\n",
      "epoch: 65 step: 1000, loss is Tensor(shape=[], dtype=Float32, value= 0.692979)\n",
      "Train epoch time: 29857.370 ms, per step time: 29.857 ms\n",
      "epoch: 66 step: 1000, loss is Tensor(shape=[], dtype=Float32, value= 0.618027)\n",
      "Train epoch time: 30595.117 ms, per step time: 30.595 ms\n",
      "epoch: 67 step: 1000, loss is Tensor(shape=[], dtype=Float32, value= 1.09081)\n",
      "Train epoch time: 29381.262 ms, per step time: 29.381 ms\n",
      "epoch: 68 step: 1000, loss is Tensor(shape=[], dtype=Float32, value= 0.864668)\n",
      "Train epoch time: 32216.377 ms, per step time: 32.216 ms\n",
      "epoch: 69 step: 1000, loss is Tensor(shape=[], dtype=Float32, value= 0.598948)\n",
      "Train epoch time: 29236.569 ms, per step time: 29.237 ms\n",
      "epoch: 70 step: 1000, loss is Tensor(shape=[], dtype=Float32, value= 0.746658)\n",
      "Train epoch time: 29931.385 ms, per step time: 29.931 ms\n",
      "================================Start Evaluation================================\n",
      "mean rel_rmse_error: 0.07635102467052639\n",
      "=================================End Evaluation=================================\n",
      "predict total time: 18.266414880752563 s\n"
     ]
    },
    {
     "name": "stdout",
     "output_type": "stream",
     "text": [
      "epoch: 71 step: 1000, loss is Tensor(shape=[], dtype=Float32, value= 0.780936)\n",
      "Train epoch time: 29589.539 ms, per step time: 29.590 ms\n",
      "epoch: 72 step: 1000, loss is Tensor(shape=[], dtype=Float32, value= 0.707816)\n",
      "Train epoch time: 29268.130 ms, per step time: 29.268 ms\n",
      "epoch: 73 step: 1000, loss is Tensor(shape=[], dtype=Float32, value= 0.833401)\n",
      "Train epoch time: 29277.664 ms, per step time: 29.278 ms\n",
      "epoch: 74 step: 1000, loss is Tensor(shape=[], dtype=Float32, value= 0.55429)\n",
      "Train epoch time: 29261.874 ms, per step time: 29.262 ms\n",
      "epoch: 75 step: 1000, loss is Tensor(shape=[], dtype=Float32, value= 0.728071)\n",
      "Train epoch time: 29297.286 ms, per step time: 29.297 ms\n",
      "epoch: 76 step: 1000, loss is Tensor(shape=[], dtype=Float32, value= 0.747971)\n",
      "Train epoch time: 29268.882 ms, per step time: 29.269 ms\n",
      "epoch: 77 step: 1000, loss is Tensor(shape=[], dtype=Float32, value= 0.880434)\n",
      "Train epoch time: 29246.762 ms, per step time: 29.247 ms\n",
      "epoch: 78 step: 1000, loss is Tensor(shape=[], dtype=Float32, value= 0.700273)\n",
      "Train epoch time: 29187.310 ms, per step time: 29.187 ms\n",
      "epoch: 79 step: 1000, loss is Tensor(shape=[], dtype=Float32, value= 0.763524)\n",
      "Train epoch time: 29189.722 ms, per step time: 29.190 ms\n",
      "epoch: 80 step: 1000, loss is Tensor(shape=[], dtype=Float32, value= 0.685791)\n",
      "Train epoch time: 29216.225 ms, per step time: 29.216 ms\n",
      "================================Start Evaluation================================\n",
      "mean rel_rmse_error: 0.07988090949878096\n",
      "=================================End Evaluation=================================\n",
      "predict total time: 12.15843653678894 s\n"
     ]
    },
    {
     "name": "stdout",
     "output_type": "stream",
     "text": [
      "epoch: 81 step: 1000, loss is Tensor(shape=[], dtype=Float32, value= 1.11769)\n",
      "Train epoch time: 29326.312 ms, per step time: 29.326 ms\n",
      "epoch: 82 step: 1000, loss is Tensor(shape=[], dtype=Float32, value= 0.564208)\n",
      "Train epoch time: 29442.480 ms, per step time: 29.442 ms\n",
      "epoch: 83 step: 1000, loss is Tensor(shape=[], dtype=Float32, value= 0.799814)\n",
      "Train epoch time: 29185.925 ms, per step time: 29.186 ms\n",
      "epoch: 84 step: 1000, loss is Tensor(shape=[], dtype=Float32, value= 0.766812)\n",
      "Train epoch time: 29329.175 ms, per step time: 29.329 ms\n",
      "epoch: 85 step: 1000, loss is Tensor(shape=[], dtype=Float32, value= 0.728292)\n",
      "Train epoch time: 29295.092 ms, per step time: 29.295 ms\n",
      "epoch: 86 step: 1000, loss is Tensor(shape=[], dtype=Float32, value= 0.577499)\n",
      "Train epoch time: 29306.544 ms, per step time: 29.307 ms\n",
      "epoch: 87 step: 1000, loss is Tensor(shape=[], dtype=Float32, value= 0.612509)\n",
      "Train epoch time: 29236.402 ms, per step time: 29.236 ms\n",
      "epoch: 88 step: 1000, loss is Tensor(shape=[], dtype=Float32, value= 0.850033)\n",
      "Train epoch time: 29268.509 ms, per step time: 29.269 ms\n",
      "epoch: 89 step: 1000, loss is Tensor(shape=[], dtype=Float32, value= 0.760322)\n",
      "Train epoch time: 29272.296 ms, per step time: 29.272 ms\n",
      "epoch: 90 step: 1000, loss is Tensor(shape=[], dtype=Float32, value= 0.689177)\n",
      "Train epoch time: 29242.748 ms, per step time: 29.243 ms\n",
      "================================Start Evaluation================================\n",
      "mean rel_rmse_error: 0.0766962496554479\n",
      "=================================End Evaluation=================================\n",
      "predict total time: 12.717503547668457 s\n"
     ]
    },
    {
     "name": "stdout",
     "output_type": "stream",
     "text": [
      "epoch: 91 step: 1000, loss is Tensor(shape=[], dtype=Float32, value= 0.690332)\n",
      "Train epoch time: 29265.776 ms, per step time: 29.266 ms\n",
      "epoch: 92 step: 1000, loss is Tensor(shape=[], dtype=Float32, value= 0.616666)\n",
      "Train epoch time: 29263.663 ms, per step time: 29.264 ms\n",
      "epoch: 93 step: 1000, loss is Tensor(shape=[], dtype=Float32, value= 0.814858)\n",
      "Train epoch time: 29193.680 ms, per step time: 29.194 ms\n",
      "epoch: 94 step: 1000, loss is Tensor(shape=[], dtype=Float32, value= 0.623177)\n",
      "Train epoch time: 29343.511 ms, per step time: 29.344 ms\n",
      "epoch: 95 step: 1000, loss is Tensor(shape=[], dtype=Float32, value= 1.11235)\n",
      "Train epoch time: 29275.233 ms, per step time: 29.275 ms\n",
      "epoch: 96 step: 1000, loss is Tensor(shape=[], dtype=Float32, value= 0.639179)\n",
      "Train epoch time: 29253.858 ms, per step time: 29.254 ms\n",
      "epoch: 97 step: 1000, loss is Tensor(shape=[], dtype=Float32, value= 0.518209)\n",
      "Train epoch time: 29313.646 ms, per step time: 29.314 ms\n",
      "epoch: 98 step: 1000, loss is Tensor(shape=[], dtype=Float32, value= 0.608644)\n",
      "Train epoch time: 29322.556 ms, per step time: 29.323 ms\n",
      "epoch: 99 step: 1000, loss is Tensor(shape=[], dtype=Float32, value= 0.686009)\n",
      "Train epoch time: 29325.953 ms, per step time: 29.326 ms\n",
      "epoch: 100 step: 1000, loss is Tensor(shape=[], dtype=Float32, value= 0.715453)\n",
      "Train epoch time: 29452.805 ms, per step time: 29.453 ms\n",
      "================================Start Evaluation================================\n",
      "mean rel_rmse_error: 0.07306335768755526\n",
      "=================================End Evaluation=================================\n",
      "predict total time: 12.973973035812378 s\n"
     ]
    },
    {
     "name": "stdout",
     "output_type": "stream",
     "text": [
      "epoch: 101 step: 1000, loss is Tensor(shape=[], dtype=Float32, value= 0.584815)\n",
      "Train epoch time: 29313.208 ms, per step time: 29.313 ms\n",
      "epoch: 102 step: 1000, loss is Tensor(shape=[], dtype=Float32, value= 0.79604)\n",
      "Train epoch time: 29314.559 ms, per step time: 29.315 ms\n",
      "epoch: 103 step: 1000, loss is Tensor(shape=[], dtype=Float32, value= 1.02088)\n",
      "Train epoch time: 29295.960 ms, per step time: 29.296 ms\n",
      "epoch: 104 step: 1000, loss is Tensor(shape=[], dtype=Float32, value= 0.779254)\n",
      "Train epoch time: 29297.620 ms, per step time: 29.298 ms\n",
      "epoch: 105 step: 1000, loss is Tensor(shape=[], dtype=Float32, value= 0.686904)\n",
      "Train epoch time: 29283.531 ms, per step time: 29.284 ms\n",
      "epoch: 106 step: 1000, loss is Tensor(shape=[], dtype=Float32, value= 0.659496)\n",
      "Train epoch time: 29310.753 ms, per step time: 29.311 ms\n",
      "epoch: 107 step: 1000, loss is Tensor(shape=[], dtype=Float32, value= 0.628445)\n",
      "Train epoch time: 29311.042 ms, per step time: 29.311 ms\n",
      "epoch: 108 step: 1000, loss is Tensor(shape=[], dtype=Float32, value= 0.749816)\n",
      "Train epoch time: 29193.252 ms, per step time: 29.193 ms\n",
      "epoch: 109 step: 1000, loss is Tensor(shape=[], dtype=Float32, value= 0.656084)\n",
      "Train epoch time: 29177.507 ms, per step time: 29.178 ms\n",
      "epoch: 110 step: 1000, loss is Tensor(shape=[], dtype=Float32, value= 0.57158)\n",
      "Train epoch time: 29327.118 ms, per step time: 29.327 ms\n",
      "================================Start Evaluation================================\n",
      "mean rel_rmse_error: 0.07108213020581752\n",
      "=================================End Evaluation=================================\n",
      "predict total time: 14.267840147018433 s\n"
     ]
    },
    {
     "name": "stdout",
     "output_type": "stream",
     "text": [
      "epoch: 111 step: 1000, loss is Tensor(shape=[], dtype=Float32, value= 0.702142)\n",
      "Train epoch time: 29402.377 ms, per step time: 29.402 ms\n",
      "epoch: 112 step: 1000, loss is Tensor(shape=[], dtype=Float32, value= 0.684048)\n",
      "Train epoch time: 29327.054 ms, per step time: 29.327 ms\n",
      "epoch: 113 step: 1000, loss is Tensor(shape=[], dtype=Float32, value= 0.585024)\n",
      "Train epoch time: 29266.951 ms, per step time: 29.267 ms\n",
      "epoch: 114 step: 1000, loss is Tensor(shape=[], dtype=Float32, value= 0.662479)\n",
      "Train epoch time: 29266.174 ms, per step time: 29.266 ms\n",
      "epoch: 115 step: 1000, loss is Tensor(shape=[], dtype=Float32, value= 0.506824)\n",
      "Train epoch time: 29254.582 ms, per step time: 29.255 ms\n",
      "epoch: 116 step: 1000, loss is Tensor(shape=[], dtype=Float32, value= 0.649985)\n",
      "Train epoch time: 29276.359 ms, per step time: 29.276 ms\n",
      "epoch: 117 step: 1000, loss is Tensor(shape=[], dtype=Float32, value= 0.777153)\n",
      "Train epoch time: 29271.347 ms, per step time: 29.271 ms\n",
      "epoch: 118 step: 1000, loss is Tensor(shape=[], dtype=Float32, value= 0.528678)\n",
      "Train epoch time: 29249.841 ms, per step time: 29.250 ms\n",
      "epoch: 119 step: 1000, loss is Tensor(shape=[], dtype=Float32, value= 0.448919)\n",
      "Train epoch time: 29253.028 ms, per step time: 29.253 ms\n",
      "epoch: 120 step: 1000, loss is Tensor(shape=[], dtype=Float32, value= 0.651388)\n",
      "Train epoch time: 29241.862 ms, per step time: 29.242 ms\n",
      "================================Start Evaluation================================\n",
      "mean rel_rmse_error: 0.06793878399766981\n",
      "=================================End Evaluation=================================\n",
      "predict total time: 12.583813190460205 s\n"
     ]
    },
    {
     "name": "stdout",
     "output_type": "stream",
     "text": [
      "epoch: 121 step: 1000, loss is Tensor(shape=[], dtype=Float32, value= 0.657592)\n",
      "Train epoch time: 29222.838 ms, per step time: 29.223 ms\n",
      "epoch: 122 step: 1000, loss is Tensor(shape=[], dtype=Float32, value= 0.674226)\n",
      "Train epoch time: 29266.756 ms, per step time: 29.267 ms\n",
      "epoch: 123 step: 1000, loss is Tensor(shape=[], dtype=Float32, value= 0.758586)\n",
      "Train epoch time: 29237.832 ms, per step time: 29.238 ms\n",
      "epoch: 124 step: 1000, loss is Tensor(shape=[], dtype=Float32, value= 0.66191)\n",
      "Train epoch time: 29264.856 ms, per step time: 29.265 ms\n",
      "epoch: 125 step: 1000, loss is Tensor(shape=[], dtype=Float32, value= 0.572997)\n",
      "Train epoch time: 29244.422 ms, per step time: 29.244 ms\n",
      "epoch: 126 step: 1000, loss is Tensor(shape=[], dtype=Float32, value= 0.776778)\n",
      "Train epoch time: 29309.235 ms, per step time: 29.309 ms\n",
      "epoch: 127 step: 1000, loss is Tensor(shape=[], dtype=Float32, value= 0.857609)\n",
      "Train epoch time: 29271.844 ms, per step time: 29.272 ms\n",
      "epoch: 128 step: 1000, loss is Tensor(shape=[], dtype=Float32, value= 0.732833)\n",
      "Train epoch time: 29202.758 ms, per step time: 29.203 ms\n",
      "epoch: 129 step: 1000, loss is Tensor(shape=[], dtype=Float32, value= 0.585505)\n",
      "Train epoch time: 29226.299 ms, per step time: 29.226 ms\n",
      "epoch: 130 step: 1000, loss is Tensor(shape=[], dtype=Float32, value= 0.724914)\n",
      "Train epoch time: 29198.324 ms, per step time: 29.198 ms\n",
      "================================Start Evaluation================================\n",
      "mean rel_rmse_error: 0.06657757061719895\n",
      "=================================End Evaluation=================================\n",
      "predict total time: 12.085848569869995 s\n"
     ]
    },
    {
     "name": "stdout",
     "output_type": "stream",
     "text": [
      "epoch: 131 step: 1000, loss is Tensor(shape=[], dtype=Float32, value= 0.903385)\n",
      "Train epoch time: 29186.732 ms, per step time: 29.187 ms\n",
      "epoch: 132 step: 1000, loss is Tensor(shape=[], dtype=Float32, value= 0.668677)\n",
      "Train epoch time: 29200.472 ms, per step time: 29.200 ms\n",
      "epoch: 133 step: 1000, loss is Tensor(shape=[], dtype=Float32, value= 0.511895)\n",
      "Train epoch time: 29201.250 ms, per step time: 29.201 ms\n",
      "epoch: 134 step: 1000, loss is Tensor(shape=[], dtype=Float32, value= 0.727842)\n",
      "Train epoch time: 29196.617 ms, per step time: 29.197 ms\n",
      "epoch: 135 step: 1000, loss is Tensor(shape=[], dtype=Float32, value= 0.664106)\n",
      "Train epoch time: 29188.297 ms, per step time: 29.188 ms\n",
      "epoch: 136 step: 1000, loss is Tensor(shape=[], dtype=Float32, value= 0.782425)\n",
      "Train epoch time: 29191.706 ms, per step time: 29.192 ms\n",
      "epoch: 137 step: 1000, loss is Tensor(shape=[], dtype=Float32, value= 0.643643)\n",
      "Train epoch time: 29192.865 ms, per step time: 29.193 ms\n",
      "epoch: 138 step: 1000, loss is Tensor(shape=[], dtype=Float32, value= 0.68979)\n",
      "Train epoch time: 29195.309 ms, per step time: 29.195 ms\n",
      "epoch: 139 step: 1000, loss is Tensor(shape=[], dtype=Float32, value= 0.689249)\n",
      "Train epoch time: 29186.901 ms, per step time: 29.187 ms\n",
      "epoch: 140 step: 1000, loss is Tensor(shape=[], dtype=Float32, value= 0.66018)\n",
      "Train epoch time: 29185.664 ms, per step time: 29.186 ms\n",
      "================================Start Evaluation================================\n",
      "mean rel_rmse_error: 0.06631039097066968\n",
      "=================================End Evaluation=================================\n",
      "predict total time: 11.978857040405273 s\n"
     ]
    },
    {
     "name": "stdout",
     "output_type": "stream",
     "text": [
      "epoch: 141 step: 1000, loss is Tensor(shape=[], dtype=Float32, value= 0.667819)\n",
      "Train epoch time: 29181.800 ms, per step time: 29.182 ms\n",
      "epoch: 142 step: 1000, loss is Tensor(shape=[], dtype=Float32, value= 0.610858)\n",
      "Train epoch time: 29203.687 ms, per step time: 29.204 ms\n",
      "epoch: 143 step: 1000, loss is Tensor(shape=[], dtype=Float32, value= 0.616083)\n",
      "Train epoch time: 29199.107 ms, per step time: 29.199 ms\n",
      "epoch: 144 step: 1000, loss is Tensor(shape=[], dtype=Float32, value= 0.609115)\n",
      "Train epoch time: 29302.156 ms, per step time: 29.302 ms\n",
      "epoch: 145 step: 1000, loss is Tensor(shape=[], dtype=Float32, value= 0.518936)\n",
      "Train epoch time: 29234.649 ms, per step time: 29.235 ms\n",
      "epoch: 146 step: 1000, loss is Tensor(shape=[], dtype=Float32, value= 0.822775)\n",
      "Train epoch time: 29228.318 ms, per step time: 29.228 ms\n",
      "epoch: 147 step: 1000, loss is Tensor(shape=[], dtype=Float32, value= 0.802282)\n",
      "Train epoch time: 29231.589 ms, per step time: 29.232 ms\n",
      "epoch: 148 step: 1000, loss is Tensor(shape=[], dtype=Float32, value= 0.669333)\n",
      "Train epoch time: 29285.277 ms, per step time: 29.285 ms\n",
      "epoch: 149 step: 1000, loss is Tensor(shape=[], dtype=Float32, value= 0.615759)\n",
      "Train epoch time: 29311.589 ms, per step time: 29.312 ms\n",
      "epoch: 150 step: 1000, loss is Tensor(shape=[], dtype=Float32, value= 0.75713)\n",
      "Train epoch time: 29280.815 ms, per step time: 29.281 ms\n",
      "================================Start Evaluation================================\n",
      "mean rel_rmse_error: 0.06585168887209147\n",
      "=================================End Evaluation=================================\n",
      "predict total time: 12.599207639694214 s\n"
     ]
    }
   ],
   "source": [
    "solver.train(epoch=optimizer_params[\"train_epochs\"],\n",
    "             train_dataset=train_dataset,\n",
    "             callbacks=[LossMonitor(), TimeMonitor(), pred_cb, ckpt_cb],\n",
    "             dataset_sink_mode=True)"
   ]
  }
 ],
 "metadata": {
  "kernelspec": {
   "display_name": "Python 3.8.0 64-bit",
   "language": "python",
   "name": "python3"
  },
  "language_info": {
   "codemirror_mode": {
    "name": "ipython",
    "version": 3
   },
   "file_extension": ".py",
   "mimetype": "text/x-python",
   "name": "python",
   "nbconvert_exporter": "python",
   "pygments_lexer": "ipython3",
   "version": "3.8.0"
  },
  "vscode": {
   "interpreter": {
    "hash": "df0893f56f349688326838aaeea0de204df53a132722cbd565e54b24a8fec5f6"
   }
  }
 },
 "nbformat": 4,
 "nbformat_minor": 1
}
